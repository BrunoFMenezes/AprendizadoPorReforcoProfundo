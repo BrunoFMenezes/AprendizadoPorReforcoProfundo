{
  "nbformat": 4,
  "nbformat_minor": 0,
  "metadata": {
    "colab": {
      "provenance": []
    },
    "kernelspec": {
      "name": "python3",
      "display_name": "Python 3"
    },
    "language_info": {
      "name": "python"
    }
  },
  "cells": [
    {
      "cell_type": "markdown",
      "metadata": {
        "id": "uu-WIYcX9mHM"
      },
      "source": [
        "# Base para Todas Versões"
      ]
    },
    {
      "cell_type": "markdown",
      "metadata": {
        "id": "WXpB_90z9Wi7"
      },
      "source": [
        "## Instalações"
      ]
    },
    {
      "cell_type": "code",
      "source": [
        "!pip install tensordict\n",
        "!pip install torchrl"
      ],
      "metadata": {
        "id": "-Um7q47b7Mb5",
        "colab": {
          "base_uri": "https://localhost:8080/"
        },
        "outputId": "8ebee882-2b0f-4a48-80a5-9007aac021d2"
      },
      "execution_count": 1,
      "outputs": [
        {
          "output_type": "stream",
          "name": "stdout",
          "text": [
            "Collecting tensordict\n",
            "  Downloading tensordict-0.5.0-cp310-cp310-manylinux1_x86_64.whl.metadata (22 kB)\n",
            "Requirement already satisfied: torch>=2.4.0 in /usr/local/lib/python3.10/dist-packages (from tensordict) (2.4.0+cu121)\n",
            "Requirement already satisfied: numpy in /usr/local/lib/python3.10/dist-packages (from tensordict) (1.26.4)\n",
            "Requirement already satisfied: cloudpickle in /usr/local/lib/python3.10/dist-packages (from tensordict) (2.2.1)\n",
            "Collecting orjson (from tensordict)\n",
            "  Downloading orjson-3.10.7-cp310-cp310-manylinux_2_17_x86_64.manylinux2014_x86_64.whl.metadata (50 kB)\n",
            "\u001b[2K     \u001b[90m━━━━━━━━━━━━━━━━━━━━━━━━━━━━━━━━━━━━━━━━\u001b[0m \u001b[32m50.4/50.4 kB\u001b[0m \u001b[31m891.4 kB/s\u001b[0m eta \u001b[36m0:00:00\u001b[0m\n",
            "\u001b[?25hRequirement already satisfied: filelock in /usr/local/lib/python3.10/dist-packages (from torch>=2.4.0->tensordict) (3.15.4)\n",
            "Requirement already satisfied: typing-extensions>=4.8.0 in /usr/local/lib/python3.10/dist-packages (from torch>=2.4.0->tensordict) (4.12.2)\n",
            "Requirement already satisfied: sympy in /usr/local/lib/python3.10/dist-packages (from torch>=2.4.0->tensordict) (1.13.2)\n",
            "Requirement already satisfied: networkx in /usr/local/lib/python3.10/dist-packages (from torch>=2.4.0->tensordict) (3.3)\n",
            "Requirement already satisfied: jinja2 in /usr/local/lib/python3.10/dist-packages (from torch>=2.4.0->tensordict) (3.1.4)\n",
            "Requirement already satisfied: fsspec in /usr/local/lib/python3.10/dist-packages (from torch>=2.4.0->tensordict) (2024.6.1)\n",
            "Requirement already satisfied: MarkupSafe>=2.0 in /usr/local/lib/python3.10/dist-packages (from jinja2->torch>=2.4.0->tensordict) (2.1.5)\n",
            "Requirement already satisfied: mpmath<1.4,>=1.1.0 in /usr/local/lib/python3.10/dist-packages (from sympy->torch>=2.4.0->tensordict) (1.3.0)\n",
            "Downloading tensordict-0.5.0-cp310-cp310-manylinux1_x86_64.whl (336 kB)\n",
            "\u001b[2K   \u001b[90m━━━━━━━━━━━━━━━━━━━━━━━━━━━━━━━━━━━━━━━━\u001b[0m \u001b[32m336.1/336.1 kB\u001b[0m \u001b[31m6.6 MB/s\u001b[0m eta \u001b[36m0:00:00\u001b[0m\n",
            "\u001b[?25hDownloading orjson-3.10.7-cp310-cp310-manylinux_2_17_x86_64.manylinux2014_x86_64.whl (141 kB)\n",
            "\u001b[2K   \u001b[90m━━━━━━━━━━━━━━━━━━━━━━━━━━━━━━━━━━━━━━━━\u001b[0m \u001b[32m141.9/141.9 kB\u001b[0m \u001b[31m6.1 MB/s\u001b[0m eta \u001b[36m0:00:00\u001b[0m\n",
            "\u001b[?25hInstalling collected packages: orjson, tensordict\n",
            "Successfully installed orjson-3.10.7 tensordict-0.5.0\n",
            "Collecting torchrl\n",
            "  Downloading torchrl-0.5.0-cp310-cp310-manylinux1_x86_64.whl.metadata (33 kB)\n",
            "Requirement already satisfied: torch>=2.3.0 in /usr/local/lib/python3.10/dist-packages (from torchrl) (2.4.0+cu121)\n",
            "Requirement already satisfied: numpy in /usr/local/lib/python3.10/dist-packages (from torchrl) (1.26.4)\n",
            "Requirement already satisfied: packaging in /usr/local/lib/python3.10/dist-packages (from torchrl) (24.1)\n",
            "Requirement already satisfied: cloudpickle in /usr/local/lib/python3.10/dist-packages (from torchrl) (2.2.1)\n",
            "Requirement already satisfied: tensordict>=0.5.0 in /usr/local/lib/python3.10/dist-packages (from torchrl) (0.5.0)\n",
            "Requirement already satisfied: orjson in /usr/local/lib/python3.10/dist-packages (from tensordict>=0.5.0->torchrl) (3.10.7)\n",
            "Requirement already satisfied: filelock in /usr/local/lib/python3.10/dist-packages (from torch>=2.3.0->torchrl) (3.15.4)\n",
            "Requirement already satisfied: typing-extensions>=4.8.0 in /usr/local/lib/python3.10/dist-packages (from torch>=2.3.0->torchrl) (4.12.2)\n",
            "Requirement already satisfied: sympy in /usr/local/lib/python3.10/dist-packages (from torch>=2.3.0->torchrl) (1.13.2)\n",
            "Requirement already satisfied: networkx in /usr/local/lib/python3.10/dist-packages (from torch>=2.3.0->torchrl) (3.3)\n",
            "Requirement already satisfied: jinja2 in /usr/local/lib/python3.10/dist-packages (from torch>=2.3.0->torchrl) (3.1.4)\n",
            "Requirement already satisfied: fsspec in /usr/local/lib/python3.10/dist-packages (from torch>=2.3.0->torchrl) (2024.6.1)\n",
            "Requirement already satisfied: MarkupSafe>=2.0 in /usr/local/lib/python3.10/dist-packages (from jinja2->torch>=2.3.0->torchrl) (2.1.5)\n",
            "Requirement already satisfied: mpmath<1.4,>=1.1.0 in /usr/local/lib/python3.10/dist-packages (from sympy->torch>=2.3.0->torchrl) (1.3.0)\n",
            "Downloading torchrl-0.5.0-cp310-cp310-manylinux1_x86_64.whl (987 kB)\n",
            "\u001b[2K   \u001b[90m━━━━━━━━━━━━━━━━━━━━━━━━━━━━━━━━━━━━━━━━\u001b[0m \u001b[32m988.0/988.0 kB\u001b[0m \u001b[31m9.7 MB/s\u001b[0m eta \u001b[36m0:00:00\u001b[0m\n",
            "\u001b[?25hInstalling collected packages: torchrl\n",
            "Successfully installed torchrl-0.5.0\n"
          ]
        }
      ]
    },
    {
      "cell_type": "code",
      "source": [
        "# !pip install tensordict-nightly\n",
        "# !pip install torchrl-nightly"
      ],
      "metadata": {
        "id": "qu3I-JcHNV_D"
      },
      "execution_count": 2,
      "outputs": []
    },
    {
      "cell_type": "code",
      "source": [
        "# !pip install --pre torch torchvision torchaudio --index-url https://download.pytorch.org/whl/nightly/cu118"
      ],
      "metadata": {
        "id": "CJNZUAKHPKQ_"
      },
      "execution_count": 3,
      "outputs": []
    },
    {
      "cell_type": "code",
      "execution_count": 4,
      "metadata": {
        "id": "3xSzHJZ_-LtU"
      },
      "outputs": [],
      "source": [
        "# !pip install tensordict # Esse pacote é uma biblioteca que fornece um dicionário de tensores\n",
        "# tensordict-0.4.0-cp310-cp310-manylinux1_x86_64.whl.metadata"
      ]
    },
    {
      "cell_type": "code",
      "execution_count": 5,
      "metadata": {
        "id": "vJVXgyxi9dhT",
        "colab": {
          "base_uri": "https://localhost:8080/"
        },
        "outputId": "7208c4c0-63e0-4a7c-bc20-a346f371d677"
      },
      "outputs": [
        {
          "output_type": "stream",
          "name": "stdout",
          "text": [
            "Requirement already satisfied: torchrl in /usr/local/lib/python3.10/dist-packages (0.5.0)\n",
            "Requirement already satisfied: torch>=2.3.0 in /usr/local/lib/python3.10/dist-packages (from torchrl) (2.4.0+cu121)\n",
            "Requirement already satisfied: numpy in /usr/local/lib/python3.10/dist-packages (from torchrl) (1.26.4)\n",
            "Requirement already satisfied: packaging in /usr/local/lib/python3.10/dist-packages (from torchrl) (24.1)\n",
            "Requirement already satisfied: cloudpickle in /usr/local/lib/python3.10/dist-packages (from torchrl) (2.2.1)\n",
            "Requirement already satisfied: tensordict>=0.5.0 in /usr/local/lib/python3.10/dist-packages (from torchrl) (0.5.0)\n",
            "Requirement already satisfied: orjson in /usr/local/lib/python3.10/dist-packages (from tensordict>=0.5.0->torchrl) (3.10.7)\n",
            "Requirement already satisfied: filelock in /usr/local/lib/python3.10/dist-packages (from torch>=2.3.0->torchrl) (3.15.4)\n",
            "Requirement already satisfied: typing-extensions>=4.8.0 in /usr/local/lib/python3.10/dist-packages (from torch>=2.3.0->torchrl) (4.12.2)\n",
            "Requirement already satisfied: sympy in /usr/local/lib/python3.10/dist-packages (from torch>=2.3.0->torchrl) (1.13.2)\n",
            "Requirement already satisfied: networkx in /usr/local/lib/python3.10/dist-packages (from torch>=2.3.0->torchrl) (3.3)\n",
            "Requirement already satisfied: jinja2 in /usr/local/lib/python3.10/dist-packages (from torch>=2.3.0->torchrl) (3.1.4)\n",
            "Requirement already satisfied: fsspec in /usr/local/lib/python3.10/dist-packages (from torch>=2.3.0->torchrl) (2024.6.1)\n",
            "Requirement already satisfied: MarkupSafe>=2.0 in /usr/local/lib/python3.10/dist-packages (from jinja2->torch>=2.3.0->torchrl) (2.1.5)\n",
            "Requirement already satisfied: mpmath<1.4,>=1.1.0 in /usr/local/lib/python3.10/dist-packages (from sympy->torch>=2.3.0->torchrl) (1.3.0)\n"
          ]
        }
      ],
      "source": [
        "# !pip install --upgrade torchrl\n",
        "!pip install torchrl # torchrl é um complemento focado em fornecer ferramentas e utilitários específicos para Aprendizado por Reforço."
      ]
    },
    {
      "cell_type": "code",
      "execution_count": 6,
      "metadata": {
        "id": "eIuYwlD1-KFT",
        "colab": {
          "base_uri": "https://localhost:8080/"
        },
        "outputId": "9e1241ba-7375-4d9f-f2c1-ba80136d2a8b"
      },
      "outputs": [
        {
          "output_type": "stream",
          "name": "stdout",
          "text": [
            "Requirement already satisfied: torch in /usr/local/lib/python3.10/dist-packages (2.4.0+cu121)\n",
            "Collecting torch\n",
            "  Downloading torch-2.4.1-cp310-cp310-manylinux1_x86_64.whl.metadata (26 kB)\n",
            "Requirement already satisfied: torchvision in /usr/local/lib/python3.10/dist-packages (0.19.0+cu121)\n",
            "Collecting torchvision\n",
            "  Downloading torchvision-0.19.1-cp310-cp310-manylinux1_x86_64.whl.metadata (6.0 kB)\n",
            "Requirement already satisfied: filelock in /usr/local/lib/python3.10/dist-packages (from torch) (3.15.4)\n",
            "Requirement already satisfied: typing-extensions>=4.8.0 in /usr/local/lib/python3.10/dist-packages (from torch) (4.12.2)\n",
            "Requirement already satisfied: sympy in /usr/local/lib/python3.10/dist-packages (from torch) (1.13.2)\n",
            "Requirement already satisfied: networkx in /usr/local/lib/python3.10/dist-packages (from torch) (3.3)\n",
            "Requirement already satisfied: jinja2 in /usr/local/lib/python3.10/dist-packages (from torch) (3.1.4)\n",
            "Requirement already satisfied: fsspec in /usr/local/lib/python3.10/dist-packages (from torch) (2024.6.1)\n",
            "Collecting nvidia-cuda-nvrtc-cu12==12.1.105 (from torch)\n",
            "  Downloading nvidia_cuda_nvrtc_cu12-12.1.105-py3-none-manylinux1_x86_64.whl.metadata (1.5 kB)\n",
            "Collecting nvidia-cuda-runtime-cu12==12.1.105 (from torch)\n",
            "  Downloading nvidia_cuda_runtime_cu12-12.1.105-py3-none-manylinux1_x86_64.whl.metadata (1.5 kB)\n",
            "Collecting nvidia-cuda-cupti-cu12==12.1.105 (from torch)\n",
            "  Downloading nvidia_cuda_cupti_cu12-12.1.105-py3-none-manylinux1_x86_64.whl.metadata (1.6 kB)\n",
            "Collecting nvidia-cudnn-cu12==9.1.0.70 (from torch)\n",
            "  Downloading nvidia_cudnn_cu12-9.1.0.70-py3-none-manylinux2014_x86_64.whl.metadata (1.6 kB)\n",
            "Collecting nvidia-cublas-cu12==12.1.3.1 (from torch)\n",
            "  Downloading nvidia_cublas_cu12-12.1.3.1-py3-none-manylinux1_x86_64.whl.metadata (1.5 kB)\n",
            "Collecting nvidia-cufft-cu12==11.0.2.54 (from torch)\n",
            "  Downloading nvidia_cufft_cu12-11.0.2.54-py3-none-manylinux1_x86_64.whl.metadata (1.5 kB)\n",
            "Collecting nvidia-curand-cu12==10.3.2.106 (from torch)\n",
            "  Downloading nvidia_curand_cu12-10.3.2.106-py3-none-manylinux1_x86_64.whl.metadata (1.5 kB)\n",
            "Collecting nvidia-cusolver-cu12==11.4.5.107 (from torch)\n",
            "  Downloading nvidia_cusolver_cu12-11.4.5.107-py3-none-manylinux1_x86_64.whl.metadata (1.6 kB)\n",
            "Collecting nvidia-cusparse-cu12==12.1.0.106 (from torch)\n",
            "  Downloading nvidia_cusparse_cu12-12.1.0.106-py3-none-manylinux1_x86_64.whl.metadata (1.6 kB)\n",
            "Collecting nvidia-nccl-cu12==2.20.5 (from torch)\n",
            "  Downloading nvidia_nccl_cu12-2.20.5-py3-none-manylinux2014_x86_64.whl.metadata (1.8 kB)\n",
            "Collecting nvidia-nvtx-cu12==12.1.105 (from torch)\n",
            "  Downloading nvidia_nvtx_cu12-12.1.105-py3-none-manylinux1_x86_64.whl.metadata (1.7 kB)\n",
            "Collecting triton==3.0.0 (from torch)\n",
            "  Downloading triton-3.0.0-1-cp310-cp310-manylinux2014_x86_64.manylinux_2_17_x86_64.whl.metadata (1.3 kB)\n",
            "Collecting nvidia-nvjitlink-cu12 (from nvidia-cusolver-cu12==11.4.5.107->torch)\n",
            "  Downloading nvidia_nvjitlink_cu12-12.6.68-py3-none-manylinux2014_x86_64.whl.metadata (1.5 kB)\n",
            "Requirement already satisfied: numpy in /usr/local/lib/python3.10/dist-packages (from torchvision) (1.26.4)\n",
            "Requirement already satisfied: pillow!=8.3.*,>=5.3.0 in /usr/local/lib/python3.10/dist-packages (from torchvision) (9.4.0)\n",
            "Requirement already satisfied: MarkupSafe>=2.0 in /usr/local/lib/python3.10/dist-packages (from jinja2->torch) (2.1.5)\n",
            "Requirement already satisfied: mpmath<1.4,>=1.1.0 in /usr/local/lib/python3.10/dist-packages (from sympy->torch) (1.3.0)\n",
            "Downloading torch-2.4.1-cp310-cp310-manylinux1_x86_64.whl (797.1 MB)\n",
            "\u001b[2K   \u001b[90m━━━━━━━━━━━━━━━━━━━━━━━━━━━━━━━━━━━━━━━━\u001b[0m \u001b[32m797.1/797.1 MB\u001b[0m \u001b[31m2.2 MB/s\u001b[0m eta \u001b[36m0:00:00\u001b[0m\n",
            "\u001b[?25hDownloading nvidia_cublas_cu12-12.1.3.1-py3-none-manylinux1_x86_64.whl (410.6 MB)\n",
            "\u001b[2K   \u001b[90m━━━━━━━━━━━━━━━━━━━━━━━━━━━━━━━━━━━━━━━━\u001b[0m \u001b[32m410.6/410.6 MB\u001b[0m \u001b[31m3.6 MB/s\u001b[0m eta \u001b[36m0:00:00\u001b[0m\n",
            "\u001b[?25hDownloading nvidia_cuda_cupti_cu12-12.1.105-py3-none-manylinux1_x86_64.whl (14.1 MB)\n",
            "\u001b[2K   \u001b[90m━━━━━━━━━━━━━━━━━━━━━━━━━━━━━━━━━━━━━━━━\u001b[0m \u001b[32m14.1/14.1 MB\u001b[0m \u001b[31m92.9 MB/s\u001b[0m eta \u001b[36m0:00:00\u001b[0m\n",
            "\u001b[?25hDownloading nvidia_cuda_nvrtc_cu12-12.1.105-py3-none-manylinux1_x86_64.whl (23.7 MB)\n",
            "\u001b[2K   \u001b[90m━━━━━━━━━━━━━━━━━━━━━━━━━━━━━━━━━━━━━━━━\u001b[0m \u001b[32m23.7/23.7 MB\u001b[0m \u001b[31m75.8 MB/s\u001b[0m eta \u001b[36m0:00:00\u001b[0m\n",
            "\u001b[?25hDownloading nvidia_cuda_runtime_cu12-12.1.105-py3-none-manylinux1_x86_64.whl (823 kB)\n",
            "\u001b[2K   \u001b[90m━━━━━━━━━━━━━━━━━━━━━━━━━━━━━━━━━━━━━━━━\u001b[0m \u001b[32m823.6/823.6 kB\u001b[0m \u001b[31m55.4 MB/s\u001b[0m eta \u001b[36m0:00:00\u001b[0m\n",
            "\u001b[?25hDownloading nvidia_cudnn_cu12-9.1.0.70-py3-none-manylinux2014_x86_64.whl (664.8 MB)\n",
            "\u001b[2K   \u001b[90m━━━━━━━━━━━━━━━━━━━━━━━━━━━━━━━━━━━━━━━━\u001b[0m \u001b[32m664.8/664.8 MB\u001b[0m \u001b[31m2.1 MB/s\u001b[0m eta \u001b[36m0:00:00\u001b[0m\n",
            "\u001b[?25hDownloading nvidia_cufft_cu12-11.0.2.54-py3-none-manylinux1_x86_64.whl (121.6 MB)\n",
            "\u001b[2K   \u001b[90m━━━━━━━━━━━━━━━━━━━━━━━━━━━━━━━━━━━━━━━━\u001b[0m \u001b[32m121.6/121.6 MB\u001b[0m \u001b[31m7.3 MB/s\u001b[0m eta \u001b[36m0:00:00\u001b[0m\n",
            "\u001b[?25hDownloading nvidia_curand_cu12-10.3.2.106-py3-none-manylinux1_x86_64.whl (56.5 MB)\n",
            "\u001b[2K   \u001b[90m━━━━━━━━━━━━━━━━━━━━━━━━━━━━━━━━━━━━━━━━\u001b[0m \u001b[32m56.5/56.5 MB\u001b[0m \u001b[31m15.5 MB/s\u001b[0m eta \u001b[36m0:00:00\u001b[0m\n",
            "\u001b[?25hDownloading nvidia_cusolver_cu12-11.4.5.107-py3-none-manylinux1_x86_64.whl (124.2 MB)\n",
            "\u001b[2K   \u001b[90m━━━━━━━━━━━━━━━━━━━━━━━━━━━━━━━━━━━━━━━━\u001b[0m \u001b[32m124.2/124.2 MB\u001b[0m \u001b[31m8.0 MB/s\u001b[0m eta \u001b[36m0:00:00\u001b[0m\n",
            "\u001b[?25hDownloading nvidia_cusparse_cu12-12.1.0.106-py3-none-manylinux1_x86_64.whl (196.0 MB)\n",
            "\u001b[2K   \u001b[90m━━━━━━━━━━━━━━━━━━━━━━━━━━━━━━━━━━━━━━━━\u001b[0m \u001b[32m196.0/196.0 MB\u001b[0m \u001b[31m5.6 MB/s\u001b[0m eta \u001b[36m0:00:00\u001b[0m\n",
            "\u001b[?25hDownloading nvidia_nccl_cu12-2.20.5-py3-none-manylinux2014_x86_64.whl (176.2 MB)\n",
            "\u001b[2K   \u001b[90m━━━━━━━━━━━━━━━━━━━━━━━━━━━━━━━━━━━━━━━━\u001b[0m \u001b[32m176.2/176.2 MB\u001b[0m \u001b[31m6.7 MB/s\u001b[0m eta \u001b[36m0:00:00\u001b[0m\n",
            "\u001b[?25hDownloading nvidia_nvtx_cu12-12.1.105-py3-none-manylinux1_x86_64.whl (99 kB)\n",
            "\u001b[2K   \u001b[90m━━━━━━━━━━━━━━━━━━━━━━━━━━━━━━━━━━━━━━━━\u001b[0m \u001b[32m99.1/99.1 kB\u001b[0m \u001b[31m9.2 MB/s\u001b[0m eta \u001b[36m0:00:00\u001b[0m\n",
            "\u001b[?25hDownloading triton-3.0.0-1-cp310-cp310-manylinux2014_x86_64.manylinux_2_17_x86_64.whl (209.4 MB)\n",
            "\u001b[2K   \u001b[90m━━━━━━━━━━━━━━━━━━━━━━━━━━━━━━━━━━━━━━━━\u001b[0m \u001b[32m209.4/209.4 MB\u001b[0m \u001b[31m6.2 MB/s\u001b[0m eta \u001b[36m0:00:00\u001b[0m\n",
            "\u001b[?25hDownloading torchvision-0.19.1-cp310-cp310-manylinux1_x86_64.whl (7.0 MB)\n",
            "\u001b[2K   \u001b[90m━━━━━━━━━━━━━━━━━━━━━━━━━━━━━━━━━━━━━━━━\u001b[0m \u001b[32m7.0/7.0 MB\u001b[0m \u001b[31m81.3 MB/s\u001b[0m eta \u001b[36m0:00:00\u001b[0m\n",
            "\u001b[?25hDownloading nvidia_nvjitlink_cu12-12.6.68-py3-none-manylinux2014_x86_64.whl (19.7 MB)\n",
            "\u001b[2K   \u001b[90m━━━━━━━━━━━━━━━━━━━━━━━━━━━━━━━━━━━━━━━━\u001b[0m \u001b[32m19.7/19.7 MB\u001b[0m \u001b[31m65.2 MB/s\u001b[0m eta \u001b[36m0:00:00\u001b[0m\n",
            "\u001b[?25hInstalling collected packages: triton, nvidia-nvtx-cu12, nvidia-nvjitlink-cu12, nvidia-nccl-cu12, nvidia-curand-cu12, nvidia-cufft-cu12, nvidia-cuda-runtime-cu12, nvidia-cuda-nvrtc-cu12, nvidia-cuda-cupti-cu12, nvidia-cublas-cu12, nvidia-cusparse-cu12, nvidia-cudnn-cu12, nvidia-cusolver-cu12, torch, torchvision\n",
            "  Attempting uninstall: nvidia-nccl-cu12\n",
            "    Found existing installation: nvidia-nccl-cu12 2.22.3\n",
            "    Uninstalling nvidia-nccl-cu12-2.22.3:\n",
            "      Successfully uninstalled nvidia-nccl-cu12-2.22.3\n",
            "  Attempting uninstall: torch\n",
            "    Found existing installation: torch 2.4.0+cu121\n",
            "    Uninstalling torch-2.4.0+cu121:\n",
            "      Successfully uninstalled torch-2.4.0+cu121\n",
            "  Attempting uninstall: torchvision\n",
            "    Found existing installation: torchvision 0.19.0+cu121\n",
            "    Uninstalling torchvision-0.19.0+cu121:\n",
            "      Successfully uninstalled torchvision-0.19.0+cu121\n",
            "\u001b[31mERROR: pip's dependency resolver does not currently take into account all the packages that are installed. This behaviour is the source of the following dependency conflicts.\n",
            "torchaudio 2.4.0+cu121 requires torch==2.4.0, but you have torch 2.4.1 which is incompatible.\u001b[0m\u001b[31m\n",
            "\u001b[0mSuccessfully installed nvidia-cublas-cu12-12.1.3.1 nvidia-cuda-cupti-cu12-12.1.105 nvidia-cuda-nvrtc-cu12-12.1.105 nvidia-cuda-runtime-cu12-12.1.105 nvidia-cudnn-cu12-9.1.0.70 nvidia-cufft-cu12-11.0.2.54 nvidia-curand-cu12-10.3.2.106 nvidia-cusolver-cu12-11.4.5.107 nvidia-cusparse-cu12-12.1.0.106 nvidia-nccl-cu12-2.20.5 nvidia-nvjitlink-cu12-12.6.68 nvidia-nvtx-cu12-12.1.105 torch-2.4.1 torchvision-0.19.1 triton-3.0.0\n"
          ]
        }
      ],
      "source": [
        "!pip install --upgrade torch torchvision\n",
        "# torch refere-se ao PyTorch, biblioteca de aprendizado de máquina utilizada para aplicações de deep learning.\n",
        "# torchvision é uma biblioteca que complementa o PyTorch com ferramentas específicas para visão computacional."
      ]
    },
    {
      "cell_type": "code",
      "execution_count": 7,
      "metadata": {
        "id": "edOy2cE_-WJ2",
        "colab": {
          "base_uri": "https://localhost:8080/"
        },
        "outputId": "c2c96c34-e1a7-4c63-cdbc-b8a4ff721448"
      },
      "outputs": [
        {
          "output_type": "stream",
          "name": "stdout",
          "text": [
            "Collecting av\n",
            "  Downloading av-13.0.0-cp310-cp310-manylinux_2_17_x86_64.manylinux2014_x86_64.whl.metadata (4.4 kB)\n",
            "Downloading av-13.0.0-cp310-cp310-manylinux_2_17_x86_64.manylinux2014_x86_64.whl (33.0 MB)\n",
            "\u001b[2K   \u001b[90m━━━━━━━━━━━━━━━━━━━━━━━━━━━━━━━━━━━━━━━━\u001b[0m \u001b[32m33.0/33.0 MB\u001b[0m \u001b[31m38.6 MB/s\u001b[0m eta \u001b[36m0:00:00\u001b[0m\n",
            "\u001b[?25hInstalling collected packages: av\n",
            "Successfully installed av-13.0.0\n"
          ]
        }
      ],
      "source": [
        "!pip install av # av é uma biblioteca de Python que proporciona uma interface simplificada para a manipulação de áudio e vídeo."
      ]
    },
    {
      "cell_type": "markdown",
      "metadata": {
        "id": "2BJ6-pb8-hoi"
      },
      "source": [
        "## Importações"
      ]
    },
    {
      "cell_type": "code",
      "execution_count": 8,
      "metadata": {
        "id": "XLe_Lmh0-kRr"
      },
      "outputs": [],
      "source": [
        "import torch #  permitindo operações avançadas de aprendizado de máquina e manipulação de tensores.\n",
        "import time #  oferece funcionalidades relacionadas ao tempo, como obter a hora atual, pausar a execução do programa, e medir intervalos de tempo."
      ]
    },
    {
      "cell_type": "code",
      "execution_count": 9,
      "metadata": {
        "id": "127_gjFD-uA7"
      },
      "outputs": [],
      "source": [
        "import torchvision  # fornece:\n",
        "# Modelos de redes neurais pré-treinados.\n",
        "# Conjuntos de dados populares para visão computacional.\n",
        "# Ferramentas para transformar e manipular imagens.\n",
        "# Utilitários adicionais para facilitar o trabalho com dados de imagem."
      ]
    },
    {
      "cell_type": "code",
      "execution_count": 10,
      "metadata": {
        "id": "lc3B7J6z-xJE"
      },
      "outputs": [],
      "source": [
        "import numpy as np"
      ]
    },
    {
      "cell_type": "code",
      "execution_count": 11,
      "metadata": {
        "id": "Q230vEyp_AJX"
      },
      "outputs": [],
      "source": [
        "import matplotlib.pyplot as plt # from matplotlib import pyplot as plt"
      ]
    },
    {
      "cell_type": "code",
      "source": [
        "import tempfile\n",
        "import tqdm"
      ],
      "metadata": {
        "id": "DnsaOtab8n9s"
      },
      "execution_count": 12,
      "outputs": []
    },
    {
      "cell_type": "code",
      "source": [
        "from tensordict import TensorDict, tensorclass"
      ],
      "metadata": {
        "id": "MRNyE47s-k_7"
      },
      "execution_count": 13,
      "outputs": []
    },
    {
      "cell_type": "code",
      "execution_count": 14,
      "metadata": {
        "id": "vDQQTo_s-21j"
      },
      "outputs": [],
      "source": [
        "from torchrl.envs import GymEnv, StepCounter, TransformedEnv\n",
        "# GymEnv: Classe que integra ambientes do OpenAI Gym com a biblioteca torchrl, permitindo o uso de ambientes padrão de Reinforcement Learning.\n",
        "# StepCounter: Um wrapper para contar o número de passos realizados em um ambiente.\n",
        "# TransformedEnv: Um wrapper que aplica transformações ao ambiente, como normalização de observações ou recompensas.\n",
        "from torchrl.modules import EGreedyModule, MLP, QValueModule\n",
        "# EGreedyModule: Implementa uma política epsilon-greedy, que escolhe ações aleatoriamente com probabilidade epsilon, e a melhor ação com probabilidade 1-epsilon.\n",
        "# MLP: Multi-Layer Perceptron, uma rede neural feed-forward composta por múltiplas camadas densamente conectadas.\n",
        "# QValueModule: Um módulo específico para calcular valores Q, usados em algoritmos de Q-learning.\n",
        "from torchrl.collectors import SyncDataCollector # Coletor de dados síncrono, usado para coletar experiências do ambiente de forma síncrona\n",
        "from torchrl.data import LazyMemmapStorage, LazyTensorStorage, ListStorage, ReplayBuffer, PrioritizedReplayBuffer, TensorDictReplayBuffer\n",
        "# LazyMemmapStorage: Armazena tensores de maneira eficiente em um arquivo de mapa de memória.\n",
        "# LazyTensorStorage: Armazena tensores de maneira eficiente, com carregamento atrasado.\n",
        "# ReplayBuffer: Buffer de replay, usado para armazenar e amostrar experiências anteriores, crucial para métodos de RL como DQN.\n",
        "from torchrl.objectives import DQNLoss, SoftUpdate\n",
        "# DQNLoss: Implementa a função de perda para o algoritmo DQN (Deep Q-Network).\n",
        "# SoftUpdate: Função para atualização suave dos parâmetros do modelo, frequentemente usada em algoritmos de RL para atualizar gradualmente uma rede alvo.\n",
        "from torchrl._utils import logger as torchrl_logger # Utilitário de registro usado para registrar mensagens de depuração e informações durante a execução.\n",
        "from torchrl.record import CSVLogger, VideoRecorder\n",
        "# CSVLogger: Logger que registra dados em um arquivo CSV, útil para monitorar o treinamento e resultados.\n",
        "# VideoRecorder: Grava vídeos das execuções dos ambientes, útil para visualizar o comportamento de agentes de RL.\n",
        "\n",
        "from tensordict.nn import TensorDictModule as Mod, TensorDictSequential as Seq\n",
        "# TensorDictModule (Mod): Um módulo que opera sobre TensorDicts, que são dicionários especializados em armazenar tensores.\n",
        "# TensorDictSequential (Seq): Similar ao torch.nn.Sequential, mas opera sobre TensorDicts,\n",
        "# permitindo a construção de modelos sequenciais que trabalham com múltiplos tensores de entrada e saída.\n",
        "\n",
        "from torch.optim import Adam # Adam: Um otimizador amplamente utilizado, que combina as vantagens dos métodos AdaGrad e RMSProp,\n",
        "# ajustando os passos de atualização com base em estimativas de momentos de primeira e segunda ordem dos gradientes.\n",
        "\n",
        "from torchrl.data.replay_buffers.samplers import PrioritizedSampler, SamplerWithoutReplacement, RandomSampler"
      ]
    },
    {
      "cell_type": "code",
      "execution_count": 15,
      "metadata": {
        "id": "jF9PutVV_CK-",
        "colab": {
          "base_uri": "https://localhost:8080/"
        },
        "outputId": "7edc6c02-8d59-4b3b-9750-9d2464968754"
      },
      "outputs": [
        {
          "output_type": "stream",
          "name": "stderr",
          "text": [
            "/usr/local/lib/python3.10/dist-packages/ipykernel/ipkernel.py:283: DeprecationWarning: `should_run_async` will not call `transform_cell` automatically in the future. Please pass the result to `transformed_cell` argument and any exception that happen during thetransform in `preprocessing_exc_tuple` in IPython 7.17 and above.\n",
            "  and should_run_async(code)\n"
          ]
        },
        {
          "output_type": "stream",
          "name": "stdout",
          "text": [
            "Mounted at /content/drive\n"
          ]
        }
      ],
      "source": [
        "import pandas as pd\n",
        "from google.colab import drive\n",
        "drive.mount('/content/drive')   # Monta o Google Drive"
      ]
    },
    {
      "cell_type": "code",
      "execution_count": 16,
      "metadata": {
        "id": "EbQOfvlOd1yI",
        "colab": {
          "base_uri": "https://localhost:8080/"
        },
        "outputId": "e38ecf64-e534-46b7-ceec-06f8574991c1"
      },
      "outputs": [
        {
          "output_type": "stream",
          "name": "stderr",
          "text": [
            "/usr/local/lib/python3.10/dist-packages/ipykernel/ipkernel.py:283: DeprecationWarning: `should_run_async` will not call `transform_cell` automatically in the future. Please pass the result to `transformed_cell` argument and any exception that happen during thetransform in `preprocessing_exc_tuple` in IPython 7.17 and above.\n",
            "  and should_run_async(code)\n"
          ]
        }
      ],
      "source": [
        "import os"
      ]
    },
    {
      "cell_type": "code",
      "execution_count": 17,
      "metadata": {
        "id": "kYC1V47CFWr8"
      },
      "outputs": [],
      "source": [
        "from IPython.display import Audio, display"
      ]
    },
    {
      "cell_type": "code",
      "source": [
        "from collections import deque"
      ],
      "metadata": {
        "id": "t419KMnp2XDp"
      },
      "execution_count": 18,
      "outputs": []
    },
    {
      "cell_type": "code",
      "source": [
        "# import torchrl.data"
      ],
      "metadata": {
        "id": "YNL0Q08gpF0Y"
      },
      "execution_count": 19,
      "outputs": []
    },
    {
      "cell_type": "code",
      "source": [
        "from torch.utils._pytree import tree_map"
      ],
      "metadata": {
        "id": "cQGM2Y4LAR4i"
      },
      "execution_count": 20,
      "outputs": []
    },
    {
      "cell_type": "markdown",
      "metadata": {
        "id": "YiiMyLr-FNBr"
      },
      "source": [
        "Estaremos usando um ambiente de academia com uma StepCounter transformação. Se precisar de uma atualização, verifique se esses recursos são apresentados no tutorial do ambiente ."
      ]
    },
    {
      "cell_type": "markdown",
      "metadata": {
        "id": "ZeGeXQHsdIry"
      },
      "source": [
        "## Funções Auxiliares"
      ]
    },
    {
      "cell_type": "markdown",
      "metadata": {
        "id": "7w5Q7GUm7SaQ"
      },
      "source": [
        "### Plotagem"
      ]
    },
    {
      "cell_type": "code",
      "execution_count": 34,
      "metadata": {
        "id": "dTaYlTqqdMmF",
        "cellView": "form"
      },
      "outputs": [],
      "source": [
        "#@title Plotar Simples\n",
        "def plotar(dados,\n",
        "           xlabel = 'Episódio',\n",
        "           ylabel = 'Recompensa',\n",
        "           limit = True,\n",
        "           xlimit = 1000,\n",
        "           ylimit = 1000,\n",
        "           title = 'Desempenho do Agente'):\n",
        "\n",
        "    plt.plot(dados)\n",
        "    plt.xlabel(xlabel)\n",
        "    plt.ylabel(ylabel)\n",
        "\n",
        "    if limit:\n",
        "      xlimit = [0,(xlimit*1.05)]\n",
        "      ylimit = [0,(ylimit*1.05)]\n",
        "      plt.xlim(xlimit)\n",
        "      plt.ylim(ylimit)\n",
        "\n",
        "    plt.title(title)\n",
        "    plt.show()"
      ]
    },
    {
      "cell_type": "code",
      "source": [
        "#@title Plotar Versões\n",
        "def plotar_versoes(\n",
        "                  #  dados,\n",
        "                   coluna = 'Rewards_ep',\n",
        "                   xlabel = 'Episódio',\n",
        "                   ylabel = 'Recompensa',\n",
        "                   tamanho_fig = (10, 6),\n",
        "                   grade = False,\n",
        "                   limit = True,\n",
        "                   xlimit = 1000,\n",
        "                   ylimit = 1000,\n",
        "                   title = 'Desempenho do Agente'):\n",
        "    plt.figure(figsize=tamanho_fig)\n",
        "\n",
        "    plt.plot(resultado_medio_V1[coluna],          label = \"V1 (DQN)\",                                         linestyle = 'solid')\n",
        "    plt.plot(resultado_medio_V2_rb[coluna] ,      label = \"V2 (ReplayBuffer)\",                                linestyle = 'dotted')\n",
        "    # plt.plot(resultado_medio_V2_prb[coluna] ,     label = \"V2 (PrioritazedReplayBuffer)\",                     linestyle = 'dotted')\n",
        "    plt.plot(resultado_medio_V2_1[coluna] ,       label = \"V2.1 (PER Média Amostral)\",                        linestyle = 'dotted')\n",
        "    plt.plot(resultado_medio_V2_2[coluna] ,       label = \"V2.2 (PER Soma Amostral)\",                         linestyle = 'dotted')\n",
        "    plt.plot(resultado_medio_V3_1v[coluna] ,      label = \"V3 (PER Último Índice)\",    linestyle = 'dashed')\n",
        "    # plt.plot(resultado_medio_V3_2v[coluna] ,      label = \"V3 (PER Últimos Índices - Priorização 2ª Vez)\",    linestyle = 'dashed')\n",
        "    # plt.plot(resultado_medio_V3_1[coluna] ,       label = \"V3.1 (PER Melhores Índices - Max)\",                linestyle = 'dashed')\n",
        "    # plt.plot(resultado_medio_V3_2_sm1[coluna] ,   label = \"V3.2 (PER Melhores Índices - Semi-Trajetória 1)\",  linestyle = 'dashed')\n",
        "    # plt.plot(resultado_medio_V3_2_sm2[coluna] ,   label = \"V3.2 (PER Melhores Índices - Semi-Trajetória 2)\",  linestyle = 'dashed')\n",
        "    # plt.plot(resultado_medio_V3_3[coluna] ,       label = \"V3.3 (PER Piores Índices - Max)\",                  linestyle = 'dashed')\n",
        "    # plt.plot(resultado_medio_V3_4_sm1[coluna] ,   label = \"V3.4 (PER Piores Índices - Semi-Trajetória 1)\",    linestyle = 'dashed')\n",
        "    # plt.plot(resultado_medio_V3_4_sm2[coluna] ,   label = \"V3.4 (PER Piores Índices - Semi-Trajetória 2)\",    linestyle = 'dashed')\n",
        "    plt.plot(resultado_medio_V4[coluna] ,         label = \"V4 (PER Última Trajetória)\",                       linestyle = 'dashdot')\n",
        "    # plt.plot(resultado_medio_V4_1[coluna] ,       label = \"V4.1 (PER Melhores Trajetórias)\",                  linestyle = 'dashdot')\n",
        "    # plt.plot(resultado_medio_V4_2[coluna] ,       label = \"V4.2 (PER Fortalecimento da Base)\",                linestyle = 'dashdot')\n",
        "    # plt.plot(resultado_medio_V4_3[coluna] ,       label = \"V4.3 (PER Piores Trajetórias)\",                    linestyle = 'dashdot')\n",
        "\n",
        "    plt.xlabel(xlabel)\n",
        "    plt.ylabel(ylabel)\n",
        "    # plt.legend()\n",
        "    # plt.legend(bbox_to_anchor=(0.08, -0.18, 0.9, .102), loc = 'center', ncols = 3, mode = \"expand\", borderaxespad = 0.)\n",
        "    plt.legend(loc = 'upper center', bbox_to_anchor = (0.5, -0.1), fancybox = True, shadow = True, ncol = 3)\n",
        "    plt.grid(grade)\n",
        "\n",
        "    # plt.plot(dados)\n",
        "\n",
        "    if limit:\n",
        "        xlimit = [0, (xlimit * 1.05)]\n",
        "        ylimit = [0, (ylimit * 1.05)]\n",
        "        plt.xlim(xlimit)\n",
        "        plt.ylim(ylimit)\n",
        "\n",
        "    plt.title(title)\n",
        "    plt.show()"
      ],
      "metadata": {
        "id": "4DRH3x8uNFTN",
        "cellView": "form"
      },
      "execution_count": 35,
      "outputs": []
    },
    {
      "cell_type": "markdown",
      "metadata": {
        "id": "WuHn9QXf7OyQ"
      },
      "source": [
        "### Salvar e Carregar Dados em Excel"
      ]
    },
    {
      "cell_type": "code",
      "execution_count": 38,
      "metadata": {
        "id": "nsYY8IYv7OFB",
        "cellView": "form"
      },
      "outputs": [],
      "source": [
        "#@title Salvando Resultados\n",
        "def salvar_array(score_list_1,\n",
        "                 score_list_mean_100,\n",
        "                 eval_score,\n",
        "                 mean_100_eval_score,\n",
        "                 eval_score_mean,\n",
        "                 Sucessos,\n",
        "                 Desempenho_Medio,\n",
        "                 tempo_treinamento,\n",
        "                 tempo_avaliacao,\n",
        "                 tempo_simulacao,\n",
        "                 cenario=\"C1\",\n",
        "                 versao=\"V1\",\n",
        "                 numero_simulacao = 1,\n",
        "                 caminho = '/content/drive/My Drive/CBA 2024/Resultados/',\n",
        "                 pasta = \"teste\"):\n",
        "\n",
        "    recomp_ep = np.array(score_list_1)#.reshape(-1, 1)\n",
        "    recomp_med_ep = np.array(score_list_mean_100)#.reshape(-1, 1)\n",
        "    recomp_ep_eval = np.array(eval_score)#.reshape(-1, 1)\n",
        "    recomp_med_ep_eval = np.array(mean_100_eval_score)#.reshape(-1, 1)\n",
        "    recomp_med_eval_ep = np.array(eval_score_mean).reshape(1, )\n",
        "    sucess_rates = np.array(Sucessos)#.reshape(-1, 1)\n",
        "    taxa_med_eval_ep = np.array(Desempenho_Medio).reshape(1, )\n",
        "    tempo_treinamento = np.array(tempo_treinamento).reshape(1, )\n",
        "    tempo_avaliacao = np.array(tempo_avaliacao).reshape(1, )\n",
        "    tempo_simulacao = np.array(tempo_simulacao).reshape(1, )\n",
        "\n",
        "\n",
        "    array_coluna1 = recomp_ep\n",
        "    array_coluna2 = recomp_med_ep\n",
        "    array_coluna3 = recomp_ep_eval\n",
        "    array_coluna4 = recomp_med_ep_eval\n",
        "    array_coluna5 = sucess_rates\n",
        "    array_coluna6 = recomp_med_eval_ep\n",
        "    array_coluna7 = taxa_med_eval_ep\n",
        "    array_coluna8 = tempo_treinamento\n",
        "    array_coluna9 = tempo_avaliacao\n",
        "    array_coluna10 = tempo_simulacao\n",
        "\n",
        "\n",
        "    # Preenchendo os arrays com tamanhos diferentes para que tenham o mesmo tamanho\n",
        "    tamanho_maximo = max(len(array_coluna1),\n",
        "                         len(array_coluna2),\n",
        "                         len(array_coluna3),\n",
        "                         len(array_coluna4),\n",
        "                         len(array_coluna5),\n",
        "                         len(array_coluna6),\n",
        "                         len(array_coluna7),\n",
        "                         len(array_coluna8),\n",
        "                         len(array_coluna9),\n",
        "                         len(array_coluna10)\n",
        "                         )\n",
        "    array_coluna1 = np.pad(array_coluna1, (0, tamanho_maximo - len(array_coluna1)), mode='constant', constant_values=-9999)\n",
        "    array_coluna2 = np.pad(array_coluna2, (0, tamanho_maximo - len(array_coluna2)), mode='constant', constant_values=-9999)\n",
        "    array_coluna3 = np.pad(array_coluna3, (0, tamanho_maximo - len(array_coluna3)), mode='constant', constant_values=-9999)\n",
        "    array_coluna4 = np.pad(array_coluna4, (0, tamanho_maximo - len(array_coluna4)), mode='constant', constant_values=-9999)\n",
        "    array_coluna5 = np.pad(array_coluna5, (0, tamanho_maximo - len(array_coluna5)), mode='constant', constant_values=-9999)\n",
        "    array_coluna6 = np.pad(array_coluna6, (0, tamanho_maximo - len(array_coluna6)), mode='constant', constant_values=-9999)\n",
        "    array_coluna7 = np.pad(array_coluna7, (0, tamanho_maximo - len(array_coluna7)), mode='constant', constant_values=-9999)\n",
        "    array_coluna8 = np.pad(array_coluna8, (0, tamanho_maximo - len(array_coluna8)), mode='constant', constant_values=-9999)\n",
        "    array_coluna9 = np.pad(array_coluna9, (0, tamanho_maximo - len(array_coluna9)), mode='constant', constant_values=-9999)\n",
        "    array_coluna10 = np.pad(array_coluna10, (0, tamanho_maximo - len(array_coluna10)), mode='constant', constant_values=-9999)\n",
        "\n",
        "    # Criando o DataFrame com os arrays de colunas\n",
        "    df = pd.DataFrame({'Rewards_ep': array_coluna1,\n",
        "                        'Rewards_mean_ep': array_coluna2,\n",
        "                        'Rewards_ep_eval': array_coluna3,\n",
        "                        'Rewards_mean_ep_eval': array_coluna4,\n",
        "                        'Sucess_Rates': array_coluna5,\n",
        "                        'Mean_Rewards_ep_eval': array_coluna6,\n",
        "                        'Mean_Sucess_Rates': array_coluna7,\n",
        "                        'Tempo_treinamento': array_coluna8,\n",
        "                        'Tempo_avaliacao': array_coluna9,\n",
        "                        'Tempo_simulacao': array_coluna10}\n",
        "                      )\n",
        "\n",
        "    # Substituindo os valores de preenchimento por None\n",
        "    df = df.replace(-9999, None)\n",
        "\n",
        "    # Salvando o DataFrame em uma planilha Excel'\n",
        "    nome_da_pasta = str(cenario) + pasta\n",
        "    caminho_pasta =  caminho + nome_da_pasta  # Define o caminho da pasta no Google Drive\n",
        "    if not os.path.exists(caminho_pasta): os.makedirs(caminho_pasta) # Cria a pasta se ela não existir\n",
        "    nome_arquivo = '/Resultado_de_'+ str(versao)+'_simu_'+ str(numero_simulacao)  +'.xlsx'\n",
        "    caminho_completo =  caminho_pasta + nome_arquivo\n",
        "    # caminho_completo = os.path.join(caminho_pasta, nome_arquivo)\n",
        "\n",
        "    df.to_excel(caminho_completo, index=False)\n",
        "\n",
        "    print(\"DataFrame salvo em\", caminho_completo)\n",
        "    play_sound(5, numero_simulacao)\n",
        "    return caminho_completo"
      ]
    },
    {
      "cell_type": "code",
      "execution_count": 39,
      "metadata": {
        "id": "pZ7xJWYE7dDQ",
        "cellView": "form"
      },
      "outputs": [],
      "source": [
        "#@title Carregando Resultados\n",
        "def carrega_array(cenario,\n",
        "                  versao,\n",
        "                  numero_simulacao = 1,\n",
        "                  caminho = '/content/drive/My Drive/CBA 2024/Resultados/',\n",
        "                  pasta = \"teste\"):\n",
        "    # Substitua o caminho do arquivo pelo caminho real no seu Google Drive\n",
        "    # caminho_do_arquivo = '/content/drive/My Drive/CBA 2024/Resultados//Result_of_Epoch_'+ str(epoch) + '_' + str(versao) +'.xlsx'\n",
        "    # nome_arquivo = '/Result_of_Epoch_'+ str(epoch) + '_' + str(versao) +'.xlsx'\n",
        "    caminho_pasta =  caminho + str(cenario) + pasta + '/'\n",
        "    nome_arquivo = '/Resultado_de_'+ str(versao)+'_simu_'+ str(numero_simulacao)  +'.xlsx'\n",
        "    caminho_completo = caminho_pasta + nome_arquivo\n",
        "\n",
        "    # Carregue a planilha usando o pandas\n",
        "    # df = pd.read_excel(caminho_do_arquivo)\n",
        "    df = pd.ExcelFile(caminho_completo)\n",
        "    # acoes = df.parse('Ações (A)')\n",
        "    # resultado = df.parse()\n",
        "    resultado = df.parse('Sheet1')\n",
        "\n",
        "    return resultado"
      ]
    },
    {
      "cell_type": "code",
      "execution_count": 40,
      "metadata": {
        "id": "2qRq8k_sBFyE",
        "cellView": "form"
      },
      "outputs": [],
      "source": [
        "#@title Carregando Várias Simulações\n",
        "def carrega_varios(cenario, versao, inicio = 1, fim = 10, caminho = '/content/drive/My Drive/CBA 2024/Resultados/', pasta = \"teste\"):\n",
        "    resultado = []\n",
        "\n",
        "    for i in range(inicio, (fim+1)):\n",
        "      resultado.append(carrega_array(cenario = str(cenario), versao = str(versao), numero_simulacao = i, caminho = caminho, pasta = pasta ))\n",
        "\n",
        "    return resultado"
      ]
    },
    {
      "cell_type": "code",
      "source": [
        "#@title Carregando Resultados Médios\n",
        "def carrega_media_versoes(cenario,\n",
        "                          versao = [\"V1\", \"V2_rb\", \"V2_prb\", \"V2.1\", \"V2.2\"],\n",
        "                          # versao,\n",
        "                          inicio = 1,\n",
        "                          fim = 10,\n",
        "                          caminho = '/content/drive/My Drive/CBA 2024/Resultados/',\n",
        "                          pasta = \"teste\"):\n",
        "    resultado_versoes = []\n",
        "    # resultado_medio = None\n",
        "\n",
        "    for i in versao:\n",
        "        resultado = carrega_varios(cenario = str(cenario), versao = str(i), inicio = inicio, fim = fim, caminho = caminho, pasta = pasta)\n",
        "        resultado_med = resultado_medio(resultado)\n",
        "        resultado_versoes.append(resultado_med)\n",
        "\n",
        "    resultado_medio_V1 = resultado_versoes[0]\n",
        "    resultado_medio_V2_rb = resultado_versoes[1]\n",
        "    # resultado_medio_V2_prb = resultado_versoes[2]\n",
        "    resultado_medio_V2_1 = resultado_versoes[2]\n",
        "    resultado_medio_V2_2 = resultado_versoes[3]\n",
        "    resultado_medio_V3_1v = resultado_versoes[4]\n",
        "    # resultado_medio_V3_2v = resultado_versoes[6]\n",
        "    # resultado_medio_V3_1 = resultado_versoes[5]\n",
        "    # resultado_medio_V3_2_sm1 = resultado_versoes[6]\n",
        "    # resultado_medio_V3_2_sm2 = resultado_versoes[9]\n",
        "    # resultado_medio_V3_3 = resultado_versoes[5]\n",
        "    # resultado_medio_V3_4_sm1 = resultado_versoes[11]\n",
        "    # resultado_medio_V3_4_sm2 = resultado_versoes[8]\n",
        "    resultado_medio_V4 = resultado_versoes[5]\n",
        "    # resultado_medio_V4_1 = resultado_versoes[10]\n",
        "    # resultado_medio_V4_2 = resultado_versoes[15]\n",
        "    # resultado_medio_V4_3 = resultado_versoes[11]\n",
        "\n",
        "\n",
        "    return resultado_medio_V1, resultado_medio_V2_rb, resultado_medio_V2_1, resultado_medio_V2_2, resultado_medio_V3_1v, resultado_medio_V4"
      ],
      "metadata": {
        "id": "ljjbFDpYYHCO",
        "cellView": "form"
      },
      "execution_count": 41,
      "outputs": []
    },
    {
      "cell_type": "markdown",
      "metadata": {
        "id": "bLLhpYzv7ga1"
      },
      "source": [
        "### Avaliação"
      ]
    },
    {
      "cell_type": "code",
      "execution_count": 42,
      "metadata": {
        "id": "vPh49LC17lDx",
        "cellView": "form"
      },
      "outputs": [],
      "source": [
        "#@title Avaliar Agente\n",
        "def avaliar(env, policy, max_steps=500):\n",
        "    tempo_ini_avaliacao = time.time()\n",
        "    eval_score = []\n",
        "    mean_100_eval_score = []\n",
        "\n",
        "    for i in range(1001):\n",
        "        eval_score.append(env.rollout(max_steps, policy)[\"next\",\"step_count\"][-1].item())\n",
        "        if (i%100)==0:\n",
        "          if i!=0:\n",
        "            mean_100_eval_score.append(np.mean(eval_score[-100]))\n",
        "\n",
        "    eval_score_mean = np.mean(mean_100_eval_score)\n",
        "    # print(f\"Mean 100 eval score: {eval_score_mean}\")\n",
        "\n",
        "    # plt.plot(mean_100_eval_score)\n",
        "    # plt.show()\n",
        "\n",
        "    return eval_score, mean_100_eval_score, eval_score_mean, tempo_ini_avaliacao"
      ]
    },
    {
      "cell_type": "code",
      "execution_count": 43,
      "metadata": {
        "id": "cILb_AhF96oR",
        "cellView": "form"
      },
      "outputs": [],
      "source": [
        "#@title Calcular Taxa de Sucesso\n",
        "def taxa_sucesso(mean_100_eval_score):\n",
        "    Sucessos = [0]\n",
        "\n",
        "    for i in mean_100_eval_score:\n",
        "      bb = (i/500)*100\n",
        "      Sucessos.append(bb)\n",
        "\n",
        "    Desempenho_Medio = np.mean(Sucessos[-10])\n",
        "    print(f\"Desempenho Medio: {Desempenho_Medio}\")\n",
        "\n",
        "    plt.plot(Sucessos)\n",
        "    plt.ylim(0,100)\n",
        "    plt.show()\n",
        "\n",
        "    return Sucessos, Desempenho_Medio"
      ]
    },
    {
      "cell_type": "markdown",
      "metadata": {
        "id": "v5Xj4AbDCTok"
      },
      "source": [
        "### Cálculo de Resultados Médios"
      ]
    },
    {
      "cell_type": "code",
      "execution_count": 44,
      "metadata": {
        "id": "L8-V87a5CXiY",
        "cellView": "form"
      },
      "outputs": [],
      "source": [
        "#@title Resultado Médio\n",
        "def resultado_medio(resultado):\n",
        "    soma_resultado = 0\n",
        "\n",
        "    for i in resultado:\n",
        "        soma_resultado += i\n",
        "\n",
        "    resultado_medio = soma_resultado/(len(resultado))\n",
        "\n",
        "    return resultado_medio"
      ]
    },
    {
      "cell_type": "markdown",
      "source": [
        "# checarResultados()"
      ],
      "metadata": {
        "id": "wZtwXaE993-u"
      }
    },
    {
      "cell_type": "code",
      "source": [
        "resul = carrega_varios(\"C1\",\n",
        "                       \"V1\",\n",
        "                       inicio = 1,\n",
        "                       fim = 10,\n",
        "                       caminho = '/content/drive/My Drive/CBA 2024/Resultados/',\n",
        "                       pasta = \"_CartPole-v1_RN-128-128_EG-345-1-0.001_CD-500-500-10_RB-100.0k-0.6-1.0_O-l2-0.001_AR-0.99_T-10.0k-5-500\")"
      ],
      "metadata": {
        "id": "PFXZMrus-dHO"
      },
      "execution_count": 46,
      "outputs": []
    },
    {
      "cell_type": "code",
      "source": [
        "def checarResultados(resul, n_ep=10000):\n",
        "  iguaisTotal = 0\n",
        "  for a in range(len(resul)):\n",
        "    for b in range(a+1, len(resul)):\n",
        "      iguais = 0\n",
        "      for i1, i2 in zip(resul[a]['Rewards_ep'], resul[b]['Rewards_ep']):\n",
        "        if (i1 == i2):\n",
        "          iguais += 1\n",
        "          if (iguais >= n_ep):\n",
        "            print(f'Simulações {a+1} e {b+1} estão iguais!!!')\n",
        "            iguaisTotal += 1\n",
        "            break\n",
        "        else: break\n",
        "\n",
        "  if (iguaisTotal == 0):\n",
        "    print('Nenhuma simulação foi igual :)')\n",
        "  else:\n",
        "    print(f'Ao todo {iguaisTotal} Simulação(ões) foram iguais :()')"
      ],
      "metadata": {
        "id": "r8zwzf8n9_kt"
      },
      "execution_count": 87,
      "outputs": []
    },
    {
      "cell_type": "code",
      "source": [
        "resul[1]['Rewards_ep'] = resul[0]['Rewards_ep']\n",
        "resul[5]['Rewards_ep'] = resul[9]['Rewards_ep']"
      ],
      "metadata": {
        "id": "AO9Q4gaVJkJs"
      },
      "execution_count": 85,
      "outputs": []
    },
    {
      "cell_type": "code",
      "source": [
        "checarResultados(resul)"
      ],
      "metadata": {
        "colab": {
          "base_uri": "https://localhost:8080/"
        },
        "id": "NVvWZFByJRK4",
        "outputId": "8c9b10ca-0cad-4ae8-a73d-782b7b919d46"
      },
      "execution_count": 88,
      "outputs": [
        {
          "output_type": "stream",
          "name": "stdout",
          "text": [
            "Simulações 1 e 2 estão iguais!!!\n",
            "Simulações 6 e 10 estão iguais!!!\n",
            "Ao todo 2 Simulação(ões) foram iguais :()\n"
          ]
        }
      ]
    }
  ]
}