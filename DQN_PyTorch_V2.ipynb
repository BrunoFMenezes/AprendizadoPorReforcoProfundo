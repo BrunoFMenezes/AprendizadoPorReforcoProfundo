{
  "nbformat": 4,
  "nbformat_minor": 0,
  "metadata": {
    "colab": {
      "provenance": [],
      "collapsed_sections": [
        "xLNNeo0F9PV8",
        "WcKczydJBMJc",
        "LKCvjud3A9zn",
        "tgdhLE2tBRK0",
        "1luldNh_BByN",
        "svF1JALWDJBG",
        "g8ODzm-GDXm2",
        "XvPs9q2TDjyI",
        "oUjj0yLaEbJB",
        "tduN9nn59gHL",
        "MulX3KMIAUic",
        "E6JBCtph-Amk",
        "zb65VT2e-2Gs",
        "8CXzkAU1_MEk",
        "ZsOCpgot_Pcs",
        "bHcevZnZ_cmE",
        "r_BO0Mjz_0F7",
        "tcZd8ZGo_69e",
        "hsDEMELOAePU",
        "337LcUXPAj0c",
        "MCJ2nz30A3gV",
        "ODB-efxMA6Rr",
        "dA4_7Hr9BmsF",
        "XV-y4Yp2FNBm",
        "ClgJoEd7FNBp",
        "C4F4pUkqFNBr",
        "8wH2IHjfFNBs",
        "Hg9jvMkDFNBv",
        "SEJGPMjUFNBw",
        "XuyiQ_eqFNBx",
        "ZeGeXQHsdIry",
        "HZydgF6KbUpE",
        "dyIyWNcop2Pa",
        "Xk2F3wTRczfC",
        "-od6kh8vFNB0"
      ]
    },
    "kernelspec": {
      "name": "python3",
      "display_name": "Python 3"
    },
    "language_info": {
      "name": "python"
    }
  },
  "cells": [
    {
      "cell_type": "markdown",
      "source": [
        "# DQN PyTorch"
      ],
      "metadata": {
        "id": "xLNNeo0F9PV8"
      }
    },
    {
      "cell_type": "markdown",
      "source": [
        "## Instalações"
      ],
      "metadata": {
        "id": "WcKczydJBMJc"
      }
    },
    {
      "cell_type": "code",
      "source": [
        "!pip install tensordict\n",
        "# Esse pacote é uma biblioteca que fornece um dicionário de tensores\n",
        "# (estrutura de dados para armazenar e manipular múltiplos tensores, que são fundamentais em muitas operações de aprendizado de máquina e computação científica).\n",
        "!pip install torchrl\n",
        "# Este pacote é relacionado ao uso da biblioteca PyTorch para Reinforcement Learning (RL, ou Aprendizado por Reforço).\n",
        "# torchrl é um complemento focado em fornecer ferramentas e utilitários específicos para Aprendizado por Reforço."
      ],
      "metadata": {
        "colab": {
          "base_uri": "https://localhost:8080/"
        },
        "id": "ITkj8d4VBPFj",
        "outputId": "71bb2b7a-61b7-4a4d-afe9-4c5e44892435"
      },
      "execution_count": null,
      "outputs": [
        {
          "output_type": "stream",
          "name": "stdout",
          "text": [
            "Collecting tensordict\n",
            "  Downloading tensordict-0.4.0-cp310-cp310-manylinux1_x86_64.whl (1.1 MB)\n",
            "\u001b[?25l     \u001b[90m━━━━━━━━━━━━━━━━━━━━━━━━━━━━━━━━━━━━━━━━\u001b[0m \u001b[32m0.0/1.1 MB\u001b[0m \u001b[31m?\u001b[0m eta \u001b[36m-:--:--\u001b[0m\r\u001b[2K     \u001b[91m━━\u001b[0m\u001b[90m╺\u001b[0m\u001b[90m━━━━━━━━━━━━━━━━━━━━━━━━━━━━━━━━━━━━━\u001b[0m \u001b[32m0.1/1.1 MB\u001b[0m \u001b[31m1.6 MB/s\u001b[0m eta \u001b[36m0:00:01\u001b[0m\r\u001b[2K     \u001b[91m━━━━━━━━━━━━━━━━━━━━━━━━━\u001b[0m\u001b[91m╸\u001b[0m\u001b[90m━━━━━━━━━━━━━━\u001b[0m \u001b[32m0.7/1.1 MB\u001b[0m \u001b[31m10.0 MB/s\u001b[0m eta \u001b[36m0:00:01\u001b[0m\r\u001b[2K     \u001b[90m━━━━━━━━━━━━━━━━━━━━━━━━━━━━━━━━━━━━━━━━\u001b[0m \u001b[32m1.1/1.1 MB\u001b[0m \u001b[31m10.9 MB/s\u001b[0m eta \u001b[36m0:00:00\u001b[0m\n",
            "\u001b[?25hRequirement already satisfied: torch>=2.3.0 in /usr/local/lib/python3.10/dist-packages (from tensordict) (2.3.0+cu121)\n",
            "Requirement already satisfied: numpy in /usr/local/lib/python3.10/dist-packages (from tensordict) (1.25.2)\n",
            "Requirement already satisfied: cloudpickle in /usr/local/lib/python3.10/dist-packages (from tensordict) (2.2.1)\n",
            "Requirement already satisfied: filelock in /usr/local/lib/python3.10/dist-packages (from torch>=2.3.0->tensordict) (3.14.0)\n",
            "Requirement already satisfied: typing-extensions>=4.8.0 in /usr/local/lib/python3.10/dist-packages (from torch>=2.3.0->tensordict) (4.11.0)\n",
            "Requirement already satisfied: sympy in /usr/local/lib/python3.10/dist-packages (from torch>=2.3.0->tensordict) (1.12)\n",
            "Requirement already satisfied: networkx in /usr/local/lib/python3.10/dist-packages (from torch>=2.3.0->tensordict) (3.3)\n",
            "Requirement already satisfied: jinja2 in /usr/local/lib/python3.10/dist-packages (from torch>=2.3.0->tensordict) (3.1.4)\n",
            "Requirement already satisfied: fsspec in /usr/local/lib/python3.10/dist-packages (from torch>=2.3.0->tensordict) (2023.6.0)\n",
            "Collecting nvidia-cuda-nvrtc-cu12==12.1.105 (from torch>=2.3.0->tensordict)\n",
            "  Using cached nvidia_cuda_nvrtc_cu12-12.1.105-py3-none-manylinux1_x86_64.whl (23.7 MB)\n",
            "Collecting nvidia-cuda-runtime-cu12==12.1.105 (from torch>=2.3.0->tensordict)\n",
            "  Using cached nvidia_cuda_runtime_cu12-12.1.105-py3-none-manylinux1_x86_64.whl (823 kB)\n",
            "Collecting nvidia-cuda-cupti-cu12==12.1.105 (from torch>=2.3.0->tensordict)\n",
            "  Using cached nvidia_cuda_cupti_cu12-12.1.105-py3-none-manylinux1_x86_64.whl (14.1 MB)\n",
            "Collecting nvidia-cudnn-cu12==8.9.2.26 (from torch>=2.3.0->tensordict)\n",
            "  Using cached nvidia_cudnn_cu12-8.9.2.26-py3-none-manylinux1_x86_64.whl (731.7 MB)\n",
            "Collecting nvidia-cublas-cu12==12.1.3.1 (from torch>=2.3.0->tensordict)\n",
            "  Using cached nvidia_cublas_cu12-12.1.3.1-py3-none-manylinux1_x86_64.whl (410.6 MB)\n",
            "Collecting nvidia-cufft-cu12==11.0.2.54 (from torch>=2.3.0->tensordict)\n",
            "  Using cached nvidia_cufft_cu12-11.0.2.54-py3-none-manylinux1_x86_64.whl (121.6 MB)\n",
            "Collecting nvidia-curand-cu12==10.3.2.106 (from torch>=2.3.0->tensordict)\n",
            "  Using cached nvidia_curand_cu12-10.3.2.106-py3-none-manylinux1_x86_64.whl (56.5 MB)\n",
            "Collecting nvidia-cusolver-cu12==11.4.5.107 (from torch>=2.3.0->tensordict)\n",
            "  Using cached nvidia_cusolver_cu12-11.4.5.107-py3-none-manylinux1_x86_64.whl (124.2 MB)\n",
            "Collecting nvidia-cusparse-cu12==12.1.0.106 (from torch>=2.3.0->tensordict)\n",
            "  Using cached nvidia_cusparse_cu12-12.1.0.106-py3-none-manylinux1_x86_64.whl (196.0 MB)\n",
            "Collecting nvidia-nccl-cu12==2.20.5 (from torch>=2.3.0->tensordict)\n",
            "  Using cached nvidia_nccl_cu12-2.20.5-py3-none-manylinux2014_x86_64.whl (176.2 MB)\n",
            "Collecting nvidia-nvtx-cu12==12.1.105 (from torch>=2.3.0->tensordict)\n",
            "  Using cached nvidia_nvtx_cu12-12.1.105-py3-none-manylinux1_x86_64.whl (99 kB)\n",
            "Requirement already satisfied: triton==2.3.0 in /usr/local/lib/python3.10/dist-packages (from torch>=2.3.0->tensordict) (2.3.0)\n",
            "Collecting nvidia-nvjitlink-cu12 (from nvidia-cusolver-cu12==11.4.5.107->torch>=2.3.0->tensordict)\n",
            "  Downloading nvidia_nvjitlink_cu12-12.5.40-py3-none-manylinux2014_x86_64.whl (21.3 MB)\n",
            "\u001b[2K     \u001b[90m━━━━━━━━━━━━━━━━━━━━━━━━━━━━━━━━━━━━━━━━\u001b[0m \u001b[32m21.3/21.3 MB\u001b[0m \u001b[31m62.3 MB/s\u001b[0m eta \u001b[36m0:00:00\u001b[0m\n",
            "\u001b[?25hRequirement already satisfied: MarkupSafe>=2.0 in /usr/local/lib/python3.10/dist-packages (from jinja2->torch>=2.3.0->tensordict) (2.1.5)\n",
            "Requirement already satisfied: mpmath>=0.19 in /usr/local/lib/python3.10/dist-packages (from sympy->torch>=2.3.0->tensordict) (1.3.0)\n",
            "Installing collected packages: nvidia-nvtx-cu12, nvidia-nvjitlink-cu12, nvidia-nccl-cu12, nvidia-curand-cu12, nvidia-cufft-cu12, nvidia-cuda-runtime-cu12, nvidia-cuda-nvrtc-cu12, nvidia-cuda-cupti-cu12, nvidia-cublas-cu12, nvidia-cusparse-cu12, nvidia-cudnn-cu12, nvidia-cusolver-cu12, tensordict\n",
            "Successfully installed nvidia-cublas-cu12-12.1.3.1 nvidia-cuda-cupti-cu12-12.1.105 nvidia-cuda-nvrtc-cu12-12.1.105 nvidia-cuda-runtime-cu12-12.1.105 nvidia-cudnn-cu12-8.9.2.26 nvidia-cufft-cu12-11.0.2.54 nvidia-curand-cu12-10.3.2.106 nvidia-cusolver-cu12-11.4.5.107 nvidia-cusparse-cu12-12.1.0.106 nvidia-nccl-cu12-2.20.5 nvidia-nvjitlink-cu12-12.5.40 nvidia-nvtx-cu12-12.1.105 tensordict-0.4.0\n",
            "Collecting torchrl\n",
            "  Downloading torchrl-0.4.0-cp310-cp310-manylinux1_x86_64.whl (5.9 MB)\n",
            "\u001b[2K     \u001b[90m━━━━━━━━━━━━━━━━━━━━━━━━━━━━━━━━━━━━━━━━\u001b[0m \u001b[32m5.9/5.9 MB\u001b[0m \u001b[31m11.9 MB/s\u001b[0m eta \u001b[36m0:00:00\u001b[0m\n",
            "\u001b[?25hRequirement already satisfied: torch>=2.3.0 in /usr/local/lib/python3.10/dist-packages (from torchrl) (2.3.0+cu121)\n",
            "Requirement already satisfied: numpy in /usr/local/lib/python3.10/dist-packages (from torchrl) (1.25.2)\n",
            "Requirement already satisfied: packaging in /usr/local/lib/python3.10/dist-packages (from torchrl) (24.0)\n",
            "Requirement already satisfied: cloudpickle in /usr/local/lib/python3.10/dist-packages (from torchrl) (2.2.1)\n",
            "Requirement already satisfied: tensordict>=0.4.0 in /usr/local/lib/python3.10/dist-packages (from torchrl) (0.4.0)\n",
            "Requirement already satisfied: filelock in /usr/local/lib/python3.10/dist-packages (from torch>=2.3.0->torchrl) (3.14.0)\n",
            "Requirement already satisfied: typing-extensions>=4.8.0 in /usr/local/lib/python3.10/dist-packages (from torch>=2.3.0->torchrl) (4.11.0)\n",
            "Requirement already satisfied: sympy in /usr/local/lib/python3.10/dist-packages (from torch>=2.3.0->torchrl) (1.12)\n",
            "Requirement already satisfied: networkx in /usr/local/lib/python3.10/dist-packages (from torch>=2.3.0->torchrl) (3.3)\n",
            "Requirement already satisfied: jinja2 in /usr/local/lib/python3.10/dist-packages (from torch>=2.3.0->torchrl) (3.1.4)\n",
            "Requirement already satisfied: fsspec in /usr/local/lib/python3.10/dist-packages (from torch>=2.3.0->torchrl) (2023.6.0)\n",
            "Requirement already satisfied: nvidia-cuda-nvrtc-cu12==12.1.105 in /usr/local/lib/python3.10/dist-packages (from torch>=2.3.0->torchrl) (12.1.105)\n",
            "Requirement already satisfied: nvidia-cuda-runtime-cu12==12.1.105 in /usr/local/lib/python3.10/dist-packages (from torch>=2.3.0->torchrl) (12.1.105)\n",
            "Requirement already satisfied: nvidia-cuda-cupti-cu12==12.1.105 in /usr/local/lib/python3.10/dist-packages (from torch>=2.3.0->torchrl) (12.1.105)\n",
            "Requirement already satisfied: nvidia-cudnn-cu12==8.9.2.26 in /usr/local/lib/python3.10/dist-packages (from torch>=2.3.0->torchrl) (8.9.2.26)\n",
            "Requirement already satisfied: nvidia-cublas-cu12==12.1.3.1 in /usr/local/lib/python3.10/dist-packages (from torch>=2.3.0->torchrl) (12.1.3.1)\n",
            "Requirement already satisfied: nvidia-cufft-cu12==11.0.2.54 in /usr/local/lib/python3.10/dist-packages (from torch>=2.3.0->torchrl) (11.0.2.54)\n",
            "Requirement already satisfied: nvidia-curand-cu12==10.3.2.106 in /usr/local/lib/python3.10/dist-packages (from torch>=2.3.0->torchrl) (10.3.2.106)\n",
            "Requirement already satisfied: nvidia-cusolver-cu12==11.4.5.107 in /usr/local/lib/python3.10/dist-packages (from torch>=2.3.0->torchrl) (11.4.5.107)\n",
            "Requirement already satisfied: nvidia-cusparse-cu12==12.1.0.106 in /usr/local/lib/python3.10/dist-packages (from torch>=2.3.0->torchrl) (12.1.0.106)\n",
            "Requirement already satisfied: nvidia-nccl-cu12==2.20.5 in /usr/local/lib/python3.10/dist-packages (from torch>=2.3.0->torchrl) (2.20.5)\n",
            "Requirement already satisfied: nvidia-nvtx-cu12==12.1.105 in /usr/local/lib/python3.10/dist-packages (from torch>=2.3.0->torchrl) (12.1.105)\n",
            "Requirement already satisfied: triton==2.3.0 in /usr/local/lib/python3.10/dist-packages (from torch>=2.3.0->torchrl) (2.3.0)\n",
            "Requirement already satisfied: nvidia-nvjitlink-cu12 in /usr/local/lib/python3.10/dist-packages (from nvidia-cusolver-cu12==11.4.5.107->torch>=2.3.0->torchrl) (12.5.40)\n",
            "Requirement already satisfied: MarkupSafe>=2.0 in /usr/local/lib/python3.10/dist-packages (from jinja2->torch>=2.3.0->torchrl) (2.1.5)\n",
            "Requirement already satisfied: mpmath>=0.19 in /usr/local/lib/python3.10/dist-packages (from sympy->torch>=2.3.0->torchrl) (1.3.0)\n",
            "Installing collected packages: torchrl\n",
            "Successfully installed torchrl-0.4.0\n"
          ]
        }
      ]
    },
    {
      "cell_type": "code",
      "source": [
        "!pip install --upgrade torch torchvision\n",
        "# torch refere-se ao PyTorch,\n",
        "# biblioteca de aprendizado de máquina utilizada para aplicações de deep learning, especialmente em visão computacional e processamento de linguagem natural.\n",
        "# torchvision é uma biblioteca que complementa o PyTorch com ferramentas específicas para visão computacional.\n",
        "# Ela inclui conjuntos de dados (datasets) populares, modelos de redes neurais pré-treinados, e funções para transformar imagens."
      ],
      "metadata": {
        "colab": {
          "base_uri": "https://localhost:8080/"
        },
        "id": "uDvbjquSJvHl",
        "outputId": "bd3ad3b5-b05a-4a74-8590-d8d42c1b59e1"
      },
      "execution_count": null,
      "outputs": [
        {
          "output_type": "stream",
          "name": "stdout",
          "text": [
            "Requirement already satisfied: torch in /usr/local/lib/python3.10/dist-packages (2.3.0+cu121)\n",
            "Requirement already satisfied: torchvision in /usr/local/lib/python3.10/dist-packages (0.18.0+cu121)\n",
            "Requirement already satisfied: filelock in /usr/local/lib/python3.10/dist-packages (from torch) (3.14.0)\n",
            "Requirement already satisfied: typing-extensions>=4.8.0 in /usr/local/lib/python3.10/dist-packages (from torch) (4.11.0)\n",
            "Requirement already satisfied: sympy in /usr/local/lib/python3.10/dist-packages (from torch) (1.12)\n",
            "Requirement already satisfied: networkx in /usr/local/lib/python3.10/dist-packages (from torch) (3.3)\n",
            "Requirement already satisfied: jinja2 in /usr/local/lib/python3.10/dist-packages (from torch) (3.1.4)\n",
            "Requirement already satisfied: fsspec in /usr/local/lib/python3.10/dist-packages (from torch) (2023.6.0)\n",
            "Requirement already satisfied: nvidia-cuda-nvrtc-cu12==12.1.105 in /usr/local/lib/python3.10/dist-packages (from torch) (12.1.105)\n",
            "Requirement already satisfied: nvidia-cuda-runtime-cu12==12.1.105 in /usr/local/lib/python3.10/dist-packages (from torch) (12.1.105)\n",
            "Requirement already satisfied: nvidia-cuda-cupti-cu12==12.1.105 in /usr/local/lib/python3.10/dist-packages (from torch) (12.1.105)\n",
            "Requirement already satisfied: nvidia-cudnn-cu12==8.9.2.26 in /usr/local/lib/python3.10/dist-packages (from torch) (8.9.2.26)\n",
            "Requirement already satisfied: nvidia-cublas-cu12==12.1.3.1 in /usr/local/lib/python3.10/dist-packages (from torch) (12.1.3.1)\n",
            "Requirement already satisfied: nvidia-cufft-cu12==11.0.2.54 in /usr/local/lib/python3.10/dist-packages (from torch) (11.0.2.54)\n",
            "Requirement already satisfied: nvidia-curand-cu12==10.3.2.106 in /usr/local/lib/python3.10/dist-packages (from torch) (10.3.2.106)\n",
            "Requirement already satisfied: nvidia-cusolver-cu12==11.4.5.107 in /usr/local/lib/python3.10/dist-packages (from torch) (11.4.5.107)\n",
            "Requirement already satisfied: nvidia-cusparse-cu12==12.1.0.106 in /usr/local/lib/python3.10/dist-packages (from torch) (12.1.0.106)\n",
            "Requirement already satisfied: nvidia-nccl-cu12==2.20.5 in /usr/local/lib/python3.10/dist-packages (from torch) (2.20.5)\n",
            "Requirement already satisfied: nvidia-nvtx-cu12==12.1.105 in /usr/local/lib/python3.10/dist-packages (from torch) (12.1.105)\n",
            "Requirement already satisfied: triton==2.3.0 in /usr/local/lib/python3.10/dist-packages (from torch) (2.3.0)\n",
            "Requirement already satisfied: nvidia-nvjitlink-cu12 in /usr/local/lib/python3.10/dist-packages (from nvidia-cusolver-cu12==11.4.5.107->torch) (12.5.40)\n",
            "Requirement already satisfied: numpy in /usr/local/lib/python3.10/dist-packages (from torchvision) (1.25.2)\n",
            "Requirement already satisfied: pillow!=8.3.*,>=5.3.0 in /usr/local/lib/python3.10/dist-packages (from torchvision) (9.4.0)\n",
            "Requirement already satisfied: MarkupSafe>=2.0 in /usr/local/lib/python3.10/dist-packages (from jinja2->torch) (2.1.5)\n",
            "Requirement already satisfied: mpmath>=0.19 in /usr/local/lib/python3.10/dist-packages (from sympy->torch) (1.3.0)\n"
          ]
        }
      ]
    },
    {
      "cell_type": "code",
      "source": [
        "!pip install av\n",
        "# av é uma biblioteca de Python que proporciona uma interface simplificada para a manipulação de áudio e vídeo.\n",
        "# Esta biblioteca é um contêiner sobre a popular biblioteca de multimídia FFmpeg,\n",
        "# que é capaz de decodificar, codificar, transcodificar, mux, demux, stream, filtrar e reproduzir praticamente tudo que os seres humanos e máquinas criaram."
      ],
      "metadata": {
        "colab": {
          "base_uri": "https://localhost:8080/"
        },
        "id": "1KS-jL6CKs5d",
        "outputId": "8191f24f-5d56-4519-df7e-d6e3e592583e"
      },
      "execution_count": null,
      "outputs": [
        {
          "output_type": "stream",
          "name": "stdout",
          "text": [
            "Collecting av\n",
            "  Downloading av-12.0.0-cp310-cp310-manylinux_2_17_x86_64.manylinux2014_x86_64.whl (33.8 MB)\n",
            "\u001b[2K     \u001b[90m━━━━━━━━━━━━━━━━━━━━━━━━━━━━━━━━━━━━━━━━\u001b[0m \u001b[32m33.8/33.8 MB\u001b[0m \u001b[31m14.4 MB/s\u001b[0m eta \u001b[36m0:00:00\u001b[0m\n",
            "\u001b[?25hInstalling collected packages: av\n",
            "Successfully installed av-12.0.0\n"
          ]
        }
      ]
    },
    {
      "cell_type": "markdown",
      "source": [
        "## Importações"
      ],
      "metadata": {
        "id": "LKCvjud3A9zn"
      }
    },
    {
      "cell_type": "code",
      "execution_count": null,
      "metadata": {
        "id": "fvSAXmdtAzTE"
      },
      "outputs": [],
      "source": [
        "import torch #  permitindo operações avançadas de aprendizado de máquina e manipulação de tensores.\n",
        "import time #  oferece funcionalidades relacionadas ao tempo, como obter a hora atual, pausar a execução do programa, e medir intervalos de tempo."
      ]
    },
    {
      "cell_type": "code",
      "source": [
        "import torchvision  # fornece:\n",
        "# Modelos de redes neurais pré-treinados.\n",
        "# Conjuntos de dados populares para visão computacional.\n",
        "# Ferramentas para transformar e manipular imagens.\n",
        "# Utilitários adicionais para facilitar o trabalho com dados de imagem."
      ],
      "metadata": {
        "id": "CsMxF__pJnlt"
      },
      "execution_count": null,
      "outputs": []
    },
    {
      "cell_type": "code",
      "source": [
        "from torchrl.envs import GymEnv, StepCounter, TransformedEnv\n",
        "# GymEnv: Classe que integra ambientes do OpenAI Gym com a biblioteca torchrl, permitindo o uso de ambientes padrão de Reinforcement Learning.\n",
        "# StepCounter: Um wrapper para contar o número de passos realizados em um ambiente.\n",
        "# TransformedEnv: Um wrapper que aplica transformações ao ambiente, como normalização de observações ou recompensas.\n",
        "from torchrl.modules import EGreedyModule, MLP, QValueModule\n",
        "# EGreedyModule: Implementa uma política epsilon-greedy, que escolhe ações aleatoriamente com probabilidade epsilon, e a melhor ação com probabilidade 1-epsilon.\n",
        "# MLP: Multi-Layer Perceptron, uma rede neural feed-forward composta por múltiplas camadas densamente conectadas.\n",
        "# QValueModule: Um módulo específico para calcular valores Q, usados em algoritmos de Q-learning.\n",
        "from torchrl.collectors import SyncDataCollector\n",
        "# SyncDataCollector: Coletor de dados síncrono, usado para coletar experiências do ambiente de forma síncrona, que é necessário para treinar modelos de RL.\n",
        "from torchrl.data import LazyTensorStorage, ReplayBuffer\n",
        "# LazyTensorStorage: Armazena tensores de maneira eficiente, com carregamento atrasado.\n",
        "# ReplayBuffer: Buffer de replay, usado para armazenar e amostrar experiências anteriores, crucial para métodos de RL como DQN.\n",
        "from torchrl.objectives import DQNLoss, SoftUpdate\n",
        "# DQNLoss: Implementa a função de perda para o algoritmo DQN (Deep Q-Network).\n",
        "# SoftUpdate: Função para atualização suave dos parâmetros do modelo, frequentemente usada em algoritmos de RL para atualizar gradualmente uma rede alvo.\n",
        "from torchrl._utils import logger as torchrl_logger\n",
        "# logger: Utilitário de registro (logging) usado internamente pela biblioteca torchrl para registrar mensagens de depuração e informações durante a execução.\n",
        "from torchrl.record import CSVLogger, VideoRecorder\n",
        "# CSVLogger: Logger que registra dados em um arquivo CSV, útil para monitorar o treinamento e resultados.\n",
        "# VideoRecorder: Grava vídeos das execuções dos ambientes, útil para visualizar o comportamento de agentes de RL.\n",
        "\n",
        "from tensordict.nn import TensorDictModule as Mod, TensorDictSequential as Seq\n",
        "# TensorDictModule (Mod): Um módulo que opera sobre TensorDicts, que são dicionários especializados em armazenar tensores.\n",
        "# TensorDictSequential (Seq): Similar ao torch.nn.Sequential, mas opera sobre TensorDicts,\n",
        "# permitindo a construção de modelos sequenciais que trabalham com múltiplos tensores de entrada e saída.\n",
        "\n",
        "from torch.optim import Adam\n",
        "# Adam: Um otimizador amplamente utilizado, que combina as vantagens dos métodos AdaGrad e RMSProp,\n",
        "# ajustando os passos de atualização com base em estimativas de momentos de primeira e segunda ordem dos gradientes."
      ],
      "metadata": {
        "id": "kOZHIJ1CBbM9"
      },
      "execution_count": null,
      "outputs": []
    },
    {
      "cell_type": "markdown",
      "source": [
        "## Construindo o ambiente"
      ],
      "metadata": {
        "id": "tgdhLE2tBRK0"
      }
    },
    {
      "cell_type": "markdown",
      "source": [
        "Estaremos usando um ambiente de academia com uma StepCounter transformação. Se precisar de uma atualização, verifique se esses recursos são apresentados no tutorial do ambiente ."
      ],
      "metadata": {
        "id": "Mifu8K5xD-uL"
      }
    },
    {
      "cell_type": "code",
      "source": [
        "torch.manual_seed(0) # define a semente manual para a geração de números aleatórios no PyTorch, garantindo a reprodutibilidade dos resultados.\n",
        "env = TransformedEnv(GymEnv(\"CartPole-v1\"), StepCounter())\n",
        "# cria um ambiente de RL para o ambiente \"CartPole-v1\" do OpenAI Gym, com um contador de passos adicionado como uma transformação ao ambiente.\n",
        "env.set_seed(0) # define a semente para o ambiente env, garantindo a consistência do comportamento do ambiente em diferentes execuções."
      ],
      "metadata": {
        "colab": {
          "base_uri": "https://localhost:8080/"
        },
        "id": "HrgYWDxLBVG7",
        "outputId": "11137786-1f82-43e6-e9b9-90cb16b8dfdd"
      },
      "execution_count": null,
      "outputs": [
        {
          "output_type": "stream",
          "name": "stderr",
          "text": [
            "/usr/local/lib/python3.10/dist-packages/ipykernel/ipkernel.py:283: DeprecationWarning: `should_run_async` will not call `transform_cell` automatically in the future. Please pass the result to `transformed_cell` argument and any exception that happen during thetransform in `preprocessing_exc_tuple` in IPython 7.17 and above.\n",
            "  and should_run_async(code)\n",
            "/usr/local/lib/python3.10/dist-packages/torchrl/envs/common.py:2989: DeprecationWarning: Your wrapper was not given a device. Currently, this value will default to 'cpu'. From v0.5 it will default to `None`. With a device of None, no device casting is performed and the resulting tensordicts are deviceless. Please set your device accordingly.\n",
            "  warnings.warn(\n"
          ]
        },
        {
          "output_type": "execute_result",
          "data": {
            "text/plain": [
              "795726461"
            ]
          },
          "metadata": {},
          "execution_count": 7
        }
      ]
    },
    {
      "cell_type": "markdown",
      "source": [
        "## Projetando uma política"
      ],
      "metadata": {
        "id": "1luldNh_BByN"
      }
    },
    {
      "cell_type": "markdown",
      "source": [
        "O próximo passo é construir nossa política. Faremos uma versão regular e determinística do ator para ser usada no módulo de perda e durante a avaliação . A seguir, iremos aumentá-lo com um módulo de exploração para inferência ."
      ],
      "metadata": {
        "id": "HJ3_kle-ECmh"
      }
    },
    {
      "cell_type": "code",
      "source": [
        "# Essa linha cria uma MLP que mapeia observações do ambiente para valores de ação, com duas camadas ocultas de 64 neurônios cada.\n",
        "value_mlp = MLP(out_features=env.action_spec.shape[-1], num_cells=[64, 64])\n",
        "# MLP: Refere-se a um Multi-Layer Perceptron (MLP), uma rede neural feed-forward composta por múltiplas camadas densamente conectadas.\n",
        "# out_features=env.action_spec.shape[-1]: Define o número de neurônios na camada de saída da MLP.\n",
        "# env.action_spec.shape[-1] é a dimensão do espaço de ações do ambiente, o que significa que a MLP vai produzir um valor para cada ação possível no ambiente.\n",
        "# num_cells=[64, 64]: Define a arquitetura da MLP, com duas camadas ocultas, cada uma contendo 64 neurônios.\n",
        "\n",
        "# Essa linha cria um módulo que pega as observações do ambiente (observation) e produz valores de ação (action_value) usando a MLP definida anteriormente.\n",
        "value_net = Mod(value_mlp, in_keys=[\"observation\"], out_keys=[\"action_value\"])\n",
        "# Mod: Refere-se ao TensorDictModule, que é um módulo que opera sobre TensorDicts.\n",
        "# value_mlp: A MLP criada na linha anterior.\n",
        "# in_keys=[\"observation\"]: Define as chaves de entrada para o módulo. Aqui, o módulo espera uma chave chamada observation no TensorDict de entrada.\n",
        "# out_keys=[\"action_value\"]: Define as chaves de saída para o módulo. O módulo irá produzir uma chave chamada action_value no TensorDict de saída.\n"
      ],
      "metadata": {
        "id": "-56BCsLuA2V1",
        "colab": {
          "base_uri": "https://localhost:8080/"
        },
        "outputId": "6c5dcfa1-35b5-460d-e8ee-386ee3556d25"
      },
      "execution_count": null,
      "outputs": [
        {
          "output_type": "stream",
          "name": "stderr",
          "text": [
            "/usr/local/lib/python3.10/dist-packages/ipykernel/ipkernel.py:283: DeprecationWarning: `should_run_async` will not call `transform_cell` automatically in the future. Please pass the result to `transformed_cell` argument and any exception that happen during thetransform in `preprocessing_exc_tuple` in IPython 7.17 and above.\n",
            "  and should_run_async(code)\n",
            "/usr/local/lib/python3.10/dist-packages/torch/nn/modules/lazy.py:181: UserWarning: Lazy modules are a new feature under heavy development so changes to the API or functionality can happen at any moment.\n",
            "  warnings.warn('Lazy modules are a new feature under heavy development '\n"
          ]
        }
      ]
    },
    {
      "cell_type": "code",
      "source": [
        "# Cria uma política que primeiro passa a observação através da value_net para obter os valores de ação\n",
        "# e, em seguida, usa o QValueModule para calcular os valores Q para as ações.\n",
        "policy = Seq(value_net, QValueModule(spec=env.action_spec))\n",
        "# Seq: Refere-se ao TensorDictSequential, que é similar ao torch.nn.Sequential, mas opera sobre TensorDicts.\n",
        "# value_net: O módulo criado na linha anterior.\n",
        "# QValueModule(spec=env.action_spec): Um módulo específico para calcular valores Q, usado em algoritmos de Q-learning.\n",
        "# spec=env.action_spec fornece as especificações do espaço de ações do ambiente.\n",
        "\n",
        "# Cria um módulo de exploração que implementa uma estratégia epsilon-greedy com um valor inicial de epsilon de 0.5 e que diminui ao longo de 100.000 passos.\n",
        "exploration_module = EGreedyModule(env.action_spec, annealing_num_steps=100_000, eps_init=0.5)\n",
        "# EGreedyModule: Implementa política epsilon-greedy, que escolhe ações aleatoriamente com certa probabilidade epsilon, e a melhor ação com probabilidade 1-epsilon.\n",
        "# env.action_spec: As especificações do espaço de ações do ambiente.\n",
        "# annealing_num_steps=100_000: Define o número de passos durante os quais o valor de epsilon será reduzido gradualmente (annealing).\n",
        "# eps_init=0.5: Define o valor inicial de epsilon. No início, 50% das ações serão escolhidas aleatoriamente.\n",
        "\n",
        "# Essa linha combina a política com o módulo de exploração em uma sequência, resultando em uma política que primeiro calcula os valores de ação\n",
        "# e, em seguida, aplica a estratégia epsilon-greedy para selecionar as ações.\n",
        "policy_explore = Seq(policy, exploration_module)\n",
        "# Seq: Refere-se ao TensorDictSequential.\n",
        "# policy: A política definida anteriormente.\n",
        "# exploration_module: O módulo de exploração epsilon-greedy definido na linha anterior.\n"
      ],
      "metadata": {
        "id": "HUps6aNkB40B"
      },
      "execution_count": null,
      "outputs": []
    },
    {
      "cell_type": "markdown",
      "source": [
        "## Coletor de dados e buffer de reprodução"
      ],
      "metadata": {
        "id": "1pZ79d1eCGKL"
      }
    },
    {
      "cell_type": "markdown",
      "source": [
        "Aí vem a parte dos dados: precisamos de um coletor de dados para obter facilmente lotes de dados e um buffer de reprodução para armazenar esses dados para treinamento."
      ],
      "metadata": {
        "id": "4XAc63gAEFen"
      }
    },
    {
      "cell_type": "code",
      "source": [
        "init_rand_steps = 5000\n",
        "# Define o número inicial de passos aleatórios a serem realizados no ambiente antes de começar a usar a política treinada.\n",
        "# Isso ajuda a inicializar o replay buffer com uma diversidade de estados e ações.\n",
        "frames_per_batch = 100\n",
        "# Define o número de frames (ou passos de tempo) que serão coletados em cada lote (batch) de coleta de dados do ambiente.\n",
        "optim_steps = 10      # Define o número de passos de otimização que serão realizados após cada lote de coleta de dados.\n",
        "# Isso controla quantas atualizações dos pesos da rede neural serão feitas com base nos dados coletados.\n",
        "\n",
        "# SyncDataCollector: Um coletor de dados síncrono que coleta experiências do ambiente usando a política fornecida.\n",
        "collector = SyncDataCollector(\n",
        "    env,\n",
        "    policy,\n",
        "    frames_per_batch=frames_per_batch,\n",
        "    total_frames=-1,\n",
        "    init_random_frames=init_rand_steps,\n",
        ")\n",
        "# env: O ambiente de RL, criado anteriormente com TransformedEnv.\n",
        "# policy: A política que será usada para coletar experiências, criada anteriormente.\n",
        "# frames_per_batch=frames_per_batch: Especifica que 100 frames serão coletados em cada lote.\n",
        "# total_frames=-1: Especifica que o coletor deve continuar indefinidamente (ou até que seja explicitamente parado).\n",
        "# init_random_frames=init_rand_steps: Especifica que 5000 passos aleatórios serão realizados inicialmente p/ preencher o replay buffer com experiências variadas.\n",
        "\n",
        "rb = ReplayBuffer(storage=LazyTensorStorage(100_000))\n",
        "# ReplayBuffer: Buffer de replay usado p/ armazenar experiências anteriores p/ amostragem durante o treinamento.\n",
        "# storage=LazyTensorStorage(100_000):\n",
        "# LazyTensorStorage(100_000): Um armazenamento eficiente de tensores que pode armazenar até 100.000 transições."
      ],
      "metadata": {
        "id": "iGxz9i_MCcDu"
      },
      "execution_count": null,
      "outputs": []
    },
    {
      "cell_type": "markdown",
      "source": [
        "## Módulo de perda e otimizador"
      ],
      "metadata": {
        "id": "svF1JALWDJBG"
      }
    },
    {
      "cell_type": "markdown",
      "source": [
        "Construímos nossa perda conforme indicado no tutorial dedicado , com seu otimizador e atualizador de parâmetros de destino:"
      ],
      "metadata": {
        "id": "2APyX0oSEIet"
      }
    },
    {
      "cell_type": "code",
      "source": [
        "#  Implementa a função de perda para o algoritmo DQN (Deep Q-Network).\n",
        "loss = DQNLoss(value_network=policy, action_space=env.action_spec, delay_value=True)\n",
        "# value_network=policy: A rede de valor utilizada para calcular os valores Q. Aqui, policy é a política criada anteriormente, que inclui o QValueModule.\n",
        "# action_space=env.action_spec: Especifica o espaço de ações do ambiente, utilizado para calcular os valores Q para todas as ações possíveis.\n",
        "# delay_value=True: Indica que a rede alvo (target network) deve ser usada para calcular os valores Q futuros, o que é uma técnica comum para estabilizar o treinamento em DQN.\n",
        "\n",
        "# Um otimizador amplamente utilizado que combina as vantagens dos métodos AdaGrad e RMSProp. É particularmente eficiente para grandes problemas de aprendizado de máquina com muitos parâmetros.\n",
        "optim = Adam(loss.parameters(), lr=0.02)\n",
        "# loss.parameters(): Passa os parâmetros da função de perda (que incluem os parâmetros da rede de valor) para o otimizador.\n",
        "# lr=0.02: Define a taxa de aprendizado (learning rate) como 0.02. Esta taxa controla o tamanho dos passos de atualização dos pesos da rede neural durante o treinamento.\n",
        "\n",
        "# Implementa a atualização suave dos parâmetros da rede, uma técnica comum em algoritmos de RL para atualizar gradualmente uma rede alvo (target network) com os parâmetros da rede de valor (online network).\n",
        "updater = SoftUpdate(loss, eps=0.99)\n",
        "# loss: A função de perda que contém os parâmetros da rede de valor e da rede alvo.\n",
        "# eps=0.99: Define o fator de atualização suave (soft update factor). eps=0.99 indica que 99% dos parâmetros da rede alvo são mantidos e apenas 1% é atualizado a partir da rede de valor em cada passo."
      ],
      "metadata": {
        "id": "H0HVRX5eDJ7O"
      },
      "execution_count": null,
      "outputs": []
    },
    {
      "cell_type": "markdown",
      "source": [
        "## Registrador"
      ],
      "metadata": {
        "id": "g8ODzm-GDXm2"
      }
    },
    {
      "cell_type": "markdown",
      "source": [
        "Usaremos um registrador CSV para registrar nossos resultados e salvar vídeos renderizados."
      ],
      "metadata": {
        "id": "zz5akmJ5ENFR"
      }
    },
    {
      "cell_type": "code",
      "source": [
        "path = \"./training_loop\" # Define o diretório onde os logs e outros dados do treinamento serão salvos. Neste caso, é um diretório local chamado training_loop.\n",
        "\n",
        "# CSVLogger: Um logger que registra dados em formato CSV, útil para monitorar o progresso do treinamento e analisar resultados.\n",
        "logger = CSVLogger(exp_name=\"dqn\", log_dir=path, video_format=\"mp4\")\n",
        "# exp_name=\"dqn\": Nome da experiência, usado como um identificador para os logs. Aqui, é definido como \"dqn\" (Deep Q-Network).\n",
        "# log_dir=path: Diretório onde os logs serão salvos. Neste caso, é o diretório definido anteriormente, ./training_loop.\n",
        "# video_format=\"mp4\": Especifica o formato de vídeo para gravação. Aqui, está configurado para MP4.\n",
        "\n",
        "# Um objeto que grava vídeos das execuções do ambiente durante o treinamento, útil para visualizar o comportamento do agente.\n",
        "video_recorder = VideoRecorder(logger, tag=\"video\")\n",
        "# logger: O logger criado na linha anterior, que será usado para salvar os vídeos.\n",
        "# tag=\"video\": Uma tag para identificar os vídeos nos logs. Aqui, está definido como \"video\".\n",
        "\n",
        "# Um wrapper que aplica transformações ao ambiente, como normalização de observações ou recompensas, e também permite a adição de funcionalidades como gravação de vídeos.\n",
        "record_env = TransformedEnv(\n",
        "    GymEnv(\"CartPole-v1\", from_pixels=True, pixels_only=False), video_recorder\n",
        ")\n",
        "# GymEnv(\"CartPole-v1\", from_pixels=True, pixels_only=False): Cria um ambiente GymEnv para o ambiente \"CartPole-v1\" do OpenAI Gym.\n",
        "# from_pixels=True: Indica que o ambiente será renderizado a partir de pixels, permitindo a gravação visual do ambiente.\n",
        "# pixels_only=False: Indica que tanto as observações em forma de pixels quanto outras observações (como a posição e a velocidade do carrinho) serão retornadas pelo ambiente.\n",
        "# video_recorder: O gravador de vídeos criado na linha anterior, que será usado para gravar as execuções do ambiente."
      ],
      "metadata": {
        "colab": {
          "base_uri": "https://localhost:8080/"
        },
        "id": "BXyQFPxRDY9l",
        "outputId": "75b8f72c-e3e9-4fd3-dc3e-855f626d805b"
      },
      "execution_count": null,
      "outputs": [
        {
          "output_type": "stream",
          "name": "stderr",
          "text": [
            "/usr/local/lib/python3.10/dist-packages/torchrl/envs/common.py:2989: DeprecationWarning: Your wrapper was not given a device. Currently, this value will default to 'cpu'. From v0.5 it will default to `None`. With a device of None, no device casting is performed and the resulting tensordicts are deviceless. Please set your device accordingly.\n",
            "  warnings.warn(\n"
          ]
        }
      ]
    },
    {
      "cell_type": "markdown",
      "source": [
        "## Ciclo de treinamento"
      ],
      "metadata": {
        "id": "XvPs9q2TDjyI"
      }
    },
    {
      "cell_type": "markdown",
      "source": [
        "Em vez de fixar um número específico de iterações a serem executadas, continuaremos treinando a rede até que ela atinja um determinado desempenho (definido arbitrariamente como 200 etapas no ambiente – com CartPole, sucesso é definido como ter trajetórias mais longas)."
      ],
      "metadata": {
        "id": "IqBLaVz1EVDR"
      }
    },
    {
      "cell_type": "code",
      "source": [
        "# Linhas de Inicialização\n",
        "total_count = 0 # Inicializa um contador para o número total de passos coletados.\n",
        "total_episodes = 0  #  Inicializa um contador para o número total de episódios completados.\n",
        "t0 = time.time()  # Armazena o tempo de início do treinamento para calcular a duração total no final.\n",
        "\n",
        "# Loop principal do treinamento.\n",
        "for i, data in enumerate(collector): # Inicia um loop que coleta dados do ambiente usando o collector. i é o índice da iteração e data contém as experiências coletadas em cada lote.\n",
        "\n",
        "    # Armazenamento no Replay Buffer\n",
        "    rb.extend(data) # Adiciona as experiências coletadas (data) ao buffer de replay (rb).\n",
        "    max_length = rb[:][\"next\", \"step_count\"].max() # Calcula o comprimento máximo dos episódios armazenados no buffer de replay, acessando o campo \"step_count\".\n",
        "\n",
        "    # Condição para Iniciar a Otimização\n",
        "    if len(rb) > init_rand_steps: # Verifica se o tamanho do buffer de replay é maior que init_rand_steps (5000). A otimização só começa depois que o buffer tem dados suficientes.\n",
        "\n",
        "        # Loop de Otimização\n",
        "        for _ in range(optim_steps): # Realiza várias etapas de otimização para cada lote de dados coletados para maior eficiência.\n",
        "            sample = rb.sample(128) # Amostra 128 transições do buffer de replay.\n",
        "            loss_vals = loss(sample) # Calcula os valores de perda usando a amostra\n",
        "            loss_vals[\"loss\"].backward() # Calcula os gradientes da perda.\n",
        "            optim.step() # Atualiza os parâmetros da rede usando o otimizador.\n",
        "            optim.zero_grad() # Zera os gradientes acumulados para a próxima iteração.\n",
        "\n",
        "            # Atualização do Fator de Exploração\n",
        "            exploration_module.step(data.numel()) # Atualiza o fator de exploração baseado no número de elementos em data.\n",
        "\n",
        "            # Atualização dos Parâmetros da Rede-alvo\n",
        "            updater.step() # Realiza a atualização suave dos parâmetros da rede-alvo.\n",
        "\n",
        "            # Monitoramento e Registro\n",
        "            if i % 10: # Condicional para registrar informações a cada 10 iterações\n",
        "                torchrl_logger.info(f\"Max num steps: {max_length}, rb length {len(rb)}\") # Registra informações sobre o número máximo de passos e o tamanho do buffer de replay.\n",
        "            total_count += data.numel() # Atualiza o contador total de passos coletados.\n",
        "            total_episodes += data[\"next\", \"done\"].sum() # Atualiza o contador total de episódios completados.\n",
        "\n",
        "    # Condição de Parada\n",
        "    if max_length > 300: # Para o loop se o comprimento máximo dos episódios armazenados no buffer de replay for maior que 300.\n",
        "        break\n",
        "\n",
        "# Cálculo e Registro do Tempo Total de Treinamento\n",
        "t1 = time.time() # Armazena o tempo de término do treinamento.\n",
        "torchrl_logger.info(f\"solved after {total_count} steps, {total_episodes} episodes and in {t1-t0}s.\")\n",
        "#  Registra informações sobre o número total de passos, episódios e a duração total do treinamento."
      ],
      "metadata": {
        "colab": {
          "base_uri": "https://localhost:8080/"
        },
        "id": "zUJaZgRJEWOU",
        "outputId": "ae5b7070-91e9-40dd-e542-3695f59f6d9f"
      },
      "execution_count": null,
      "outputs": [
        {
          "output_type": "stream",
          "name": "stderr",
          "text": [
            "/usr/local/lib/python3.10/dist-packages/ipykernel/ipkernel.py:283: DeprecationWarning: `should_run_async` will not call `transform_cell` automatically in the future. Please pass the result to `transformed_cell` argument and any exception that happen during thetransform in `preprocessing_exc_tuple` in IPython 7.17 and above.\n",
            "  and should_run_async(code)\n",
            "2024-05-25 13:01:10,123 [torchrl][INFO] Max num steps: 100, rb length 5200\n",
            "2024-05-25 13:01:10,146 [torchrl][INFO] Max num steps: 100, rb length 5200\n",
            "2024-05-25 13:01:10,163 [torchrl][INFO] Max num steps: 100, rb length 5200\n",
            "2024-05-25 13:01:10,191 [torchrl][INFO] Max num steps: 100, rb length 5200\n",
            "2024-05-25 13:01:10,219 [torchrl][INFO] Max num steps: 100, rb length 5200\n",
            "2024-05-25 13:01:10,236 [torchrl][INFO] Max num steps: 100, rb length 5200\n",
            "2024-05-25 13:01:10,264 [torchrl][INFO] Max num steps: 100, rb length 5200\n",
            "2024-05-25 13:01:10,281 [torchrl][INFO] Max num steps: 100, rb length 5200\n",
            "2024-05-25 13:01:10,298 [torchrl][INFO] Max num steps: 100, rb length 5200\n",
            "2024-05-25 13:01:10,331 [torchrl][INFO] Max num steps: 100, rb length 5200\n",
            "2024-05-25 13:01:10,599 [torchrl][INFO] Max num steps: 100, rb length 5300\n",
            "2024-05-25 13:01:10,618 [torchrl][INFO] Max num steps: 100, rb length 5300\n",
            "2024-05-25 13:01:10,634 [torchrl][INFO] Max num steps: 100, rb length 5300\n",
            "2024-05-25 13:01:10,651 [torchrl][INFO] Max num steps: 100, rb length 5300\n",
            "2024-05-25 13:01:10,669 [torchrl][INFO] Max num steps: 100, rb length 5300\n",
            "2024-05-25 13:01:10,691 [torchrl][INFO] Max num steps: 100, rb length 5300\n",
            "2024-05-25 13:01:10,707 [torchrl][INFO] Max num steps: 100, rb length 5300\n",
            "2024-05-25 13:01:10,722 [torchrl][INFO] Max num steps: 100, rb length 5300\n",
            "2024-05-25 13:01:10,740 [torchrl][INFO] Max num steps: 100, rb length 5300\n",
            "2024-05-25 13:01:10,766 [torchrl][INFO] Max num steps: 100, rb length 5300\n",
            "2024-05-25 13:01:11,156 [torchrl][INFO] Max num steps: 100, rb length 5400\n",
            "2024-05-25 13:01:11,182 [torchrl][INFO] Max num steps: 100, rb length 5400\n",
            "2024-05-25 13:01:11,209 [torchrl][INFO] Max num steps: 100, rb length 5400\n",
            "2024-05-25 13:01:11,227 [torchrl][INFO] Max num steps: 100, rb length 5400\n",
            "2024-05-25 13:01:11,249 [torchrl][INFO] Max num steps: 100, rb length 5400\n",
            "2024-05-25 13:01:11,276 [torchrl][INFO] Max num steps: 100, rb length 5400\n",
            "2024-05-25 13:01:11,296 [torchrl][INFO] Max num steps: 100, rb length 5400\n",
            "2024-05-25 13:01:11,318 [torchrl][INFO] Max num steps: 100, rb length 5400\n",
            "2024-05-25 13:01:11,350 [torchrl][INFO] Max num steps: 100, rb length 5400\n",
            "2024-05-25 13:01:11,377 [torchrl][INFO] Max num steps: 100, rb length 5400\n",
            "2024-05-25 13:01:11,732 [torchrl][INFO] Max num steps: 100, rb length 5500\n",
            "2024-05-25 13:01:11,762 [torchrl][INFO] Max num steps: 100, rb length 5500\n",
            "2024-05-25 13:01:11,781 [torchrl][INFO] Max num steps: 100, rb length 5500\n",
            "2024-05-25 13:01:11,802 [torchrl][INFO] Max num steps: 100, rb length 5500\n",
            "2024-05-25 13:01:11,833 [torchrl][INFO] Max num steps: 100, rb length 5500\n",
            "2024-05-25 13:01:11,869 [torchrl][INFO] Max num steps: 100, rb length 5500\n",
            "2024-05-25 13:01:11,906 [torchrl][INFO] Max num steps: 100, rb length 5500\n",
            "2024-05-25 13:01:11,928 [torchrl][INFO] Max num steps: 100, rb length 5500\n",
            "2024-05-25 13:01:11,959 [torchrl][INFO] Max num steps: 100, rb length 5500\n",
            "2024-05-25 13:01:11,989 [torchrl][INFO] Max num steps: 100, rb length 5500\n",
            "2024-05-25 13:01:12,295 [torchrl][INFO] Max num steps: 100, rb length 5600\n",
            "2024-05-25 13:01:12,338 [torchrl][INFO] Max num steps: 100, rb length 5600\n",
            "2024-05-25 13:01:12,372 [torchrl][INFO] Max num steps: 100, rb length 5600\n",
            "2024-05-25 13:01:12,403 [torchrl][INFO] Max num steps: 100, rb length 5600\n",
            "2024-05-25 13:01:12,452 [torchrl][INFO] Max num steps: 100, rb length 5600\n",
            "2024-05-25 13:01:12,487 [torchrl][INFO] Max num steps: 100, rb length 5600\n",
            "2024-05-25 13:01:12,522 [torchrl][INFO] Max num steps: 100, rb length 5600\n",
            "2024-05-25 13:01:12,551 [torchrl][INFO] Max num steps: 100, rb length 5600\n",
            "2024-05-25 13:01:12,581 [torchrl][INFO] Max num steps: 100, rb length 5600\n",
            "2024-05-25 13:01:12,632 [torchrl][INFO] Max num steps: 100, rb length 5600\n",
            "2024-05-25 13:01:12,954 [torchrl][INFO] Max num steps: 100, rb length 5700\n",
            "2024-05-25 13:01:12,993 [torchrl][INFO] Max num steps: 100, rb length 5700\n",
            "2024-05-25 13:01:13,048 [torchrl][INFO] Max num steps: 100, rb length 5700\n",
            "2024-05-25 13:01:13,081 [torchrl][INFO] Max num steps: 100, rb length 5700\n",
            "2024-05-25 13:01:13,119 [torchrl][INFO] Max num steps: 100, rb length 5700\n",
            "2024-05-25 13:01:13,169 [torchrl][INFO] Max num steps: 100, rb length 5700\n",
            "2024-05-25 13:01:13,198 [torchrl][INFO] Max num steps: 100, rb length 5700\n",
            "2024-05-25 13:01:13,232 [torchrl][INFO] Max num steps: 100, rb length 5700\n",
            "2024-05-25 13:01:13,265 [torchrl][INFO] Max num steps: 100, rb length 5700\n",
            "2024-05-25 13:01:13,286 [torchrl][INFO] Max num steps: 100, rb length 5700\n",
            "2024-05-25 13:01:13,732 [torchrl][INFO] Max num steps: 100, rb length 5800\n",
            "2024-05-25 13:01:13,797 [torchrl][INFO] Max num steps: 100, rb length 5800\n",
            "2024-05-25 13:01:13,832 [torchrl][INFO] Max num steps: 100, rb length 5800\n",
            "2024-05-25 13:01:13,895 [torchrl][INFO] Max num steps: 100, rb length 5800\n",
            "2024-05-25 13:01:13,914 [torchrl][INFO] Max num steps: 100, rb length 5800\n",
            "2024-05-25 13:01:13,936 [torchrl][INFO] Max num steps: 100, rb length 5800\n",
            "2024-05-25 13:01:13,963 [torchrl][INFO] Max num steps: 100, rb length 5800\n",
            "2024-05-25 13:01:13,986 [torchrl][INFO] Max num steps: 100, rb length 5800\n",
            "2024-05-25 13:01:14,019 [torchrl][INFO] Max num steps: 100, rb length 5800\n",
            "2024-05-25 13:01:14,052 [torchrl][INFO] Max num steps: 100, rb length 5800\n",
            "2024-05-25 13:01:14,545 [torchrl][INFO] Max num steps: 100, rb length 5900\n",
            "2024-05-25 13:01:14,571 [torchrl][INFO] Max num steps: 100, rb length 5900\n",
            "2024-05-25 13:01:14,609 [torchrl][INFO] Max num steps: 100, rb length 5900\n",
            "2024-05-25 13:01:14,642 [torchrl][INFO] Max num steps: 100, rb length 5900\n",
            "2024-05-25 13:01:14,669 [torchrl][INFO] Max num steps: 100, rb length 5900\n",
            "2024-05-25 13:01:14,698 [torchrl][INFO] Max num steps: 100, rb length 5900\n",
            "2024-05-25 13:01:14,732 [torchrl][INFO] Max num steps: 100, rb length 5900\n",
            "2024-05-25 13:01:14,803 [torchrl][INFO] Max num steps: 100, rb length 5900\n",
            "2024-05-25 13:01:14,891 [torchrl][INFO] Max num steps: 100, rb length 5900\n",
            "2024-05-25 13:01:14,925 [torchrl][INFO] Max num steps: 100, rb length 5900\n",
            "2024-05-25 13:01:15,275 [torchrl][INFO] Max num steps: 100, rb length 6000\n",
            "2024-05-25 13:01:15,325 [torchrl][INFO] Max num steps: 100, rb length 6000\n",
            "2024-05-25 13:01:15,351 [torchrl][INFO] Max num steps: 100, rb length 6000\n",
            "2024-05-25 13:01:15,368 [torchrl][INFO] Max num steps: 100, rb length 6000\n",
            "2024-05-25 13:01:15,401 [torchrl][INFO] Max num steps: 100, rb length 6000\n",
            "2024-05-25 13:01:15,424 [torchrl][INFO] Max num steps: 100, rb length 6000\n",
            "2024-05-25 13:01:15,444 [torchrl][INFO] Max num steps: 100, rb length 6000\n",
            "2024-05-25 13:01:15,462 [torchrl][INFO] Max num steps: 100, rb length 6000\n",
            "2024-05-25 13:01:15,479 [torchrl][INFO] Max num steps: 100, rb length 6000\n",
            "2024-05-25 13:01:15,500 [torchrl][INFO] Max num steps: 100, rb length 6000\n",
            "2024-05-25 13:01:16,047 [torchrl][INFO] Max num steps: 103, rb length 6200\n",
            "2024-05-25 13:01:16,069 [torchrl][INFO] Max num steps: 103, rb length 6200\n",
            "2024-05-25 13:01:16,095 [torchrl][INFO] Max num steps: 103, rb length 6200\n",
            "2024-05-25 13:01:16,112 [torchrl][INFO] Max num steps: 103, rb length 6200\n",
            "2024-05-25 13:01:16,129 [torchrl][INFO] Max num steps: 103, rb length 6200\n",
            "2024-05-25 13:01:16,145 [torchrl][INFO] Max num steps: 103, rb length 6200\n",
            "2024-05-25 13:01:16,168 [torchrl][INFO] Max num steps: 103, rb length 6200\n",
            "2024-05-25 13:01:16,186 [torchrl][INFO] Max num steps: 103, rb length 6200\n",
            "2024-05-25 13:01:16,203 [torchrl][INFO] Max num steps: 103, rb length 6200\n",
            "2024-05-25 13:01:16,237 [torchrl][INFO] Max num steps: 103, rb length 6200\n",
            "2024-05-25 13:01:16,529 [torchrl][INFO] Max num steps: 174, rb length 6300\n",
            "2024-05-25 13:01:16,573 [torchrl][INFO] Max num steps: 174, rb length 6300\n",
            "2024-05-25 13:01:16,602 [torchrl][INFO] Max num steps: 174, rb length 6300\n",
            "2024-05-25 13:01:16,635 [torchrl][INFO] Max num steps: 174, rb length 6300\n",
            "2024-05-25 13:01:16,662 [torchrl][INFO] Max num steps: 174, rb length 6300\n",
            "2024-05-25 13:01:16,690 [torchrl][INFO] Max num steps: 174, rb length 6300\n",
            "2024-05-25 13:01:16,745 [torchrl][INFO] Max num steps: 174, rb length 6300\n",
            "2024-05-25 13:01:16,768 [torchrl][INFO] Max num steps: 174, rb length 6300\n",
            "2024-05-25 13:01:16,790 [torchrl][INFO] Max num steps: 174, rb length 6300\n",
            "2024-05-25 13:01:16,834 [torchrl][INFO] Max num steps: 174, rb length 6300\n",
            "2024-05-25 13:01:17,049 [torchrl][INFO] Max num steps: 174, rb length 6400\n",
            "2024-05-25 13:01:17,071 [torchrl][INFO] Max num steps: 174, rb length 6400\n",
            "2024-05-25 13:01:17,091 [torchrl][INFO] Max num steps: 174, rb length 6400\n",
            "2024-05-25 13:01:17,121 [torchrl][INFO] Max num steps: 174, rb length 6400\n",
            "2024-05-25 13:01:17,141 [torchrl][INFO] Max num steps: 174, rb length 6400\n",
            "2024-05-25 13:01:17,161 [torchrl][INFO] Max num steps: 174, rb length 6400\n",
            "2024-05-25 13:01:17,181 [torchrl][INFO] Max num steps: 174, rb length 6400\n",
            "2024-05-25 13:01:17,201 [torchrl][INFO] Max num steps: 174, rb length 6400\n",
            "2024-05-25 13:01:17,221 [torchrl][INFO] Max num steps: 174, rb length 6400\n",
            "2024-05-25 13:01:17,247 [torchrl][INFO] Max num steps: 174, rb length 6400\n",
            "2024-05-25 13:01:17,444 [torchrl][INFO] Max num steps: 174, rb length 6500\n",
            "2024-05-25 13:01:17,470 [torchrl][INFO] Max num steps: 174, rb length 6500\n",
            "2024-05-25 13:01:17,490 [torchrl][INFO] Max num steps: 174, rb length 6500\n",
            "2024-05-25 13:01:17,510 [torchrl][INFO] Max num steps: 174, rb length 6500\n",
            "2024-05-25 13:01:17,526 [torchrl][INFO] Max num steps: 174, rb length 6500\n",
            "2024-05-25 13:01:17,547 [torchrl][INFO] Max num steps: 174, rb length 6500\n",
            "2024-05-25 13:01:17,574 [torchrl][INFO] Max num steps: 174, rb length 6500\n",
            "2024-05-25 13:01:17,614 [torchrl][INFO] Max num steps: 174, rb length 6500\n",
            "2024-05-25 13:01:17,635 [torchrl][INFO] Max num steps: 174, rb length 6500\n",
            "2024-05-25 13:01:17,654 [torchrl][INFO] Max num steps: 174, rb length 6500\n",
            "2024-05-25 13:01:17,876 [torchrl][INFO] Max num steps: 174, rb length 6600\n",
            "2024-05-25 13:01:17,900 [torchrl][INFO] Max num steps: 174, rb length 6600\n",
            "2024-05-25 13:01:17,916 [torchrl][INFO] Max num steps: 174, rb length 6600\n",
            "2024-05-25 13:01:17,932 [torchrl][INFO] Max num steps: 174, rb length 6600\n",
            "2024-05-25 13:01:17,947 [torchrl][INFO] Max num steps: 174, rb length 6600\n",
            "2024-05-25 13:01:17,963 [torchrl][INFO] Max num steps: 174, rb length 6600\n",
            "2024-05-25 13:01:17,979 [torchrl][INFO] Max num steps: 174, rb length 6600\n",
            "2024-05-25 13:01:17,995 [torchrl][INFO] Max num steps: 174, rb length 6600\n",
            "2024-05-25 13:01:18,010 [torchrl][INFO] Max num steps: 174, rb length 6600\n",
            "2024-05-25 13:01:18,029 [torchrl][INFO] Max num steps: 174, rb length 6600\n",
            "2024-05-25 13:01:18,209 [torchrl][INFO] Max num steps: 174, rb length 6700\n",
            "2024-05-25 13:01:18,226 [torchrl][INFO] Max num steps: 174, rb length 6700\n",
            "2024-05-25 13:01:18,252 [torchrl][INFO] Max num steps: 174, rb length 6700\n",
            "2024-05-25 13:01:18,279 [torchrl][INFO] Max num steps: 174, rb length 6700\n",
            "2024-05-25 13:01:18,301 [torchrl][INFO] Max num steps: 174, rb length 6700\n",
            "2024-05-25 13:01:18,319 [torchrl][INFO] Max num steps: 174, rb length 6700\n",
            "2024-05-25 13:01:18,335 [torchrl][INFO] Max num steps: 174, rb length 6700\n",
            "2024-05-25 13:01:18,352 [torchrl][INFO] Max num steps: 174, rb length 6700\n",
            "2024-05-25 13:01:18,371 [torchrl][INFO] Max num steps: 174, rb length 6700\n",
            "2024-05-25 13:01:18,393 [torchrl][INFO] Max num steps: 174, rb length 6700\n",
            "2024-05-25 13:01:18,583 [torchrl][INFO] Max num steps: 174, rb length 6800\n",
            "2024-05-25 13:01:18,611 [torchrl][INFO] Max num steps: 174, rb length 6800\n",
            "2024-05-25 13:01:18,632 [torchrl][INFO] Max num steps: 174, rb length 6800\n",
            "2024-05-25 13:01:18,676 [torchrl][INFO] Max num steps: 174, rb length 6800\n",
            "2024-05-25 13:01:18,700 [torchrl][INFO] Max num steps: 174, rb length 6800\n",
            "2024-05-25 13:01:18,724 [torchrl][INFO] Max num steps: 174, rb length 6800\n",
            "2024-05-25 13:01:18,743 [torchrl][INFO] Max num steps: 174, rb length 6800\n",
            "2024-05-25 13:01:18,761 [torchrl][INFO] Max num steps: 174, rb length 6800\n",
            "2024-05-25 13:01:18,810 [torchrl][INFO] Max num steps: 174, rb length 6800\n",
            "2024-05-25 13:01:18,837 [torchrl][INFO] Max num steps: 174, rb length 6800\n",
            "2024-05-25 13:01:19,025 [torchrl][INFO] Max num steps: 174, rb length 6900\n",
            "2024-05-25 13:01:19,045 [torchrl][INFO] Max num steps: 174, rb length 6900\n",
            "2024-05-25 13:01:19,061 [torchrl][INFO] Max num steps: 174, rb length 6900\n",
            "2024-05-25 13:01:19,080 [torchrl][INFO] Max num steps: 174, rb length 6900\n",
            "2024-05-25 13:01:19,104 [torchrl][INFO] Max num steps: 174, rb length 6900\n",
            "2024-05-25 13:01:19,121 [torchrl][INFO] Max num steps: 174, rb length 6900\n",
            "2024-05-25 13:01:19,138 [torchrl][INFO] Max num steps: 174, rb length 6900\n",
            "2024-05-25 13:01:19,155 [torchrl][INFO] Max num steps: 174, rb length 6900\n",
            "2024-05-25 13:01:19,171 [torchrl][INFO] Max num steps: 174, rb length 6900\n",
            "2024-05-25 13:01:19,193 [torchrl][INFO] Max num steps: 174, rb length 6900\n",
            "2024-05-25 13:01:19,358 [torchrl][INFO] Max num steps: 174, rb length 7000\n",
            "2024-05-25 13:01:19,376 [torchrl][INFO] Max num steps: 174, rb length 7000\n",
            "2024-05-25 13:01:19,395 [torchrl][INFO] Max num steps: 174, rb length 7000\n",
            "2024-05-25 13:01:19,414 [torchrl][INFO] Max num steps: 174, rb length 7000\n",
            "2024-05-25 13:01:19,433 [torchrl][INFO] Max num steps: 174, rb length 7000\n",
            "2024-05-25 13:01:19,452 [torchrl][INFO] Max num steps: 174, rb length 7000\n",
            "2024-05-25 13:01:19,472 [torchrl][INFO] Max num steps: 174, rb length 7000\n",
            "2024-05-25 13:01:19,492 [torchrl][INFO] Max num steps: 174, rb length 7000\n",
            "2024-05-25 13:01:19,516 [torchrl][INFO] Max num steps: 174, rb length 7000\n",
            "2024-05-25 13:01:19,539 [torchrl][INFO] Max num steps: 174, rb length 7000\n",
            "2024-05-25 13:01:20,010 [torchrl][INFO] Max num steps: 174, rb length 7200\n",
            "2024-05-25 13:01:20,031 [torchrl][INFO] Max num steps: 174, rb length 7200\n",
            "2024-05-25 13:01:20,055 [torchrl][INFO] Max num steps: 174, rb length 7200\n",
            "2024-05-25 13:01:20,075 [torchrl][INFO] Max num steps: 174, rb length 7200\n",
            "2024-05-25 13:01:20,094 [torchrl][INFO] Max num steps: 174, rb length 7200\n",
            "2024-05-25 13:01:20,113 [torchrl][INFO] Max num steps: 174, rb length 7200\n",
            "2024-05-25 13:01:20,133 [torchrl][INFO] Max num steps: 174, rb length 7200\n",
            "2024-05-25 13:01:20,154 [torchrl][INFO] Max num steps: 174, rb length 7200\n",
            "2024-05-25 13:01:20,173 [torchrl][INFO] Max num steps: 174, rb length 7200\n",
            "2024-05-25 13:01:20,192 [torchrl][INFO] Max num steps: 174, rb length 7200\n",
            "2024-05-25 13:01:20,437 [torchrl][INFO] Max num steps: 194, rb length 7300\n",
            "2024-05-25 13:01:20,466 [torchrl][INFO] Max num steps: 194, rb length 7300\n",
            "2024-05-25 13:01:20,493 [torchrl][INFO] Max num steps: 194, rb length 7300\n",
            "2024-05-25 13:01:20,514 [torchrl][INFO] Max num steps: 194, rb length 7300\n",
            "2024-05-25 13:01:20,533 [torchrl][INFO] Max num steps: 194, rb length 7300\n",
            "2024-05-25 13:01:20,571 [torchrl][INFO] Max num steps: 194, rb length 7300\n",
            "2024-05-25 13:01:20,607 [torchrl][INFO] Max num steps: 194, rb length 7300\n",
            "2024-05-25 13:01:20,643 [torchrl][INFO] Max num steps: 194, rb length 7300\n",
            "2024-05-25 13:01:20,674 [torchrl][INFO] Max num steps: 194, rb length 7300\n",
            "2024-05-25 13:01:20,708 [torchrl][INFO] Max num steps: 194, rb length 7300\n",
            "2024-05-25 13:01:21,009 [torchrl][INFO] Max num steps: 194, rb length 7400\n",
            "2024-05-25 13:01:21,028 [torchrl][INFO] Max num steps: 194, rb length 7400\n",
            "2024-05-25 13:01:21,048 [torchrl][INFO] Max num steps: 194, rb length 7400\n",
            "2024-05-25 13:01:21,068 [torchrl][INFO] Max num steps: 194, rb length 7400\n",
            "2024-05-25 13:01:21,087 [torchrl][INFO] Max num steps: 194, rb length 7400\n",
            "2024-05-25 13:01:21,105 [torchrl][INFO] Max num steps: 194, rb length 7400\n",
            "2024-05-25 13:01:21,124 [torchrl][INFO] Max num steps: 194, rb length 7400\n",
            "2024-05-25 13:01:21,144 [torchrl][INFO] Max num steps: 194, rb length 7400\n",
            "2024-05-25 13:01:21,163 [torchrl][INFO] Max num steps: 194, rb length 7400\n",
            "2024-05-25 13:01:21,182 [torchrl][INFO] Max num steps: 194, rb length 7400\n",
            "2024-05-25 13:01:21,351 [torchrl][INFO] Max num steps: 194, rb length 7500\n",
            "2024-05-25 13:01:21,371 [torchrl][INFO] Max num steps: 194, rb length 7500\n",
            "2024-05-25 13:01:21,391 [torchrl][INFO] Max num steps: 194, rb length 7500\n",
            "2024-05-25 13:01:21,411 [torchrl][INFO] Max num steps: 194, rb length 7500\n",
            "2024-05-25 13:01:21,433 [torchrl][INFO] Max num steps: 194, rb length 7500\n",
            "2024-05-25 13:01:21,453 [torchrl][INFO] Max num steps: 194, rb length 7500\n",
            "2024-05-25 13:01:21,472 [torchrl][INFO] Max num steps: 194, rb length 7500\n",
            "2024-05-25 13:01:21,490 [torchrl][INFO] Max num steps: 194, rb length 7500\n",
            "2024-05-25 13:01:21,513 [torchrl][INFO] Max num steps: 194, rb length 7500\n",
            "2024-05-25 13:01:21,532 [torchrl][INFO] Max num steps: 194, rb length 7500\n",
            "2024-05-25 13:01:21,786 [torchrl][INFO] Max num steps: 194, rb length 7600\n",
            "2024-05-25 13:01:21,828 [torchrl][INFO] Max num steps: 194, rb length 7600\n",
            "2024-05-25 13:01:21,853 [torchrl][INFO] Max num steps: 194, rb length 7600\n",
            "2024-05-25 13:01:21,872 [torchrl][INFO] Max num steps: 194, rb length 7600\n",
            "2024-05-25 13:01:21,896 [torchrl][INFO] Max num steps: 194, rb length 7600\n",
            "2024-05-25 13:01:21,920 [torchrl][INFO] Max num steps: 194, rb length 7600\n",
            "2024-05-25 13:01:21,942 [torchrl][INFO] Max num steps: 194, rb length 7600\n",
            "2024-05-25 13:01:21,965 [torchrl][INFO] Max num steps: 194, rb length 7600\n",
            "2024-05-25 13:01:21,991 [torchrl][INFO] Max num steps: 194, rb length 7600\n",
            "2024-05-25 13:01:22,011 [torchrl][INFO] Max num steps: 194, rb length 7600\n",
            "2024-05-25 13:01:22,191 [torchrl][INFO] Max num steps: 194, rb length 7700\n",
            "2024-05-25 13:01:22,209 [torchrl][INFO] Max num steps: 194, rb length 7700\n",
            "2024-05-25 13:01:22,229 [torchrl][INFO] Max num steps: 194, rb length 7700\n",
            "2024-05-25 13:01:22,248 [torchrl][INFO] Max num steps: 194, rb length 7700\n",
            "2024-05-25 13:01:22,267 [torchrl][INFO] Max num steps: 194, rb length 7700\n",
            "2024-05-25 13:01:22,290 [torchrl][INFO] Max num steps: 194, rb length 7700\n",
            "2024-05-25 13:01:22,309 [torchrl][INFO] Max num steps: 194, rb length 7700\n",
            "2024-05-25 13:01:22,328 [torchrl][INFO] Max num steps: 194, rb length 7700\n",
            "2024-05-25 13:01:22,347 [torchrl][INFO] Max num steps: 194, rb length 7700\n",
            "2024-05-25 13:01:22,365 [torchrl][INFO] Max num steps: 194, rb length 7700\n",
            "2024-05-25 13:01:22,523 [torchrl][INFO] Max num steps: 194, rb length 7800\n",
            "2024-05-25 13:01:22,542 [torchrl][INFO] Max num steps: 194, rb length 7800\n",
            "2024-05-25 13:01:22,559 [torchrl][INFO] Max num steps: 194, rb length 7800\n",
            "2024-05-25 13:01:22,575 [torchrl][INFO] Max num steps: 194, rb length 7800\n",
            "2024-05-25 13:01:22,599 [torchrl][INFO] Max num steps: 194, rb length 7800\n",
            "2024-05-25 13:01:22,616 [torchrl][INFO] Max num steps: 194, rb length 7800\n",
            "2024-05-25 13:01:22,633 [torchrl][INFO] Max num steps: 194, rb length 7800\n",
            "2024-05-25 13:01:22,650 [torchrl][INFO] Max num steps: 194, rb length 7800\n",
            "2024-05-25 13:01:22,668 [torchrl][INFO] Max num steps: 194, rb length 7800\n",
            "2024-05-25 13:01:22,685 [torchrl][INFO] Max num steps: 194, rb length 7800\n",
            "2024-05-25 13:01:22,847 [torchrl][INFO] Max num steps: 194, rb length 7900\n",
            "2024-05-25 13:01:22,868 [torchrl][INFO] Max num steps: 194, rb length 7900\n",
            "2024-05-25 13:01:22,888 [torchrl][INFO] Max num steps: 194, rb length 7900\n",
            "2024-05-25 13:01:22,906 [torchrl][INFO] Max num steps: 194, rb length 7900\n",
            "2024-05-25 13:01:22,936 [torchrl][INFO] Max num steps: 194, rb length 7900\n",
            "2024-05-25 13:01:22,966 [torchrl][INFO] Max num steps: 194, rb length 7900\n",
            "2024-05-25 13:01:22,988 [torchrl][INFO] Max num steps: 194, rb length 7900\n",
            "2024-05-25 13:01:23,008 [torchrl][INFO] Max num steps: 194, rb length 7900\n",
            "2024-05-25 13:01:23,029 [torchrl][INFO] Max num steps: 194, rb length 7900\n",
            "2024-05-25 13:01:23,054 [torchrl][INFO] Max num steps: 194, rb length 7900\n",
            "2024-05-25 13:01:23,287 [torchrl][INFO] Max num steps: 210, rb length 8000\n",
            "2024-05-25 13:01:23,317 [torchrl][INFO] Max num steps: 210, rb length 8000\n",
            "2024-05-25 13:01:23,360 [torchrl][INFO] Max num steps: 210, rb length 8000\n",
            "2024-05-25 13:01:23,386 [torchrl][INFO] Max num steps: 210, rb length 8000\n",
            "2024-05-25 13:01:23,413 [torchrl][INFO] Max num steps: 210, rb length 8000\n",
            "2024-05-25 13:01:23,440 [torchrl][INFO] Max num steps: 210, rb length 8000\n",
            "2024-05-25 13:01:23,459 [torchrl][INFO] Max num steps: 210, rb length 8000\n",
            "2024-05-25 13:01:23,478 [torchrl][INFO] Max num steps: 210, rb length 8000\n",
            "2024-05-25 13:01:23,509 [torchrl][INFO] Max num steps: 210, rb length 8000\n",
            "2024-05-25 13:01:23,535 [torchrl][INFO] Max num steps: 210, rb length 8000\n",
            "2024-05-25 13:01:24,079 [torchrl][INFO] Max num steps: 218, rb length 8200\n",
            "2024-05-25 13:01:24,099 [torchrl][INFO] Max num steps: 218, rb length 8200\n",
            "2024-05-25 13:01:24,119 [torchrl][INFO] Max num steps: 218, rb length 8200\n",
            "2024-05-25 13:01:24,143 [torchrl][INFO] Max num steps: 218, rb length 8200\n",
            "2024-05-25 13:01:24,163 [torchrl][INFO] Max num steps: 218, rb length 8200\n",
            "2024-05-25 13:01:24,182 [torchrl][INFO] Max num steps: 218, rb length 8200\n",
            "2024-05-25 13:01:24,201 [torchrl][INFO] Max num steps: 218, rb length 8200\n",
            "2024-05-25 13:01:24,227 [torchrl][INFO] Max num steps: 218, rb length 8200\n",
            "2024-05-25 13:01:24,246 [torchrl][INFO] Max num steps: 218, rb length 8200\n",
            "2024-05-25 13:01:24,265 [torchrl][INFO] Max num steps: 218, rb length 8200\n",
            "2024-05-25 13:01:24,440 [torchrl][INFO] Max num steps: 218, rb length 8300\n",
            "2024-05-25 13:01:24,461 [torchrl][INFO] Max num steps: 218, rb length 8300\n",
            "2024-05-25 13:01:24,481 [torchrl][INFO] Max num steps: 218, rb length 8300\n",
            "2024-05-25 13:01:24,501 [torchrl][INFO] Max num steps: 218, rb length 8300\n",
            "2024-05-25 13:01:24,520 [torchrl][INFO] Max num steps: 218, rb length 8300\n",
            "2024-05-25 13:01:24,539 [torchrl][INFO] Max num steps: 218, rb length 8300\n",
            "2024-05-25 13:01:24,558 [torchrl][INFO] Max num steps: 218, rb length 8300\n",
            "2024-05-25 13:01:24,578 [torchrl][INFO] Max num steps: 218, rb length 8300\n",
            "2024-05-25 13:01:24,598 [torchrl][INFO] Max num steps: 218, rb length 8300\n",
            "2024-05-25 13:01:24,632 [torchrl][INFO] Max num steps: 218, rb length 8300\n",
            "2024-05-25 13:01:24,801 [torchrl][INFO] Max num steps: 218, rb length 8400\n",
            "2024-05-25 13:01:24,885 [torchrl][INFO] Max num steps: 218, rb length 8400\n",
            "2024-05-25 13:01:24,939 [torchrl][INFO] Max num steps: 218, rb length 8400\n",
            "2024-05-25 13:01:24,984 [torchrl][INFO] Max num steps: 218, rb length 8400\n",
            "2024-05-25 13:01:25,038 [torchrl][INFO] Max num steps: 218, rb length 8400\n",
            "2024-05-25 13:01:25,071 [torchrl][INFO] Max num steps: 218, rb length 8400\n",
            "2024-05-25 13:01:25,095 [torchrl][INFO] Max num steps: 218, rb length 8400\n",
            "2024-05-25 13:01:25,114 [torchrl][INFO] Max num steps: 218, rb length 8400\n",
            "2024-05-25 13:01:25,135 [torchrl][INFO] Max num steps: 218, rb length 8400\n",
            "2024-05-25 13:01:25,154 [torchrl][INFO] Max num steps: 218, rb length 8400\n",
            "2024-05-25 13:01:25,368 [torchrl][INFO] Max num steps: 218, rb length 8500\n",
            "2024-05-25 13:01:25,394 [torchrl][INFO] Max num steps: 218, rb length 8500\n",
            "2024-05-25 13:01:25,415 [torchrl][INFO] Max num steps: 218, rb length 8500\n",
            "2024-05-25 13:01:25,437 [torchrl][INFO] Max num steps: 218, rb length 8500\n",
            "2024-05-25 13:01:25,473 [torchrl][INFO] Max num steps: 218, rb length 8500\n",
            "2024-05-25 13:01:25,500 [torchrl][INFO] Max num steps: 218, rb length 8500\n",
            "2024-05-25 13:01:25,529 [torchrl][INFO] Max num steps: 218, rb length 8500\n",
            "2024-05-25 13:01:25,572 [torchrl][INFO] Max num steps: 218, rb length 8500\n",
            "2024-05-25 13:01:25,601 [torchrl][INFO] Max num steps: 218, rb length 8500\n",
            "2024-05-25 13:01:25,628 [torchrl][INFO] Max num steps: 218, rb length 8500\n",
            "2024-05-25 13:01:26,263 [torchrl][INFO] Max num steps: 218, rb length 8600\n",
            "2024-05-25 13:01:26,300 [torchrl][INFO] Max num steps: 218, rb length 8600\n",
            "2024-05-25 13:01:26,373 [torchrl][INFO] Max num steps: 218, rb length 8600\n",
            "2024-05-25 13:01:26,446 [torchrl][INFO] Max num steps: 218, rb length 8600\n",
            "2024-05-25 13:01:26,518 [torchrl][INFO] Max num steps: 218, rb length 8600\n",
            "2024-05-25 13:01:26,591 [torchrl][INFO] Max num steps: 218, rb length 8600\n",
            "2024-05-25 13:01:26,636 [torchrl][INFO] Max num steps: 218, rb length 8600\n",
            "2024-05-25 13:01:26,683 [torchrl][INFO] Max num steps: 218, rb length 8600\n",
            "2024-05-25 13:01:26,744 [torchrl][INFO] Max num steps: 218, rb length 8600\n",
            "2024-05-25 13:01:26,794 [torchrl][INFO] Max num steps: 218, rb length 8600\n",
            "2024-05-25 13:01:27,208 [torchrl][INFO] Max num steps: 218, rb length 8700\n",
            "2024-05-25 13:01:27,233 [torchrl][INFO] Max num steps: 218, rb length 8700\n",
            "2024-05-25 13:01:27,257 [torchrl][INFO] Max num steps: 218, rb length 8700\n",
            "2024-05-25 13:01:27,275 [torchrl][INFO] Max num steps: 218, rb length 8700\n",
            "2024-05-25 13:01:27,301 [torchrl][INFO] Max num steps: 218, rb length 8700\n",
            "2024-05-25 13:01:27,337 [torchrl][INFO] Max num steps: 218, rb length 8700\n",
            "2024-05-25 13:01:27,365 [torchrl][INFO] Max num steps: 218, rb length 8700\n",
            "2024-05-25 13:01:27,397 [torchrl][INFO] Max num steps: 218, rb length 8700\n",
            "2024-05-25 13:01:27,451 [torchrl][INFO] Max num steps: 218, rb length 8700\n",
            "2024-05-25 13:01:27,500 [torchrl][INFO] Max num steps: 218, rb length 8700\n",
            "2024-05-25 13:01:27,810 [torchrl][INFO] Max num steps: 218, rb length 8800\n",
            "2024-05-25 13:01:27,835 [torchrl][INFO] Max num steps: 218, rb length 8800\n",
            "2024-05-25 13:01:27,866 [torchrl][INFO] Max num steps: 218, rb length 8800\n",
            "2024-05-25 13:01:27,894 [torchrl][INFO] Max num steps: 218, rb length 8800\n",
            "2024-05-25 13:01:27,924 [torchrl][INFO] Max num steps: 218, rb length 8800\n",
            "2024-05-25 13:01:27,971 [torchrl][INFO] Max num steps: 218, rb length 8800\n",
            "2024-05-25 13:01:28,008 [torchrl][INFO] Max num steps: 218, rb length 8800\n",
            "2024-05-25 13:01:28,034 [torchrl][INFO] Max num steps: 218, rb length 8800\n",
            "2024-05-25 13:01:28,059 [torchrl][INFO] Max num steps: 218, rb length 8800\n",
            "2024-05-25 13:01:28,081 [torchrl][INFO] Max num steps: 218, rb length 8800\n",
            "2024-05-25 13:01:28,509 [torchrl][INFO] Max num steps: 218, rb length 8900\n",
            "2024-05-25 13:01:28,536 [torchrl][INFO] Max num steps: 218, rb length 8900\n",
            "2024-05-25 13:01:28,617 [torchrl][INFO] Max num steps: 218, rb length 8900\n",
            "2024-05-25 13:01:28,658 [torchrl][INFO] Max num steps: 218, rb length 8900\n",
            "2024-05-25 13:01:28,696 [torchrl][INFO] Max num steps: 218, rb length 8900\n",
            "2024-05-25 13:01:28,747 [torchrl][INFO] Max num steps: 218, rb length 8900\n",
            "2024-05-25 13:01:28,774 [torchrl][INFO] Max num steps: 218, rb length 8900\n",
            "2024-05-25 13:01:28,797 [torchrl][INFO] Max num steps: 218, rb length 8900\n",
            "2024-05-25 13:01:28,834 [torchrl][INFO] Max num steps: 218, rb length 8900\n",
            "2024-05-25 13:01:28,869 [torchrl][INFO] Max num steps: 218, rb length 8900\n",
            "2024-05-25 13:01:29,199 [torchrl][INFO] Max num steps: 218, rb length 9000\n",
            "2024-05-25 13:01:29,234 [torchrl][INFO] Max num steps: 218, rb length 9000\n",
            "2024-05-25 13:01:29,282 [torchrl][INFO] Max num steps: 218, rb length 9000\n",
            "2024-05-25 13:01:29,308 [torchrl][INFO] Max num steps: 218, rb length 9000\n",
            "2024-05-25 13:01:29,335 [torchrl][INFO] Max num steps: 218, rb length 9000\n",
            "2024-05-25 13:01:29,361 [torchrl][INFO] Max num steps: 218, rb length 9000\n",
            "2024-05-25 13:01:29,399 [torchrl][INFO] Max num steps: 218, rb length 9000\n",
            "2024-05-25 13:01:29,428 [torchrl][INFO] Max num steps: 218, rb length 9000\n",
            "2024-05-25 13:01:29,476 [torchrl][INFO] Max num steps: 218, rb length 9000\n",
            "2024-05-25 13:01:29,498 [torchrl][INFO] Max num steps: 218, rb length 9000\n",
            "2024-05-25 13:01:30,524 [torchrl][INFO] Max num steps: 218, rb length 9200\n",
            "2024-05-25 13:01:30,565 [torchrl][INFO] Max num steps: 218, rb length 9200\n",
            "2024-05-25 13:01:30,624 [torchrl][INFO] Max num steps: 218, rb length 9200\n",
            "2024-05-25 13:01:30,659 [torchrl][INFO] Max num steps: 218, rb length 9200\n",
            "2024-05-25 13:01:30,691 [torchrl][INFO] Max num steps: 218, rb length 9200\n",
            "2024-05-25 13:01:30,717 [torchrl][INFO] Max num steps: 218, rb length 9200\n",
            "2024-05-25 13:01:30,737 [torchrl][INFO] Max num steps: 218, rb length 9200\n",
            "2024-05-25 13:01:30,756 [torchrl][INFO] Max num steps: 218, rb length 9200\n",
            "2024-05-25 13:01:30,783 [torchrl][INFO] Max num steps: 218, rb length 9200\n",
            "2024-05-25 13:01:30,803 [torchrl][INFO] Max num steps: 218, rb length 9200\n",
            "2024-05-25 13:01:30,965 [torchrl][INFO] Max num steps: 218, rb length 9300\n",
            "2024-05-25 13:01:30,987 [torchrl][INFO] Max num steps: 218, rb length 9300\n",
            "2024-05-25 13:01:31,035 [torchrl][INFO] Max num steps: 218, rb length 9300\n",
            "2024-05-25 13:01:31,056 [torchrl][INFO] Max num steps: 218, rb length 9300\n",
            "2024-05-25 13:01:31,094 [torchrl][INFO] Max num steps: 218, rb length 9300\n",
            "2024-05-25 13:01:31,115 [torchrl][INFO] Max num steps: 218, rb length 9300\n",
            "2024-05-25 13:01:31,136 [torchrl][INFO] Max num steps: 218, rb length 9300\n",
            "2024-05-25 13:01:31,163 [torchrl][INFO] Max num steps: 218, rb length 9300\n",
            "2024-05-25 13:01:31,197 [torchrl][INFO] Max num steps: 218, rb length 9300\n",
            "2024-05-25 13:01:31,224 [torchrl][INFO] Max num steps: 218, rb length 9300\n",
            "2024-05-25 13:01:31,464 [torchrl][INFO] Max num steps: 218, rb length 9400\n",
            "2024-05-25 13:01:31,514 [torchrl][INFO] Max num steps: 218, rb length 9400\n",
            "2024-05-25 13:01:31,563 [torchrl][INFO] Max num steps: 218, rb length 9400\n",
            "2024-05-25 13:01:31,604 [torchrl][INFO] Max num steps: 218, rb length 9400\n",
            "2024-05-25 13:01:31,667 [torchrl][INFO] Max num steps: 218, rb length 9400\n",
            "2024-05-25 13:01:31,698 [torchrl][INFO] Max num steps: 218, rb length 9400\n",
            "2024-05-25 13:01:31,732 [torchrl][INFO] Max num steps: 218, rb length 9400\n",
            "2024-05-25 13:01:31,763 [torchrl][INFO] Max num steps: 218, rb length 9400\n",
            "2024-05-25 13:01:31,796 [torchrl][INFO] Max num steps: 218, rb length 9400\n",
            "2024-05-25 13:01:31,828 [torchrl][INFO] Max num steps: 218, rb length 9400\n",
            "2024-05-25 13:01:32,257 [torchrl][INFO] Max num steps: 218, rb length 9500\n",
            "2024-05-25 13:01:32,304 [torchrl][INFO] Max num steps: 218, rb length 9500\n",
            "2024-05-25 13:01:32,336 [torchrl][INFO] Max num steps: 218, rb length 9500\n",
            "2024-05-25 13:01:32,368 [torchrl][INFO] Max num steps: 218, rb length 9500\n",
            "2024-05-25 13:01:32,408 [torchrl][INFO] Max num steps: 218, rb length 9500\n",
            "2024-05-25 13:01:32,463 [torchrl][INFO] Max num steps: 218, rb length 9500\n",
            "2024-05-25 13:01:32,514 [torchrl][INFO] Max num steps: 218, rb length 9500\n",
            "2024-05-25 13:01:32,537 [torchrl][INFO] Max num steps: 218, rb length 9500\n",
            "2024-05-25 13:01:32,568 [torchrl][INFO] Max num steps: 218, rb length 9500\n",
            "2024-05-25 13:01:32,607 [torchrl][INFO] Max num steps: 218, rb length 9500\n",
            "2024-05-25 13:01:32,887 [torchrl][INFO] Max num steps: 218, rb length 9600\n",
            "2024-05-25 13:01:32,899 [torchrl][INFO] Max num steps: 218, rb length 9600\n",
            "2024-05-25 13:01:32,910 [torchrl][INFO] Max num steps: 218, rb length 9600\n",
            "2024-05-25 13:01:32,920 [torchrl][INFO] Max num steps: 218, rb length 9600\n",
            "2024-05-25 13:01:32,931 [torchrl][INFO] Max num steps: 218, rb length 9600\n",
            "2024-05-25 13:01:32,942 [torchrl][INFO] Max num steps: 218, rb length 9600\n",
            "2024-05-25 13:01:32,952 [torchrl][INFO] Max num steps: 218, rb length 9600\n",
            "2024-05-25 13:01:32,963 [torchrl][INFO] Max num steps: 218, rb length 9600\n",
            "2024-05-25 13:01:32,973 [torchrl][INFO] Max num steps: 218, rb length 9600\n",
            "2024-05-25 13:01:32,985 [torchrl][INFO] Max num steps: 218, rb length 9600\n",
            "2024-05-25 13:01:33,086 [torchrl][INFO] Max num steps: 218, rb length 9700\n",
            "2024-05-25 13:01:33,101 [torchrl][INFO] Max num steps: 218, rb length 9700\n",
            "2024-05-25 13:01:33,112 [torchrl][INFO] Max num steps: 218, rb length 9700\n",
            "2024-05-25 13:01:33,123 [torchrl][INFO] Max num steps: 218, rb length 9700\n",
            "2024-05-25 13:01:33,134 [torchrl][INFO] Max num steps: 218, rb length 9700\n",
            "2024-05-25 13:01:33,146 [torchrl][INFO] Max num steps: 218, rb length 9700\n",
            "2024-05-25 13:01:33,157 [torchrl][INFO] Max num steps: 218, rb length 9700\n",
            "2024-05-25 13:01:33,169 [torchrl][INFO] Max num steps: 218, rb length 9700\n",
            "2024-05-25 13:01:33,180 [torchrl][INFO] Max num steps: 218, rb length 9700\n",
            "2024-05-25 13:01:33,191 [torchrl][INFO] Max num steps: 218, rb length 9700\n",
            "2024-05-25 13:01:33,295 [torchrl][INFO] Max num steps: 224, rb length 9800\n",
            "2024-05-25 13:01:33,307 [torchrl][INFO] Max num steps: 224, rb length 9800\n",
            "2024-05-25 13:01:33,319 [torchrl][INFO] Max num steps: 224, rb length 9800\n",
            "2024-05-25 13:01:33,331 [torchrl][INFO] Max num steps: 224, rb length 9800\n",
            "2024-05-25 13:01:33,342 [torchrl][INFO] Max num steps: 224, rb length 9800\n",
            "2024-05-25 13:01:33,353 [torchrl][INFO] Max num steps: 224, rb length 9800\n",
            "2024-05-25 13:01:33,364 [torchrl][INFO] Max num steps: 224, rb length 9800\n",
            "2024-05-25 13:01:33,375 [torchrl][INFO] Max num steps: 224, rb length 9800\n",
            "2024-05-25 13:01:33,386 [torchrl][INFO] Max num steps: 224, rb length 9800\n",
            "2024-05-25 13:01:33,396 [torchrl][INFO] Max num steps: 224, rb length 9800\n",
            "2024-05-25 13:01:33,511 [torchrl][INFO] Max num steps: 234, rb length 9900\n",
            "2024-05-25 13:01:33,524 [torchrl][INFO] Max num steps: 234, rb length 9900\n",
            "2024-05-25 13:01:33,535 [torchrl][INFO] Max num steps: 234, rb length 9900\n",
            "2024-05-25 13:01:33,546 [torchrl][INFO] Max num steps: 234, rb length 9900\n",
            "2024-05-25 13:01:33,557 [torchrl][INFO] Max num steps: 234, rb length 9900\n",
            "2024-05-25 13:01:33,568 [torchrl][INFO] Max num steps: 234, rb length 9900\n",
            "2024-05-25 13:01:33,579 [torchrl][INFO] Max num steps: 234, rb length 9900\n",
            "2024-05-25 13:01:33,590 [torchrl][INFO] Max num steps: 234, rb length 9900\n",
            "2024-05-25 13:01:33,602 [torchrl][INFO] Max num steps: 234, rb length 9900\n",
            "2024-05-25 13:01:33,613 [torchrl][INFO] Max num steps: 234, rb length 9900\n",
            "2024-05-25 13:01:33,717 [torchrl][INFO] Max num steps: 234, rb length 10000\n",
            "2024-05-25 13:01:33,728 [torchrl][INFO] Max num steps: 234, rb length 10000\n",
            "2024-05-25 13:01:33,739 [torchrl][INFO] Max num steps: 234, rb length 10000\n",
            "2024-05-25 13:01:33,750 [torchrl][INFO] Max num steps: 234, rb length 10000\n",
            "2024-05-25 13:01:33,762 [torchrl][INFO] Max num steps: 234, rb length 10000\n",
            "2024-05-25 13:01:33,773 [torchrl][INFO] Max num steps: 234, rb length 10000\n",
            "2024-05-25 13:01:33,785 [torchrl][INFO] Max num steps: 234, rb length 10000\n",
            "2024-05-25 13:01:33,796 [torchrl][INFO] Max num steps: 234, rb length 10000\n",
            "2024-05-25 13:01:33,807 [torchrl][INFO] Max num steps: 234, rb length 10000\n",
            "2024-05-25 13:01:33,818 [torchrl][INFO] Max num steps: 234, rb length 10000\n",
            "2024-05-25 13:01:34,090 [torchrl][INFO] Max num steps: 234, rb length 10200\n",
            "2024-05-25 13:01:34,102 [torchrl][INFO] Max num steps: 234, rb length 10200\n",
            "2024-05-25 13:01:34,113 [torchrl][INFO] Max num steps: 234, rb length 10200\n",
            "2024-05-25 13:01:34,124 [torchrl][INFO] Max num steps: 234, rb length 10200\n",
            "2024-05-25 13:01:34,134 [torchrl][INFO] Max num steps: 234, rb length 10200\n",
            "2024-05-25 13:01:34,145 [torchrl][INFO] Max num steps: 234, rb length 10200\n",
            "2024-05-25 13:01:34,156 [torchrl][INFO] Max num steps: 234, rb length 10200\n",
            "2024-05-25 13:01:34,167 [torchrl][INFO] Max num steps: 234, rb length 10200\n",
            "2024-05-25 13:01:34,178 [torchrl][INFO] Max num steps: 234, rb length 10200\n",
            "2024-05-25 13:01:34,188 [torchrl][INFO] Max num steps: 234, rb length 10200\n",
            "2024-05-25 13:01:34,289 [torchrl][INFO] Max num steps: 234, rb length 10300\n",
            "2024-05-25 13:01:34,302 [torchrl][INFO] Max num steps: 234, rb length 10300\n",
            "2024-05-25 13:01:34,313 [torchrl][INFO] Max num steps: 234, rb length 10300\n",
            "2024-05-25 13:01:34,325 [torchrl][INFO] Max num steps: 234, rb length 10300\n",
            "2024-05-25 13:01:34,337 [torchrl][INFO] Max num steps: 234, rb length 10300\n",
            "2024-05-25 13:01:34,348 [torchrl][INFO] Max num steps: 234, rb length 10300\n",
            "2024-05-25 13:01:34,359 [torchrl][INFO] Max num steps: 234, rb length 10300\n",
            "2024-05-25 13:01:34,370 [torchrl][INFO] Max num steps: 234, rb length 10300\n",
            "2024-05-25 13:01:34,383 [torchrl][INFO] Max num steps: 234, rb length 10300\n",
            "2024-05-25 13:01:34,394 [torchrl][INFO] Max num steps: 234, rb length 10300\n",
            "2024-05-25 13:01:34,503 [torchrl][INFO] Max num steps: 234, rb length 10400\n",
            "2024-05-25 13:01:34,519 [torchrl][INFO] Max num steps: 234, rb length 10400\n",
            "2024-05-25 13:01:34,530 [torchrl][INFO] Max num steps: 234, rb length 10400\n",
            "2024-05-25 13:01:34,541 [torchrl][INFO] Max num steps: 234, rb length 10400\n",
            "2024-05-25 13:01:34,554 [torchrl][INFO] Max num steps: 234, rb length 10400\n",
            "2024-05-25 13:01:34,564 [torchrl][INFO] Max num steps: 234, rb length 10400\n",
            "2024-05-25 13:01:34,578 [torchrl][INFO] Max num steps: 234, rb length 10400\n",
            "2024-05-25 13:01:34,589 [torchrl][INFO] Max num steps: 234, rb length 10400\n",
            "2024-05-25 13:01:34,600 [torchrl][INFO] Max num steps: 234, rb length 10400\n",
            "2024-05-25 13:01:34,611 [torchrl][INFO] Max num steps: 234, rb length 10400\n",
            "2024-05-25 13:01:34,712 [torchrl][INFO] Max num steps: 234, rb length 10500\n",
            "2024-05-25 13:01:34,724 [torchrl][INFO] Max num steps: 234, rb length 10500\n",
            "2024-05-25 13:01:34,734 [torchrl][INFO] Max num steps: 234, rb length 10500\n",
            "2024-05-25 13:01:34,745 [torchrl][INFO] Max num steps: 234, rb length 10500\n",
            "2024-05-25 13:01:34,756 [torchrl][INFO] Max num steps: 234, rb length 10500\n",
            "2024-05-25 13:01:34,768 [torchrl][INFO] Max num steps: 234, rb length 10500\n",
            "2024-05-25 13:01:34,778 [torchrl][INFO] Max num steps: 234, rb length 10500\n",
            "2024-05-25 13:01:34,789 [torchrl][INFO] Max num steps: 234, rb length 10500\n",
            "2024-05-25 13:01:34,800 [torchrl][INFO] Max num steps: 234, rb length 10500\n",
            "2024-05-25 13:01:34,811 [torchrl][INFO] Max num steps: 234, rb length 10500\n",
            "2024-05-25 13:01:34,914 [torchrl][INFO] Max num steps: 234, rb length 10600\n",
            "2024-05-25 13:01:34,926 [torchrl][INFO] Max num steps: 234, rb length 10600\n",
            "2024-05-25 13:01:34,937 [torchrl][INFO] Max num steps: 234, rb length 10600\n",
            "2024-05-25 13:01:34,948 [torchrl][INFO] Max num steps: 234, rb length 10600\n",
            "2024-05-25 13:01:34,959 [torchrl][INFO] Max num steps: 234, rb length 10600\n",
            "2024-05-25 13:01:34,971 [torchrl][INFO] Max num steps: 234, rb length 10600\n",
            "2024-05-25 13:01:34,982 [torchrl][INFO] Max num steps: 234, rb length 10600\n",
            "2024-05-25 13:01:34,993 [torchrl][INFO] Max num steps: 234, rb length 10600\n",
            "2024-05-25 13:01:35,006 [torchrl][INFO] Max num steps: 234, rb length 10600\n",
            "2024-05-25 13:01:35,020 [torchrl][INFO] Max num steps: 234, rb length 10600\n",
            "2024-05-25 13:01:35,121 [torchrl][INFO] Max num steps: 234, rb length 10700\n",
            "2024-05-25 13:01:35,136 [torchrl][INFO] Max num steps: 234, rb length 10700\n",
            "2024-05-25 13:01:35,147 [torchrl][INFO] Max num steps: 234, rb length 10700\n",
            "2024-05-25 13:01:35,158 [torchrl][INFO] Max num steps: 234, rb length 10700\n",
            "2024-05-25 13:01:35,169 [torchrl][INFO] Max num steps: 234, rb length 10700\n",
            "2024-05-25 13:01:35,180 [torchrl][INFO] Max num steps: 234, rb length 10700\n",
            "2024-05-25 13:01:35,191 [torchrl][INFO] Max num steps: 234, rb length 10700\n",
            "2024-05-25 13:01:35,202 [torchrl][INFO] Max num steps: 234, rb length 10700\n",
            "2024-05-25 13:01:35,213 [torchrl][INFO] Max num steps: 234, rb length 10700\n",
            "2024-05-25 13:01:35,224 [torchrl][INFO] Max num steps: 234, rb length 10700\n",
            "2024-05-25 13:01:35,324 [torchrl][INFO] Max num steps: 234, rb length 10800\n",
            "2024-05-25 13:01:35,337 [torchrl][INFO] Max num steps: 234, rb length 10800\n",
            "2024-05-25 13:01:35,348 [torchrl][INFO] Max num steps: 234, rb length 10800\n",
            "2024-05-25 13:01:35,359 [torchrl][INFO] Max num steps: 234, rb length 10800\n",
            "2024-05-25 13:01:35,372 [torchrl][INFO] Max num steps: 234, rb length 10800\n",
            "2024-05-25 13:01:35,383 [torchrl][INFO] Max num steps: 234, rb length 10800\n",
            "2024-05-25 13:01:35,394 [torchrl][INFO] Max num steps: 234, rb length 10800\n",
            "2024-05-25 13:01:35,405 [torchrl][INFO] Max num steps: 234, rb length 10800\n",
            "2024-05-25 13:01:35,417 [torchrl][INFO] Max num steps: 234, rb length 10800\n",
            "2024-05-25 13:01:35,429 [torchrl][INFO] Max num steps: 234, rb length 10800\n",
            "2024-05-25 13:01:35,543 [torchrl][INFO] Max num steps: 234, rb length 10900\n",
            "2024-05-25 13:01:35,554 [torchrl][INFO] Max num steps: 234, rb length 10900\n",
            "2024-05-25 13:01:35,565 [torchrl][INFO] Max num steps: 234, rb length 10900\n",
            "2024-05-25 13:01:35,575 [torchrl][INFO] Max num steps: 234, rb length 10900\n",
            "2024-05-25 13:01:35,588 [torchrl][INFO] Max num steps: 234, rb length 10900\n",
            "2024-05-25 13:01:35,599 [torchrl][INFO] Max num steps: 234, rb length 10900\n",
            "2024-05-25 13:01:35,611 [torchrl][INFO] Max num steps: 234, rb length 10900\n",
            "2024-05-25 13:01:35,622 [torchrl][INFO] Max num steps: 234, rb length 10900\n",
            "2024-05-25 13:01:35,633 [torchrl][INFO] Max num steps: 234, rb length 10900\n",
            "2024-05-25 13:01:35,644 [torchrl][INFO] Max num steps: 234, rb length 10900\n",
            "2024-05-25 13:01:35,746 [torchrl][INFO] Max num steps: 234, rb length 11000\n",
            "2024-05-25 13:01:35,758 [torchrl][INFO] Max num steps: 234, rb length 11000\n",
            "2024-05-25 13:01:35,769 [torchrl][INFO] Max num steps: 234, rb length 11000\n",
            "2024-05-25 13:01:35,780 [torchrl][INFO] Max num steps: 234, rb length 11000\n",
            "2024-05-25 13:01:35,791 [torchrl][INFO] Max num steps: 234, rb length 11000\n",
            "2024-05-25 13:01:35,803 [torchrl][INFO] Max num steps: 234, rb length 11000\n",
            "2024-05-25 13:01:35,814 [torchrl][INFO] Max num steps: 234, rb length 11000\n",
            "2024-05-25 13:01:35,825 [torchrl][INFO] Max num steps: 234, rb length 11000\n",
            "2024-05-25 13:01:35,835 [torchrl][INFO] Max num steps: 234, rb length 11000\n",
            "2024-05-25 13:01:35,849 [torchrl][INFO] Max num steps: 234, rb length 11000\n",
            "2024-05-25 13:01:36,018 [torchrl][INFO] solved after 61000 steps, 1530 episodes and in 33.444905519485474s.\n"
          ]
        }
      ]
    },
    {
      "cell_type": "markdown",
      "source": [
        "## Renderização"
      ],
      "metadata": {
        "id": "oUjj0yLaEbJB"
      }
    },
    {
      "cell_type": "markdown",
      "source": [
        "Por fim, executamos o ambiente em tantas etapas quanto possível e salvamos o vídeo localmente (observe que não estamos explorando)."
      ],
      "metadata": {
        "id": "ZQCYTKACEdgA"
      }
    },
    {
      "cell_type": "code",
      "source": [
        "# Método que realiza uma execução no ambiente, coletando observações, ações, recompensas e outras informações.\n",
        "record_env.rollout(max_steps=1000, policy=policy)\n",
        "# max_steps=1000: Define o número máximo de passos a serem executados durante o rollout. Aqui, está configurado para 1000 passos.\n",
        "# policy=policy: A política que o agente deve seguir durante a execução. Neste caso, é a política treinada previamente (policy).\n",
        "\n",
        "# Método que salva os vídeos gravados durante as execuções no ambiente para o disco, utilizando o logger configurado anteriormente.\n",
        "video_recorder.dump()"
      ],
      "metadata": {
        "id": "6X0MHlxVEfRz"
      },
      "execution_count": null,
      "outputs": []
    },
    {
      "cell_type": "code",
      "source": [
        "logger # CSVLogger(exp_name=dqn, experiment=CSVExperiment(log_dir=./training_loop/dqn))"
      ],
      "metadata": {
        "colab": {
          "base_uri": "https://localhost:8080/"
        },
        "id": "8-gVfPaRMdG9",
        "outputId": "cc33a65b-6ff8-4989-83ff-d1e2de359221"
      },
      "execution_count": null,
      "outputs": [
        {
          "output_type": "execute_result",
          "data": {
            "text/plain": [
              "CSVLogger(exp_name=dqn, experiment=CSVExperiment(log_dir=./training_loop/dqn))"
            ]
          },
          "metadata": {},
          "execution_count": 15
        }
      ]
    },
    {
      "cell_type": "markdown",
      "source": [
        "# Versões"
      ],
      "metadata": {
        "id": "tduN9nn59gHL"
      }
    },
    {
      "cell_type": "markdown",
      "source": [
        "## Controle de Versões"
      ],
      "metadata": {
        "id": "MulX3KMIAUic"
      }
    },
    {
      "cell_type": "markdown",
      "source": [],
      "metadata": {
        "id": "SnyhYyJgAXnT"
      }
    },
    {
      "cell_type": "markdown",
      "source": [
        "## Importações"
      ],
      "metadata": {
        "id": "E6JBCtph-Amk"
      }
    },
    {
      "cell_type": "code",
      "source": [
        "import gym\n",
        "import json\n",
        "import numpy as np\n",
        "import matplotlib.pyplot as plt\n",
        "# from matplotlib.animation import FuncAnimation\n",
        "# from IPython.display import display_html\n",
        "# from tqdm.notebook import tqdm\n",
        "\n",
        "import os\n",
        "import torch\n",
        "import torch.nn as nn\n",
        "import torch.nn.functional as F\n",
        "import torch.optim as optim\n",
        "from torch.distributions import Normal\n",
        "import random\n",
        "from collections import namedtuple, deque\n",
        "# from google.colab import drive\n",
        "# drive.mount('/content/drive')\n",
        "import time"
      ],
      "metadata": {
        "id": "XXDEK1IF-F38"
      },
      "execution_count": null,
      "outputs": []
    },
    {
      "cell_type": "code",
      "source": [
        "parametros = {\"ALPHA\": 0.7, \"GAMMA\": 0.8, \"EPSILON\": 0.7, \"EPSILON_MIN\": 0.01, \"DECAIMENTO\": 0.99}"
      ],
      "metadata": {
        "id": "ZUVCE_B5-euF"
      },
      "execution_count": null,
      "outputs": []
    },
    {
      "cell_type": "markdown",
      "source": [
        "## Funções Auxiliares"
      ],
      "metadata": {
        "id": "eCI1FU7h-sZs"
      }
    },
    {
      "cell_type": "markdown",
      "source": [
        "### Classes"
      ],
      "metadata": {
        "id": "xPEXGycD-xPk"
      }
    },
    {
      "cell_type": "markdown",
      "source": [
        "#### Buffer de Replay"
      ],
      "metadata": {
        "id": "zb65VT2e-2Gs"
      }
    },
    {
      "cell_type": "code",
      "source": [
        "class ReplayBuffer:\n",
        "    def __init__(self, buffer_limit):\n",
        "        self.buffer = deque(maxlen=buffer_limit)\n",
        "\n",
        "    def put(self, transition):\n",
        "        self.buffer.append(transition)\n",
        "\n",
        "    def sample(self, n):\n",
        "        mini_batch = random.sample(self.buffer, n)\n",
        "        s_lst, a_lst, r_lst, s_prime_lst, done_mask_lst = [], [], [], [], []\n",
        "\n",
        "        for transition in mini_batch:\n",
        "            s, a, r, s_prime, done = transition\n",
        "            s_lst.append(s)\n",
        "            a_lst.append([a])\n",
        "            r_lst.append([r])\n",
        "            s_prime_lst.append(s_prime)\n",
        "            done_mask = 0.0 if done else 1.0\n",
        "            done_mask_lst.append([done_mask])\n",
        "\n",
        "        s_lst, a_lst, r_lst, s_prime_lst, done_mask_lst = np.array(s_lst), np.array(a_lst), np.array(r_lst), np.array(s_prime_lst), np.array(done_mask_lst)\n",
        "\n",
        "        s_batch = torch.tensor(s_lst, dtype=torch.float)\n",
        "        a_batch = torch.tensor(a_lst, dtype=torch.float)\n",
        "        r_batch = torch.tensor(r_lst, dtype=torch.float)\n",
        "        s_prime_batch = torch.tensor(s_prime_lst, dtype=torch.float)\n",
        "        done_batch = torch.tensor(done_mask_lst, dtype=torch.float)\n",
        "\n",
        "        return s_batch, a_batch, r_batch, s_prime_batch, done_batch\n",
        "\n",
        "    def size(self):\n",
        "        return len(self.buffer)"
      ],
      "metadata": {
        "id": "cLH_rSBm-zEE"
      },
      "execution_count": null,
      "outputs": []
    },
    {
      "cell_type": "markdown",
      "source": [
        "#### Rede Neural"
      ],
      "metadata": {
        "id": "8CXzkAU1_MEk"
      }
    },
    {
      "cell_type": "code",
      "source": [
        "class QNetwork(nn.Module):\n",
        "    def __init__(self, state_dim, action_dim, q_lr):\n",
        "        super(QNetwork, self).__init__()\n",
        "\n",
        "        # self.fc_1 = nn.Linear(state_dim, 32)\n",
        "        self.fc_1 = nn.Linear(state_dim, 64)\n",
        "        self.fc_2 = nn.Linear(64, 32)\n",
        "        self.fc_out = nn.Linear(32, action_dim)\n",
        "\n",
        "        self.lr = q_lr\n",
        "\n",
        "        self.optimizer = optim.Adam(self.parameters(), lr=self.lr)\n",
        "\n",
        "    def forward(self, x):\n",
        "        q = F.leaky_relu(self.fc_1(x))\n",
        "        q = F.leaky_relu(self.fc_2(q))\n",
        "        q = self.fc_out(q)\n",
        "        return q"
      ],
      "metadata": {
        "id": "fo4LOdmw_OZL"
      },
      "execution_count": null,
      "outputs": []
    },
    {
      "cell_type": "markdown",
      "source": [
        "### Usando a GPU"
      ],
      "metadata": {
        "id": "ZsOCpgot_Pcs"
      }
    },
    {
      "cell_type": "code",
      "source": [
        "# device = torch.device(\"cuda\" if torch.cuda.is_available() else \"cpu\")\n",
        "device = \"cpu\"\n",
        "print(device)"
      ],
      "metadata": {
        "id": "az132bKU_Wrb",
        "colab": {
          "base_uri": "https://localhost:8080/"
        },
        "outputId": "83a11e23-213e-4d34-bae5-7d88003e2cfe"
      },
      "execution_count": null,
      "outputs": [
        {
          "output_type": "stream",
          "name": "stdout",
          "text": [
            "cpu\n"
          ]
        }
      ]
    },
    {
      "cell_type": "markdown",
      "source": [
        "### Salvando em Excel"
      ],
      "metadata": {
        "id": "bHcevZnZ_cmE"
      }
    },
    {
      "cell_type": "code",
      "source": [
        "import pandas as pd\n",
        "from google.colab import drive\n",
        "drive.mount('/content/drive')"
      ],
      "metadata": {
        "id": "JSTv-8a3_fb9",
        "colab": {
          "base_uri": "https://localhost:8080/"
        },
        "outputId": "c9e6ca5e-b42f-42a8-caa6-4253514fb848"
      },
      "execution_count": null,
      "outputs": [
        {
          "output_type": "stream",
          "name": "stdout",
          "text": [
            "Mounted at /content/drive\n"
          ]
        }
      ]
    },
    {
      "cell_type": "code",
      "source": [
        "def salvar_array(score_list_1,\n",
        "                 Sucessos,\n",
        "                 Desempenho_Medio,\n",
        "                 eval_score,\n",
        "                 versao=\"V1\",\n",
        "                 epoch=1,\n",
        "                 caminho_arquivo = '/content/drive/My Drive/CBA 2024/Resultados/'):\n",
        "\n",
        "    recomp_ep = np.array(score_list_1)#.reshape(-1, 1)\n",
        "    recomp_ep_eval = np.array(eval_score)#.reshape(-1, 1)\n",
        "    sucess_rates = np.array(Sucessos)#.reshape(-1, 1)\n",
        "    recomp_med_eval_ep = np.array(Desempenho_Medio).reshape(1, )\n",
        "\n",
        "\n",
        "    array_coluna1 = recomp_ep\n",
        "    array_coluna2 = recomp_ep_eval\n",
        "    array_coluna3 = sucess_rates\n",
        "    array_coluna4 = recomp_med_eval_ep\n",
        "\n",
        "\n",
        "    # Preenchendo os arrays com tamanhos diferentes para que tenham o mesmo tamanho\n",
        "    tamanho_maximo = max(len(array_coluna1), len(array_coluna2), len(array_coluna3), len(array_coluna4))\n",
        "    array_coluna1 = np.pad(array_coluna1, (0, tamanho_maximo - len(array_coluna1)), mode='constant', constant_values=-9999)\n",
        "    array_coluna2 = np.pad(array_coluna2, (0, tamanho_maximo - len(array_coluna2)), mode='constant', constant_values=-9999)\n",
        "    array_coluna3 = np.pad(array_coluna3, (0, tamanho_maximo - len(array_coluna3)), mode='constant', constant_values=-9999)\n",
        "    array_coluna4 = np.pad(array_coluna4, (0, tamanho_maximo - len(array_coluna4)), mode='constant', constant_values=-9999)\n",
        "\n",
        "    # Criando o DataFrame com os arrays de colunas\n",
        "    df = pd.DataFrame({'Rewards_ep': array_coluna1,\n",
        "                   'Rewards_ep_eval': array_coluna2,\n",
        "                   'Sucess_Rates': array_coluna3,\n",
        "                       'Mean_Sucess_Rates': array_coluna4})\n",
        "\n",
        "    # Substituindo os valores de preenchimento por None\n",
        "    df = df.replace(-9999, None)\n",
        "    # Salvando o DataFrame em uma planilha Excel\n",
        "    # caminho_arquivo = 'Result_of_Epoch_'+ str(epoch) +'.xlsx'\n",
        "    # caminho_arquivo = '/content/drive/My Drive/CBA 2024/Resultados/'\n",
        "    nome_arquivo = '/Result_of_Epoch_'+ str(epoch) + '_' + str(versao) +'.xlsx'\n",
        "    caminho_completo = caminho_arquivo + nome_arquivo\n",
        "    df.to_excel(caminho_completo, index=False)\n",
        "\n",
        "    print(\"DataFrame salvo em\", caminho_completo)"
      ],
      "metadata": {
        "id": "OYx6JUEn_oFk",
        "colab": {
          "base_uri": "https://localhost:8080/"
        },
        "outputId": "49c32d10-8065-4257-f486-42c8ba246d75"
      },
      "execution_count": null,
      "outputs": [
        {
          "output_type": "stream",
          "name": "stderr",
          "text": [
            "/usr/local/lib/python3.10/dist-packages/ipykernel/ipkernel.py:283: DeprecationWarning: `should_run_async` will not call `transform_cell` automatically in the future. Please pass the result to `transformed_cell` argument and any exception that happen during thetransform in `preprocessing_exc_tuple` in IPython 7.17 and above.\n",
            "  and should_run_async(code)\n"
          ]
        }
      ]
    },
    {
      "cell_type": "code",
      "source": [
        "def carrega_array(versao,\n",
        "                  epoch=1,\n",
        "                  caminho_arquivo = '/content/drive/My Drive/CBA 2024/Resultados/'):\n",
        "    # Substitua o caminho do arquivo pelo caminho real no seu Google Drive\n",
        "    # caminho_do_arquivo = '/content/drive/My Drive/CBA 2024/Resultados//Result_of_Epoch_'+ str(epoch) + '_' + str(versao) +'.xlsx'\n",
        "    nome_arquivo = '/Result_of_Epoch_'+ str(epoch) + '_' + str(versao) +'.xlsx'\n",
        "    caminho_completo = caminho_arquivo + nome_arquivo\n",
        "\n",
        "    # Carregue a planilha usando o pandas\n",
        "    # df = pd.read_excel(caminho_do_arquivo)\n",
        "    df = pd.ExcelFile(caminho_completo)\n",
        "    # acoes = df.parse('Ações (A)')\n",
        "    # resultado = df.parse()\n",
        "    resultado = df.parse('Sheet1')\n",
        "    # empresa = np.array(acoes.Empresas)\n",
        "\n",
        "    # Exiba o DataFrame para verificar se a leitura foi bem-sucedida\n",
        "    # acoes.head()\n",
        "    # resultado.head()\n",
        "\n",
        "    # # Plotagem\n",
        "    # # from matplotlib import pyplot as plt\n",
        "    # plt.figure()\n",
        "    # # plt.subplot(1, 2, 1)  # Subplot 1\n",
        "    # resultado['Rewards_ep'].plot(kind='line', figsize=(8, 4), title='Rewards_ep_train')\n",
        "    # plt.gca().spines[['top', 'right']].set_visible(False)\n",
        "\n",
        "    # plt.figure()\n",
        "    # # plt.subplot(1, 2, 1)  # Subplot 1\n",
        "    # resultado['Rewards_ep_eval'].plot(kind='line', figsize=(8, 4), title='Rewards_ep_eval')\n",
        "    # plt.gca().spines[['top', 'right']].set_visible(False)\n",
        "\n",
        "\n",
        "    # # from matplotlib import pyplot as plt\n",
        "    # plt.figure()\n",
        "    # # plt.subplot(1, 2, 2)  # Subplot 2\n",
        "    # resultado['Sucess_Rates'].plot(kind='line', figsize=(8, 4), title='Sucess_Rates')\n",
        "    # plt.gca().spines[['top', 'right']].set_visible(False)\n",
        "\n",
        "    return resultado"
      ],
      "metadata": {
        "id": "DsmVERAO_t29"
      },
      "execution_count": null,
      "outputs": []
    },
    {
      "cell_type": "markdown",
      "source": [
        "### Avaliação"
      ],
      "metadata": {
        "id": "r_BO0Mjz_0F7"
      }
    },
    {
      "cell_type": "code",
      "source": [
        "def teste_desempenho(env, agent):\n",
        "  Sucessos, Sucesso, eval_score = [], 0, []\n",
        "  for EP in range(1001):\n",
        "    state = env.reset()\n",
        "    done = False\n",
        "    Score = 0\n",
        "    inicio = time.time()\n",
        "\n",
        "    while not done:\n",
        "        # action, count = agent.choose_action(torch.FloatTensor(state))\n",
        "        action, count = agent.eval_policy(torch.FloatTensor(state))\n",
        "\n",
        "        state_prime, reward, done, _ = env.step(int(action))\n",
        "\n",
        "        state = state_prime\n",
        "        Score += reward\n",
        "\n",
        "    eval_score.append(Score)\n",
        "    # print(Score)\n",
        "\n",
        "    # if score >= 500:\n",
        "    if Score >= 500:\n",
        "      Sucesso += 1\n",
        "    else:\n",
        "      Sucesso += Score/500\n",
        "      # print(Score)\n",
        "      # print(\"Pontuação Máxima Alcançada\")\n",
        "\n",
        "    if ((EP%100) == 0):\n",
        "        print(\"EP:{}, Total_Score:{:.1f}, MaxQ_Action_Count:{}, Epsilon:{:.5f}, Time{:.5f}\".format(EP, Score, count, agent.epsilon, time.time()-inicio))\n",
        "        Sucessos.append(Sucesso)\n",
        "        Sucesso = 0\n",
        "\n",
        "  Desempenho_Medio = np.mean(Sucessos[-10:])\n",
        "  print(f\"Taxa de Acerto do Agente:  {Sucessos[-10:]}\")\n",
        "  print(f\"Desempenho Médio do Agente:  {Desempenho_Medio}\")\n",
        "  return Sucessos, Desempenho_Medio, eval_score"
      ],
      "metadata": {
        "id": "zcaCrGkN_2ss"
      },
      "execution_count": null,
      "outputs": []
    },
    {
      "cell_type": "markdown",
      "source": [
        "### Plotagem"
      ],
      "metadata": {
        "id": "tcZd8ZGo_69e"
      }
    },
    {
      "cell_type": "code",
      "source": [
        "def plotar(dados, xlabel = 'Episódio', ylabel = 'Recompensa', title = 'Desempenho do Agente'):\n",
        "    plt.plot(dados)\n",
        "    plt.xlabel(xlabel)\n",
        "    plt.ylabel(ylabel)\n",
        "    plt.title(title)\n",
        "    plt.show()"
      ],
      "metadata": {
        "id": "4NGvN-a8_9Mr"
      },
      "execution_count": null,
      "outputs": []
    },
    {
      "cell_type": "markdown",
      "source": [
        "## V1 - Kim"
      ],
      "metadata": {
        "id": "hsDEMELOAePU"
      }
    },
    {
      "cell_type": "markdown",
      "source": [
        "### Agente"
      ],
      "metadata": {
        "id": "337LcUXPAj0c"
      }
    },
    {
      "cell_type": "code",
      "source": [
        "class DQN_Mnih_V1:\n",
        "    def __init__(self):\n",
        "        self.state_dim     = 4\n",
        "        self.action_dim    = 2\n",
        "        self.lr            = 0.01\n",
        "        self.gamma         = 0.98\n",
        "        self.tau           = 0.01\n",
        "        self.epsilon       = 1.0\n",
        "        self.epsilon_decay = 0.98\n",
        "        self.epsilon_min   = 0.001\n",
        "        self.buffer_size   = 100000\n",
        "        self.batch_size    = 200\n",
        "        self.memory        = ReplayBuffer(self.buffer_size)\n",
        "        self.custo         = []\n",
        "\n",
        "        # self.Q        = QNetwork(self.state_dim, self.action_dim, self.lr)\n",
        "        # self.Q_target = QNetwork(self.state_dim, self.action_dim, self.lr)\n",
        "        self.Q        = QNetwork(self.state_dim, self.action_dim, self.lr).to(device)\n",
        "        self.Q_target = QNetwork(self.state_dim, self.action_dim, self.lr).to(device)\n",
        "        self.Q_target.load_state_dict(self.Q.state_dict())\n",
        "\n",
        "    def choose_action(self, state):\n",
        "        random_number = np.random.rand()\n",
        "        maxQ_action_count = 0\n",
        "        if self.epsilon < random_number:\n",
        "            with torch.no_grad():\n",
        "                # action = float(torch.argmax(self.Q(state)).numpy())\n",
        "                action = float(torch.argmax(self.Q(state).to(device)).numpy())\n",
        "                maxQ_action_count = 1\n",
        "        else:\n",
        "            action = np.random.choice([0,1])\n",
        "\n",
        "        return action, maxQ_action_count\n",
        "\n",
        "    def eval_policy(self, state):\n",
        "        with torch.no_grad():\n",
        "                action = float(torch.argmax(self.Q(state)).numpy())\n",
        "                maxQ_action_count = 1\n",
        "\n",
        "        return action, maxQ_action_count\n",
        "\n",
        "    def calc_target(self, mini_batch):\n",
        "        s, a, r, s_prime, done = mini_batch\n",
        "        with torch.no_grad():\n",
        "            # q_target = self.Q_target(s_prime).max(1)[0].unsqueeze(1)\n",
        "            q_target = self.Q_target(s_prime.to(device)).max(1)[0].unsqueeze(1)\n",
        "            # target = r + self.gamma * done * q_target\n",
        "            target = r.to(device) + self.gamma * done.to(device) * q_target\n",
        "        return target\n",
        "\n",
        "    def train_agent(self):\n",
        "        mini_batch = self.memory.sample(self.batch_size)\n",
        "        s_batch, a_batch, r_batch, s_prime_batch, done_batch = mini_batch\n",
        "        a_batch = a_batch.type(torch.int64)\n",
        "        td_target = self.calc_target(mini_batch)\n",
        "\n",
        "\n",
        "        #### Q train ####\n",
        "        # Q_a = self.Q(s_batch).gather(1, a_batch)\n",
        "        Q_a = self.Q(s_batch.to(device)).gather(1, a_batch.to(device))\n",
        "        q_loss = F.smooth_l1_loss(Q_a, td_target)\n",
        "        # q_loss = F.smooth_l1_loss(Q_a, td_target).to(device)\n",
        "        self.Q.optimizer.zero_grad()\n",
        "        q_loss.mean().backward()\n",
        "        self.Q.optimizer.step()\n",
        "        #### Q train ####\n",
        "        self.custo.append(q_loss)\n",
        "\n",
        "        #### Q soft-update ####\n",
        "        for param_target, param in zip(self.Q_target.parameters(), self.Q.parameters()):\n",
        "            param_target.data.copy_(param_target.data * (1.0 - self.tau) + param.data * self.tau)\n",
        "\n",
        "    # def q_update(self):\n",
        "    #     #### Q update ####\n",
        "    #     for param_target, param in zip(self.Q_target.parameters(), self.Q.parameters()):\n",
        "    #         param_target.data.copy_(param.data)\n",
        "\n",
        "    def treina_agente(self, env = gym.make('CartPole-v1'), EPISODE = 500):\n",
        "        # agent = DQN_Mnih_V1()\n",
        "        # env = gym.make('CartPole-v1')\n",
        "\n",
        "        # EPISODE = 10000\n",
        "        print_once_learnig = True\n",
        "        print_once_update = True\n",
        "        print_once_epsilon = True\n",
        "        score_list_1 = []\n",
        "        Epoch = -1\n",
        "        ini_train = time.time()\n",
        "\n",
        "        for EP in range(EPISODE):\n",
        "            inicio = time.time()\n",
        "            time_step = env.reset()\n",
        "            state = time_step[\"obsevation\"]\n",
        "            score, done = 0.0, False\n",
        "\n",
        "\n",
        "            while not done:\n",
        "                action, count = self.choose_action(torch.FloatTensor(state))\n",
        "\n",
        "                state_prime, reward, done, _ = env.step(int(action))\n",
        "                self.memory.put((state, action, reward, state_prime, done))\n",
        "\n",
        "                score += reward\n",
        "                state = state_prime\n",
        "                if self.memory.size() > 200:  # Comece a aprender quando 200 [s,a,r,s'] estiverem acumulados\n",
        "                    # if print_once_learnig: print(f\"Começou a aprender no episódio {EP}\")\n",
        "                    # print_once_learnig = False\n",
        "                    self.train_agent()\n",
        "                    # agent.train_agent().to(device)\n",
        "\n",
        "                # if agent.epsilon > agent.epsilon_min: agent.epsilon *= agent.epsilon_decay\n",
        "                self.epsilon = max(self.epsilon_min, self.epsilon * self.epsilon_decay)\n",
        "\n",
        "                # print(\"EP:{}, Avg_Score:{:.1f}, MaxQ_Action_Count:{}, Epsilon:{:.5f}\".format(EP, score, maxQ_action_count, agent.epsilon))\n",
        "                # score_list1.append(score)\n",
        "\n",
        "            # print(\"EP:{}, Avg_Score:{:.1f}, Epsilon:{:.5f}\".format(EP, score, agent.epsilon))\n",
        "            if EP % (EPISODE*0.1) == 0:\n",
        "                print(\"EP: {}, Total_Score: {:.1f}, MaxQ_Action_Count: {}, Epsilon: {:.5f}, Time: {:.5f}\".format(EP, score, count, self.epsilon,time.time()-inicio))\n",
        "            score_list_1.append(score)\n",
        "\n",
        "            # if score==500:\n",
        "            #     break\n",
        "        print(\"EP: {}, Total_Score: {:.1f}, MaxQ_Action_Count: {}, Epsilon: {:.5f}, Time: {:.5f}\".format(EP, score, count, self.epsilon,time.time()-inicio))\n",
        "        print(\"Tempo total do Treinamento: {}\".format(time.time()-ini_train))\n",
        "\n",
        "        return score_list_1"
      ],
      "metadata": {
        "id": "aIIQphM8AmPd",
        "colab": {
          "base_uri": "https://localhost:8080/"
        },
        "outputId": "8e01dd67-9c5b-45d1-b132-a7f803aafcad"
      },
      "execution_count": null,
      "outputs": [
        {
          "output_type": "stream",
          "name": "stderr",
          "text": [
            "/usr/local/lib/python3.10/dist-packages/gym/core.py:317: DeprecationWarning: \u001b[33mWARN: Initializing wrapper in old step API which returns one bool instead of two. It is recommended to set `new_step_api=True` to use new step API. This will be the default behaviour in future.\u001b[0m\n",
            "  deprecation(\n",
            "/usr/local/lib/python3.10/dist-packages/gym/wrappers/step_api_compatibility.py:39: DeprecationWarning: \u001b[33mWARN: Initializing environment in old step API which returns one bool instead of two. It is recommended to set `new_step_api=True` to use new step API. This will be the default behaviour in future.\u001b[0m\n",
            "  deprecation(\n"
          ]
        }
      ]
    },
    {
      "cell_type": "markdown",
      "source": [
        "### Treinamento"
      ],
      "metadata": {
        "id": "MCJ2nz30A3gV"
      }
    },
    {
      "cell_type": "code",
      "source": [
        "agent_V1 = DQN_Mnih_V1()\n",
        "# agent, env, score_list_1 = treina_agente(DQN_Mnih_V1())\n",
        "score_list_1 = agent_V1.treina_agente(EPISODE = 200)\n",
        "plotar(score_list_1, xlabel = 'Episódio', ylabel = 'Pontuação', title = 'Desempenho do Agente no Treinamento')"
      ],
      "metadata": {
        "id": "Rrj90OPLA5m-",
        "colab": {
          "base_uri": "https://localhost:8080/",
          "height": 327
        },
        "outputId": "749315ac-f858-47bf-d001-8560c0ca299c"
      },
      "execution_count": null,
      "outputs": [
        {
          "output_type": "error",
          "ename": "IndexError",
          "evalue": "only integers, slices (`:`), ellipsis (`...`), numpy.newaxis (`None`) and integer or boolean arrays are valid indices",
          "traceback": [
            "\u001b[0;31m---------------------------------------------------------------------------\u001b[0m",
            "\u001b[0;31mIndexError\u001b[0m                                Traceback (most recent call last)",
            "\u001b[0;32m<ipython-input-27-7801403e3c2c>\u001b[0m in \u001b[0;36m<cell line: 3>\u001b[0;34m()\u001b[0m\n\u001b[1;32m      1\u001b[0m \u001b[0magent_V1\u001b[0m \u001b[0;34m=\u001b[0m \u001b[0mDQN_Mnih_V1\u001b[0m\u001b[0;34m(\u001b[0m\u001b[0;34m)\u001b[0m\u001b[0;34m\u001b[0m\u001b[0;34m\u001b[0m\u001b[0m\n\u001b[1;32m      2\u001b[0m \u001b[0;31m# agent, env, score_list_1 = treina_agente(DQN_Mnih_V1())\u001b[0m\u001b[0;34m\u001b[0m\u001b[0;34m\u001b[0m\u001b[0m\n\u001b[0;32m----> 3\u001b[0;31m \u001b[0mscore_list_1\u001b[0m \u001b[0;34m=\u001b[0m \u001b[0magent_V1\u001b[0m\u001b[0;34m.\u001b[0m\u001b[0mtreina_agente\u001b[0m\u001b[0;34m(\u001b[0m\u001b[0mEPISODE\u001b[0m \u001b[0;34m=\u001b[0m \u001b[0;36m200\u001b[0m\u001b[0;34m)\u001b[0m\u001b[0;34m\u001b[0m\u001b[0;34m\u001b[0m\u001b[0m\n\u001b[0m\u001b[1;32m      4\u001b[0m \u001b[0mplotar\u001b[0m\u001b[0;34m(\u001b[0m\u001b[0mscore_list_1\u001b[0m\u001b[0;34m,\u001b[0m \u001b[0mxlabel\u001b[0m \u001b[0;34m=\u001b[0m \u001b[0;34m'Episódio'\u001b[0m\u001b[0;34m,\u001b[0m \u001b[0mylabel\u001b[0m \u001b[0;34m=\u001b[0m \u001b[0;34m'Pontuação'\u001b[0m\u001b[0;34m,\u001b[0m \u001b[0mtitle\u001b[0m \u001b[0;34m=\u001b[0m \u001b[0;34m'Desempenho do Agente no Treinamento'\u001b[0m\u001b[0;34m)\u001b[0m\u001b[0;34m\u001b[0m\u001b[0;34m\u001b[0m\u001b[0m\n",
            "\u001b[0;32m<ipython-input-26-6445d71adcdc>\u001b[0m in \u001b[0;36mtreina_agente\u001b[0;34m(self, env, EPISODE)\u001b[0m\n\u001b[1;32m     91\u001b[0m             \u001b[0minicio\u001b[0m \u001b[0;34m=\u001b[0m \u001b[0mtime\u001b[0m\u001b[0;34m.\u001b[0m\u001b[0mtime\u001b[0m\u001b[0;34m(\u001b[0m\u001b[0;34m)\u001b[0m\u001b[0;34m\u001b[0m\u001b[0;34m\u001b[0m\u001b[0m\n\u001b[1;32m     92\u001b[0m             \u001b[0mtime_step\u001b[0m \u001b[0;34m=\u001b[0m \u001b[0menv\u001b[0m\u001b[0;34m.\u001b[0m\u001b[0mreset\u001b[0m\u001b[0;34m(\u001b[0m\u001b[0;34m)\u001b[0m\u001b[0;34m\u001b[0m\u001b[0;34m\u001b[0m\u001b[0m\n\u001b[0;32m---> 93\u001b[0;31m             \u001b[0mstate\u001b[0m \u001b[0;34m=\u001b[0m \u001b[0mtime_step\u001b[0m\u001b[0;34m[\u001b[0m\u001b[0;34m\"obsevation\"\u001b[0m\u001b[0;34m]\u001b[0m\u001b[0;34m\u001b[0m\u001b[0;34m\u001b[0m\u001b[0m\n\u001b[0m\u001b[1;32m     94\u001b[0m             \u001b[0mscore\u001b[0m\u001b[0;34m,\u001b[0m \u001b[0mdone\u001b[0m \u001b[0;34m=\u001b[0m \u001b[0;36m0.0\u001b[0m\u001b[0;34m,\u001b[0m \u001b[0;32mFalse\u001b[0m\u001b[0;34m\u001b[0m\u001b[0;34m\u001b[0m\u001b[0m\n\u001b[1;32m     95\u001b[0m \u001b[0;34m\u001b[0m\u001b[0m\n",
            "\u001b[0;31mIndexError\u001b[0m: only integers, slices (`:`), ellipsis (`...`), numpy.newaxis (`None`) and integer or boolean arrays are valid indices"
          ]
        }
      ]
    },
    {
      "cell_type": "markdown",
      "source": [
        "### Avaliação"
      ],
      "metadata": {
        "id": "ODB-efxMA6Rr"
      }
    },
    {
      "cell_type": "code",
      "source": [
        "Sucessos, Desempenho_Medio, eval_score = teste_desempenho(env, agent)\n",
        "plotar(eval_score, xlabel = 'Episódios', ylabel = 'Recompensas', title = 'Desempenho do Agente na Avaliação')"
      ],
      "metadata": {
        "id": "4L3BXN7JA8M8"
      },
      "execution_count": null,
      "outputs": []
    },
    {
      "cell_type": "code",
      "source": [
        "plotar(Sucessos, xlabel = 'Avaliações', ylabel = 'Taxa de Sucesso Máximo (%)', title = 'Desempenho do Agente Treinado')"
      ],
      "metadata": {
        "id": "AiVsZ75XBOkL"
      },
      "execution_count": null,
      "outputs": []
    },
    {
      "cell_type": "code",
      "source": [
        "salvar_array(score_list_1, Sucessos, Desempenho_Medio, eval_score, \"V1\", 1)"
      ],
      "metadata": {
        "id": "fAH3AsbRBUj0"
      },
      "execution_count": null,
      "outputs": []
    },
    {
      "cell_type": "markdown",
      "source": [
        "### Carrega Resultado"
      ],
      "metadata": {
        "id": "ILK-eLSwBabT"
      }
    },
    {
      "cell_type": "code",
      "source": [
        "resultado_1_V1 = carrega_array(\"V1\", 1)"
      ],
      "metadata": {
        "id": "w0QgshRsBcnj"
      },
      "execution_count": null,
      "outputs": []
    },
    {
      "cell_type": "markdown",
      "source": [
        "### Média dos Resultados"
      ],
      "metadata": {
        "id": "dA4_7Hr9BmsF"
      }
    },
    {
      "cell_type": "code",
      "source": [
        "resultado_medio_V1 = (resultado_1_V1 +\n",
        "                   resultado_2_V1 +\n",
        "                   resultado_3_V1 +\n",
        "                   resultado_4_V1 +\n",
        "                   resultado_5_V1 +\n",
        "                   resultado_6_V1 +\n",
        "                   resultado_7_V1 +\n",
        "                   resultado_8_V1 +\n",
        "                   resultado_9_V1 +\n",
        "                   resultado_10_V1) / 10 # Melhoria: Criar uma lista com os resultados quando for carregar, fica mais fácil para tirar a média\n",
        "plotar(resultado_medio_V1['Rewards_ep'], xlabel = 'Episódios', ylabel = 'Recompensas', title = 'Desempenho Médio por Episódio no Treinamento')"
      ],
      "metadata": {
        "id": "NrQ9OlMnBsGD"
      },
      "execution_count": null,
      "outputs": []
    },
    {
      "cell_type": "code",
      "source": [
        "plotar(resultado_medio_V1['Rewards_ep_eval'], xlabel = 'Episódios', ylabel = 'Recompensas', title = 'Desempenho Médio por Episódio na Avaliação')"
      ],
      "metadata": {
        "id": "yssA8WTuB0QM"
      },
      "execution_count": null,
      "outputs": []
    },
    {
      "cell_type": "code",
      "source": [
        "plotar(resultado_medio_V1['Sucess_Rates'], xlabel = 'Testes', ylabel = 'Taxa de Sucesso (%)', title = 'Taxa de Sucesso Médio na Avaliação')"
      ],
      "metadata": {
        "id": "-XCOVNAbB5xN"
      },
      "execution_count": null,
      "outputs": []
    },
    {
      "cell_type": "markdown",
      "source": [
        "# V1 em PyTorch"
      ],
      "metadata": {
        "id": "Misc36E5FNBW"
      }
    },
    {
      "cell_type": "markdown",
      "source": [
        "## Instalações"
      ],
      "metadata": {
        "id": "XV-y4Yp2FNBm"
      }
    },
    {
      "cell_type": "code",
      "source": [
        "!pip install tensordict\n",
        "# Esse pacote é uma biblioteca que fornece um dicionário de tensores\n",
        "# (estrutura de dados para armazenar e manipular múltiplos tensores, que são fundamentais em muitas operações de aprendizado de máquina e computação científica).\n",
        "!pip install torchrl\n",
        "# Este pacote é relacionado ao uso da biblioteca PyTorch para Reinforcement Learning (RL, ou Aprendizado por Reforço).\n",
        "# torchrl é um complemento focado em fornecer ferramentas e utilitários específicos para Aprendizado por Reforço."
      ],
      "metadata": {
        "colab": {
          "base_uri": "https://localhost:8080/"
        },
        "outputId": "074ffafe-3fe1-4670-a80b-172b43bf3bf0",
        "id": "rq3cV4LjFNBm"
      },
      "execution_count": null,
      "outputs": [
        {
          "output_type": "stream",
          "name": "stdout",
          "text": [
            "Collecting tensordict\n",
            "  Downloading tensordict-0.4.0-cp310-cp310-manylinux1_x86_64.whl (1.1 MB)\n",
            "\u001b[?25l     \u001b[90m━━━━━━━━━━━━━━━━━━━━━━━━━━━━━━━━━━━━━━━━\u001b[0m \u001b[32m0.0/1.1 MB\u001b[0m \u001b[31m?\u001b[0m eta \u001b[36m-:--:--\u001b[0m\r\u001b[2K     \u001b[91m━━━━━━━\u001b[0m\u001b[90m╺\u001b[0m\u001b[90m━━━━━━━━━━━━━━━━━━━━━━━━━━━━━━━━\u001b[0m \u001b[32m0.2/1.1 MB\u001b[0m \u001b[31m5.8 MB/s\u001b[0m eta \u001b[36m0:00:01\u001b[0m\r\u001b[2K     \u001b[91m━━━━━━━━━━━━━━━━━━━━━━━━━━━━━━━━━━━━━━━\u001b[0m\u001b[91m╸\u001b[0m \u001b[32m1.1/1.1 MB\u001b[0m \u001b[31m18.5 MB/s\u001b[0m eta \u001b[36m0:00:01\u001b[0m\r\u001b[2K     \u001b[90m━━━━━━━━━━━━━━━━━━━━━━━━━━━━━━━━━━━━━━━━\u001b[0m \u001b[32m1.1/1.1 MB\u001b[0m \u001b[31m14.1 MB/s\u001b[0m eta \u001b[36m0:00:00\u001b[0m\n",
            "\u001b[?25hRequirement already satisfied: torch>=2.3.0 in /usr/local/lib/python3.10/dist-packages (from tensordict) (2.3.0+cu121)\n",
            "Requirement already satisfied: numpy in /usr/local/lib/python3.10/dist-packages (from tensordict) (1.25.2)\n",
            "Requirement already satisfied: cloudpickle in /usr/local/lib/python3.10/dist-packages (from tensordict) (2.2.1)\n",
            "Requirement already satisfied: filelock in /usr/local/lib/python3.10/dist-packages (from torch>=2.3.0->tensordict) (3.14.0)\n",
            "Requirement already satisfied: typing-extensions>=4.8.0 in /usr/local/lib/python3.10/dist-packages (from torch>=2.3.0->tensordict) (4.11.0)\n",
            "Requirement already satisfied: sympy in /usr/local/lib/python3.10/dist-packages (from torch>=2.3.0->tensordict) (1.12)\n",
            "Requirement already satisfied: networkx in /usr/local/lib/python3.10/dist-packages (from torch>=2.3.0->tensordict) (3.3)\n",
            "Requirement already satisfied: jinja2 in /usr/local/lib/python3.10/dist-packages (from torch>=2.3.0->tensordict) (3.1.4)\n",
            "Requirement already satisfied: fsspec in /usr/local/lib/python3.10/dist-packages (from torch>=2.3.0->tensordict) (2023.6.0)\n",
            "Collecting nvidia-cuda-nvrtc-cu12==12.1.105 (from torch>=2.3.0->tensordict)\n",
            "  Using cached nvidia_cuda_nvrtc_cu12-12.1.105-py3-none-manylinux1_x86_64.whl (23.7 MB)\n",
            "Collecting nvidia-cuda-runtime-cu12==12.1.105 (from torch>=2.3.0->tensordict)\n",
            "  Using cached nvidia_cuda_runtime_cu12-12.1.105-py3-none-manylinux1_x86_64.whl (823 kB)\n",
            "Collecting nvidia-cuda-cupti-cu12==12.1.105 (from torch>=2.3.0->tensordict)\n",
            "  Using cached nvidia_cuda_cupti_cu12-12.1.105-py3-none-manylinux1_x86_64.whl (14.1 MB)\n",
            "Collecting nvidia-cudnn-cu12==8.9.2.26 (from torch>=2.3.0->tensordict)\n",
            "  Using cached nvidia_cudnn_cu12-8.9.2.26-py3-none-manylinux1_x86_64.whl (731.7 MB)\n",
            "Collecting nvidia-cublas-cu12==12.1.3.1 (from torch>=2.3.0->tensordict)\n",
            "  Using cached nvidia_cublas_cu12-12.1.3.1-py3-none-manylinux1_x86_64.whl (410.6 MB)\n",
            "Collecting nvidia-cufft-cu12==11.0.2.54 (from torch>=2.3.0->tensordict)\n",
            "  Using cached nvidia_cufft_cu12-11.0.2.54-py3-none-manylinux1_x86_64.whl (121.6 MB)\n",
            "Collecting nvidia-curand-cu12==10.3.2.106 (from torch>=2.3.0->tensordict)\n",
            "  Using cached nvidia_curand_cu12-10.3.2.106-py3-none-manylinux1_x86_64.whl (56.5 MB)\n",
            "Collecting nvidia-cusolver-cu12==11.4.5.107 (from torch>=2.3.0->tensordict)\n",
            "  Using cached nvidia_cusolver_cu12-11.4.5.107-py3-none-manylinux1_x86_64.whl (124.2 MB)\n",
            "Collecting nvidia-cusparse-cu12==12.1.0.106 (from torch>=2.3.0->tensordict)\n",
            "  Using cached nvidia_cusparse_cu12-12.1.0.106-py3-none-manylinux1_x86_64.whl (196.0 MB)\n",
            "Collecting nvidia-nccl-cu12==2.20.5 (from torch>=2.3.0->tensordict)\n",
            "  Using cached nvidia_nccl_cu12-2.20.5-py3-none-manylinux2014_x86_64.whl (176.2 MB)\n",
            "Collecting nvidia-nvtx-cu12==12.1.105 (from torch>=2.3.0->tensordict)\n",
            "  Using cached nvidia_nvtx_cu12-12.1.105-py3-none-manylinux1_x86_64.whl (99 kB)\n",
            "Requirement already satisfied: triton==2.3.0 in /usr/local/lib/python3.10/dist-packages (from torch>=2.3.0->tensordict) (2.3.0)\n",
            "Collecting nvidia-nvjitlink-cu12 (from nvidia-cusolver-cu12==11.4.5.107->torch>=2.3.0->tensordict)\n",
            "  Downloading nvidia_nvjitlink_cu12-12.5.40-py3-none-manylinux2014_x86_64.whl (21.3 MB)\n",
            "\u001b[2K     \u001b[90m━━━━━━━━━━━━━━━━━━━━━━━━━━━━━━━━━━━━━━━━\u001b[0m \u001b[32m21.3/21.3 MB\u001b[0m \u001b[31m52.9 MB/s\u001b[0m eta \u001b[36m0:00:00\u001b[0m\n",
            "\u001b[?25hRequirement already satisfied: MarkupSafe>=2.0 in /usr/local/lib/python3.10/dist-packages (from jinja2->torch>=2.3.0->tensordict) (2.1.5)\n",
            "Requirement already satisfied: mpmath>=0.19 in /usr/local/lib/python3.10/dist-packages (from sympy->torch>=2.3.0->tensordict) (1.3.0)\n",
            "Installing collected packages: nvidia-nvtx-cu12, nvidia-nvjitlink-cu12, nvidia-nccl-cu12, nvidia-curand-cu12, nvidia-cufft-cu12, nvidia-cuda-runtime-cu12, nvidia-cuda-nvrtc-cu12, nvidia-cuda-cupti-cu12, nvidia-cublas-cu12, nvidia-cusparse-cu12, nvidia-cudnn-cu12, nvidia-cusolver-cu12, tensordict\n",
            "Successfully installed nvidia-cublas-cu12-12.1.3.1 nvidia-cuda-cupti-cu12-12.1.105 nvidia-cuda-nvrtc-cu12-12.1.105 nvidia-cuda-runtime-cu12-12.1.105 nvidia-cudnn-cu12-8.9.2.26 nvidia-cufft-cu12-11.0.2.54 nvidia-curand-cu12-10.3.2.106 nvidia-cusolver-cu12-11.4.5.107 nvidia-cusparse-cu12-12.1.0.106 nvidia-nccl-cu12-2.20.5 nvidia-nvjitlink-cu12-12.5.40 nvidia-nvtx-cu12-12.1.105 tensordict-0.4.0\n",
            "Collecting torchrl\n",
            "  Downloading torchrl-0.4.0-cp310-cp310-manylinux1_x86_64.whl (5.9 MB)\n",
            "\u001b[2K     \u001b[90m━━━━━━━━━━━━━━━━━━━━━━━━━━━━━━━━━━━━━━━━\u001b[0m \u001b[32m5.9/5.9 MB\u001b[0m \u001b[31m13.4 MB/s\u001b[0m eta \u001b[36m0:00:00\u001b[0m\n",
            "\u001b[?25hRequirement already satisfied: torch>=2.3.0 in /usr/local/lib/python3.10/dist-packages (from torchrl) (2.3.0+cu121)\n",
            "Requirement already satisfied: numpy in /usr/local/lib/python3.10/dist-packages (from torchrl) (1.25.2)\n",
            "Requirement already satisfied: packaging in /usr/local/lib/python3.10/dist-packages (from torchrl) (24.0)\n",
            "Requirement already satisfied: cloudpickle in /usr/local/lib/python3.10/dist-packages (from torchrl) (2.2.1)\n",
            "Requirement already satisfied: tensordict>=0.4.0 in /usr/local/lib/python3.10/dist-packages (from torchrl) (0.4.0)\n",
            "Requirement already satisfied: filelock in /usr/local/lib/python3.10/dist-packages (from torch>=2.3.0->torchrl) (3.14.0)\n",
            "Requirement already satisfied: typing-extensions>=4.8.0 in /usr/local/lib/python3.10/dist-packages (from torch>=2.3.0->torchrl) (4.11.0)\n",
            "Requirement already satisfied: sympy in /usr/local/lib/python3.10/dist-packages (from torch>=2.3.0->torchrl) (1.12)\n",
            "Requirement already satisfied: networkx in /usr/local/lib/python3.10/dist-packages (from torch>=2.3.0->torchrl) (3.3)\n",
            "Requirement already satisfied: jinja2 in /usr/local/lib/python3.10/dist-packages (from torch>=2.3.0->torchrl) (3.1.4)\n",
            "Requirement already satisfied: fsspec in /usr/local/lib/python3.10/dist-packages (from torch>=2.3.0->torchrl) (2023.6.0)\n",
            "Requirement already satisfied: nvidia-cuda-nvrtc-cu12==12.1.105 in /usr/local/lib/python3.10/dist-packages (from torch>=2.3.0->torchrl) (12.1.105)\n",
            "Requirement already satisfied: nvidia-cuda-runtime-cu12==12.1.105 in /usr/local/lib/python3.10/dist-packages (from torch>=2.3.0->torchrl) (12.1.105)\n",
            "Requirement already satisfied: nvidia-cuda-cupti-cu12==12.1.105 in /usr/local/lib/python3.10/dist-packages (from torch>=2.3.0->torchrl) (12.1.105)\n",
            "Requirement already satisfied: nvidia-cudnn-cu12==8.9.2.26 in /usr/local/lib/python3.10/dist-packages (from torch>=2.3.0->torchrl) (8.9.2.26)\n",
            "Requirement already satisfied: nvidia-cublas-cu12==12.1.3.1 in /usr/local/lib/python3.10/dist-packages (from torch>=2.3.0->torchrl) (12.1.3.1)\n",
            "Requirement already satisfied: nvidia-cufft-cu12==11.0.2.54 in /usr/local/lib/python3.10/dist-packages (from torch>=2.3.0->torchrl) (11.0.2.54)\n",
            "Requirement already satisfied: nvidia-curand-cu12==10.3.2.106 in /usr/local/lib/python3.10/dist-packages (from torch>=2.3.0->torchrl) (10.3.2.106)\n",
            "Requirement already satisfied: nvidia-cusolver-cu12==11.4.5.107 in /usr/local/lib/python3.10/dist-packages (from torch>=2.3.0->torchrl) (11.4.5.107)\n",
            "Requirement already satisfied: nvidia-cusparse-cu12==12.1.0.106 in /usr/local/lib/python3.10/dist-packages (from torch>=2.3.0->torchrl) (12.1.0.106)\n",
            "Requirement already satisfied: nvidia-nccl-cu12==2.20.5 in /usr/local/lib/python3.10/dist-packages (from torch>=2.3.0->torchrl) (2.20.5)\n",
            "Requirement already satisfied: nvidia-nvtx-cu12==12.1.105 in /usr/local/lib/python3.10/dist-packages (from torch>=2.3.0->torchrl) (12.1.105)\n",
            "Requirement already satisfied: triton==2.3.0 in /usr/local/lib/python3.10/dist-packages (from torch>=2.3.0->torchrl) (2.3.0)\n",
            "Requirement already satisfied: nvidia-nvjitlink-cu12 in /usr/local/lib/python3.10/dist-packages (from nvidia-cusolver-cu12==11.4.5.107->torch>=2.3.0->torchrl) (12.5.40)\n",
            "Requirement already satisfied: MarkupSafe>=2.0 in /usr/local/lib/python3.10/dist-packages (from jinja2->torch>=2.3.0->torchrl) (2.1.5)\n",
            "Requirement already satisfied: mpmath>=0.19 in /usr/local/lib/python3.10/dist-packages (from sympy->torch>=2.3.0->torchrl) (1.3.0)\n",
            "Installing collected packages: torchrl\n",
            "Successfully installed torchrl-0.4.0\n"
          ]
        }
      ]
    },
    {
      "cell_type": "code",
      "source": [
        "!pip install --upgrade torch torchvision\n",
        "# torch refere-se ao PyTorch,\n",
        "# biblioteca de aprendizado de máquina utilizada para aplicações de deep learning, especialmente em visão computacional e processamento de linguagem natural.\n",
        "# torchvision é uma biblioteca que complementa o PyTorch com ferramentas específicas para visão computacional.\n",
        "# Ela inclui conjuntos de dados (datasets) populares, modelos de redes neurais pré-treinados, e funções para transformar imagens."
      ],
      "metadata": {
        "colab": {
          "base_uri": "https://localhost:8080/"
        },
        "outputId": "cefc3255-f5cf-471e-cb86-32fd67e37a52",
        "id": "OOtgVQOwFNBn"
      },
      "execution_count": null,
      "outputs": [
        {
          "output_type": "stream",
          "name": "stdout",
          "text": [
            "Requirement already satisfied: torch in /usr/local/lib/python3.10/dist-packages (2.3.0+cu121)\n",
            "Requirement already satisfied: torchvision in /usr/local/lib/python3.10/dist-packages (0.18.0+cu121)\n",
            "Requirement already satisfied: filelock in /usr/local/lib/python3.10/dist-packages (from torch) (3.14.0)\n",
            "Requirement already satisfied: typing-extensions>=4.8.0 in /usr/local/lib/python3.10/dist-packages (from torch) (4.11.0)\n",
            "Requirement already satisfied: sympy in /usr/local/lib/python3.10/dist-packages (from torch) (1.12)\n",
            "Requirement already satisfied: networkx in /usr/local/lib/python3.10/dist-packages (from torch) (3.3)\n",
            "Requirement already satisfied: jinja2 in /usr/local/lib/python3.10/dist-packages (from torch) (3.1.4)\n",
            "Requirement already satisfied: fsspec in /usr/local/lib/python3.10/dist-packages (from torch) (2023.6.0)\n",
            "Requirement already satisfied: nvidia-cuda-nvrtc-cu12==12.1.105 in /usr/local/lib/python3.10/dist-packages (from torch) (12.1.105)\n",
            "Requirement already satisfied: nvidia-cuda-runtime-cu12==12.1.105 in /usr/local/lib/python3.10/dist-packages (from torch) (12.1.105)\n",
            "Requirement already satisfied: nvidia-cuda-cupti-cu12==12.1.105 in /usr/local/lib/python3.10/dist-packages (from torch) (12.1.105)\n",
            "Requirement already satisfied: nvidia-cudnn-cu12==8.9.2.26 in /usr/local/lib/python3.10/dist-packages (from torch) (8.9.2.26)\n",
            "Requirement already satisfied: nvidia-cublas-cu12==12.1.3.1 in /usr/local/lib/python3.10/dist-packages (from torch) (12.1.3.1)\n",
            "Requirement already satisfied: nvidia-cufft-cu12==11.0.2.54 in /usr/local/lib/python3.10/dist-packages (from torch) (11.0.2.54)\n",
            "Requirement already satisfied: nvidia-curand-cu12==10.3.2.106 in /usr/local/lib/python3.10/dist-packages (from torch) (10.3.2.106)\n",
            "Requirement already satisfied: nvidia-cusolver-cu12==11.4.5.107 in /usr/local/lib/python3.10/dist-packages (from torch) (11.4.5.107)\n",
            "Requirement already satisfied: nvidia-cusparse-cu12==12.1.0.106 in /usr/local/lib/python3.10/dist-packages (from torch) (12.1.0.106)\n",
            "Requirement already satisfied: nvidia-nccl-cu12==2.20.5 in /usr/local/lib/python3.10/dist-packages (from torch) (2.20.5)\n",
            "Requirement already satisfied: nvidia-nvtx-cu12==12.1.105 in /usr/local/lib/python3.10/dist-packages (from torch) (12.1.105)\n",
            "Requirement already satisfied: triton==2.3.0 in /usr/local/lib/python3.10/dist-packages (from torch) (2.3.0)\n",
            "Requirement already satisfied: nvidia-nvjitlink-cu12 in /usr/local/lib/python3.10/dist-packages (from nvidia-cusolver-cu12==11.4.5.107->torch) (12.5.40)\n",
            "Requirement already satisfied: numpy in /usr/local/lib/python3.10/dist-packages (from torchvision) (1.25.2)\n",
            "Requirement already satisfied: pillow!=8.3.*,>=5.3.0 in /usr/local/lib/python3.10/dist-packages (from torchvision) (9.4.0)\n",
            "Requirement already satisfied: MarkupSafe>=2.0 in /usr/local/lib/python3.10/dist-packages (from jinja2->torch) (2.1.5)\n",
            "Requirement already satisfied: mpmath>=0.19 in /usr/local/lib/python3.10/dist-packages (from sympy->torch) (1.3.0)\n"
          ]
        }
      ]
    },
    {
      "cell_type": "code",
      "source": [
        "!pip install av\n",
        "# av é uma biblioteca de Python que proporciona uma interface simplificada para a manipulação de áudio e vídeo.\n",
        "# Esta biblioteca é um contêiner sobre a popular biblioteca de multimídia FFmpeg,\n",
        "# que é capaz de decodificar, codificar, transcodificar, mux, demux, stream, filtrar e reproduzir praticamente tudo que os seres humanos e máquinas criaram."
      ],
      "metadata": {
        "colab": {
          "base_uri": "https://localhost:8080/"
        },
        "outputId": "4c02ea96-2923-4d2b-f348-d7319adcd41b",
        "id": "IMBb8MSfFNBo"
      },
      "execution_count": null,
      "outputs": [
        {
          "output_type": "stream",
          "name": "stdout",
          "text": [
            "Collecting av\n",
            "  Downloading av-12.0.0-cp310-cp310-manylinux_2_17_x86_64.manylinux2014_x86_64.whl (33.8 MB)\n",
            "\u001b[2K     \u001b[90m━━━━━━━━━━━━━━━━━━━━━━━━━━━━━━━━━━━━━━━━\u001b[0m \u001b[32m33.8/33.8 MB\u001b[0m \u001b[31m11.7 MB/s\u001b[0m eta \u001b[36m0:00:00\u001b[0m\n",
            "\u001b[?25hInstalling collected packages: av\n",
            "Successfully installed av-12.0.0\n"
          ]
        }
      ]
    },
    {
      "cell_type": "markdown",
      "source": [
        "## Importações"
      ],
      "metadata": {
        "id": "ClgJoEd7FNBp"
      }
    },
    {
      "cell_type": "code",
      "execution_count": null,
      "metadata": {
        "id": "A4YZFDhJFNBp"
      },
      "outputs": [],
      "source": [
        "import torch #  permitindo operações avançadas de aprendizado de máquina e manipulação de tensores.\n",
        "import time #  oferece funcionalidades relacionadas ao tempo, como obter a hora atual, pausar a execução do programa, e medir intervalos de tempo."
      ]
    },
    {
      "cell_type": "code",
      "source": [
        "import torchvision  # fornece:\n",
        "# Modelos de redes neurais pré-treinados.\n",
        "# Conjuntos de dados populares para visão computacional.\n",
        "# Ferramentas para transformar e manipular imagens.\n",
        "# Utilitários adicionais para facilitar o trabalho com dados de imagem."
      ],
      "metadata": {
        "id": "A7B-uIw8FNBp"
      },
      "execution_count": null,
      "outputs": []
    },
    {
      "cell_type": "code",
      "source": [
        "import numpy as np"
      ],
      "metadata": {
        "id": "QHrE1LiKyxS0"
      },
      "execution_count": null,
      "outputs": []
    },
    {
      "cell_type": "code",
      "source": [
        "from torchrl.envs import GymEnv, StepCounter, TransformedEnv\n",
        "# GymEnv: Classe que integra ambientes do OpenAI Gym com a biblioteca torchrl, permitindo o uso de ambientes padrão de Reinforcement Learning.\n",
        "# StepCounter: Um wrapper para contar o número de passos realizados em um ambiente.\n",
        "# TransformedEnv: Um wrapper que aplica transformações ao ambiente, como normalização de observações ou recompensas.\n",
        "from torchrl.modules import EGreedyModule, MLP, QValueModule\n",
        "# EGreedyModule: Implementa uma política epsilon-greedy, que escolhe ações aleatoriamente com probabilidade epsilon, e a melhor ação com probabilidade 1-epsilon.\n",
        "# MLP: Multi-Layer Perceptron, uma rede neural feed-forward composta por múltiplas camadas densamente conectadas.\n",
        "# QValueModule: Um módulo específico para calcular valores Q, usados em algoritmos de Q-learning.\n",
        "from torchrl.collectors import SyncDataCollector\n",
        "# SyncDataCollector: Coletor de dados síncrono, usado para coletar experiências do ambiente de forma síncrona, que é necessário para treinar modelos de RL.\n",
        "from torchrl.data import LazyTensorStorage, ReplayBuffer\n",
        "# LazyTensorStorage: Armazena tensores de maneira eficiente, com carregamento atrasado.\n",
        "# ReplayBuffer: Buffer de replay, usado para armazenar e amostrar experiências anteriores, crucial para métodos de RL como DQN.\n",
        "from torchrl.objectives import DQNLoss, SoftUpdate\n",
        "# DQNLoss: Implementa a função de perda para o algoritmo DQN (Deep Q-Network).\n",
        "# SoftUpdate: Função para atualização suave dos parâmetros do modelo, frequentemente usada em algoritmos de RL para atualizar gradualmente uma rede alvo.\n",
        "from torchrl._utils import logger as torchrl_logger\n",
        "# logger: Utilitário de registro (logging) usado internamente pela biblioteca torchrl para registrar mensagens de depuração e informações durante a execução.\n",
        "from torchrl.record import CSVLogger, VideoRecorder\n",
        "# CSVLogger: Logger que registra dados em um arquivo CSV, útil para monitorar o treinamento e resultados.\n",
        "# VideoRecorder: Grava vídeos das execuções dos ambientes, útil para visualizar o comportamento de agentes de RL.\n",
        "\n",
        "from tensordict.nn import TensorDictModule as Mod, TensorDictSequential as Seq\n",
        "# TensorDictModule (Mod): Um módulo que opera sobre TensorDicts, que são dicionários especializados em armazenar tensores.\n",
        "# TensorDictSequential (Seq): Similar ao torch.nn.Sequential, mas opera sobre TensorDicts,\n",
        "# permitindo a construção de modelos sequenciais que trabalham com múltiplos tensores de entrada e saída.\n",
        "\n",
        "from torch.optim import Adam\n",
        "# Adam: Um otimizador amplamente utilizado, que combina as vantagens dos métodos AdaGrad e RMSProp,\n",
        "# ajustando os passos de atualização com base em estimativas de momentos de primeira e segunda ordem dos gradientes."
      ],
      "metadata": {
        "id": "KPmk2qejFNBq"
      },
      "execution_count": null,
      "outputs": []
    },
    {
      "cell_type": "code",
      "source": [
        "import matplotlib.pyplot as plt"
      ],
      "metadata": {
        "id": "iIh4KXSMZCpA",
        "colab": {
          "base_uri": "https://localhost:8080/"
        },
        "outputId": "4b149eb5-b112-4f94-d059-4acbe7ecc77d"
      },
      "execution_count": null,
      "outputs": [
        {
          "output_type": "stream",
          "name": "stderr",
          "text": [
            "/usr/local/lib/python3.10/dist-packages/ipykernel/ipkernel.py:283: DeprecationWarning: `should_run_async` will not call `transform_cell` automatically in the future. Please pass the result to `transformed_cell` argument and any exception that happen during thetransform in `preprocessing_exc_tuple` in IPython 7.17 and above.\n",
            "  and should_run_async(code)\n"
          ]
        }
      ]
    },
    {
      "cell_type": "code",
      "source": [
        "import pandas as pd\n",
        "from google.colab import drive\n",
        "drive.mount('/content/drive')"
      ],
      "metadata": {
        "colab": {
          "base_uri": "https://localhost:8080/"
        },
        "id": "yM3l0Wf7rgLE",
        "outputId": "dafb2ed9-1dcb-499f-bb3b-313569309aa1"
      },
      "execution_count": null,
      "outputs": [
        {
          "output_type": "stream",
          "name": "stdout",
          "text": [
            "Mounted at /content/drive\n"
          ]
        }
      ]
    },
    {
      "cell_type": "markdown",
      "source": [
        "## Construindo o ambiente - OK"
      ],
      "metadata": {
        "id": "C4F4pUkqFNBr"
      }
    },
    {
      "cell_type": "markdown",
      "source": [
        "Estaremos usando um ambiente de academia com uma StepCounter transformação. Se precisar de uma atualização, verifique se esses recursos são apresentados no tutorial do ambiente ."
      ],
      "metadata": {
        "id": "YiiMyLr-FNBr"
      }
    },
    {
      "cell_type": "code",
      "source": [
        "torch.manual_seed(0) # define a semente manual para a geração de números aleatórios no PyTorch, garantindo a reprodutibilidade dos resultados.\n",
        "env = TransformedEnv(GymEnv(\"CartPole-v1\"), StepCounter())\n",
        "# cria um ambiente de RL para o ambiente \"CartPole-v1\" do OpenAI Gym, com um contador de passos adicionado como uma transformação ao ambiente.\n",
        "env.set_seed(0) # define a semente para o ambiente env, garantindo a consistência do comportamento do ambiente em diferentes execuções."
      ],
      "metadata": {
        "colab": {
          "base_uri": "https://localhost:8080/"
        },
        "outputId": "a5c7d241-47f1-4bb5-b876-ebd2a53ebd6c",
        "id": "V7YzMz6TFNBr"
      },
      "execution_count": null,
      "outputs": [
        {
          "output_type": "stream",
          "name": "stderr",
          "text": [
            "/usr/local/lib/python3.10/dist-packages/ipykernel/ipkernel.py:283: DeprecationWarning: `should_run_async` will not call `transform_cell` automatically in the future. Please pass the result to `transformed_cell` argument and any exception that happen during thetransform in `preprocessing_exc_tuple` in IPython 7.17 and above.\n",
            "  and should_run_async(code)\n",
            "/usr/local/lib/python3.10/dist-packages/torchrl/envs/common.py:2989: DeprecationWarning: Your wrapper was not given a device. Currently, this value will default to 'cpu'. From v0.5 it will default to `None`. With a device of None, no device casting is performed and the resulting tensordicts are deviceless. Please set your device accordingly.\n",
            "  warnings.warn(\n"
          ]
        },
        {
          "output_type": "execute_result",
          "data": {
            "text/plain": [
              "795726461"
            ]
          },
          "metadata": {},
          "execution_count": 11
        }
      ]
    },
    {
      "cell_type": "markdown",
      "source": [
        "## Projetando uma política - OK"
      ],
      "metadata": {
        "id": "8wH2IHjfFNBs"
      }
    },
    {
      "cell_type": "markdown",
      "source": [
        "O próximo passo é construir nossa política. Faremos uma versão regular e determinística do ator para ser usada no módulo de perda e durante a avaliação . A seguir, iremos aumentá-lo com um módulo de exploração para inferência ."
      ],
      "metadata": {
        "id": "aR2BWMrlFNBt"
      }
    },
    {
      "cell_type": "code",
      "source": [
        "# Essa linha cria uma MLP que mapeia observações do ambiente para valores de ação, com duas camadas ocultas de 64 neurônios cada.\n",
        "value_mlp = MLP(out_features=env.action_spec.shape[-1], num_cells=[64, 64])\n",
        "# MLP: Refere-se a um Multi-Layer Perceptron (MLP), uma rede neural feed-forward composta por múltiplas camadas densamente conectadas.\n",
        "# out_features=env.action_spec.shape[-1]: Define o número de neurônios na camada de saída da MLP.\n",
        "# env.action_spec.shape[-1] é a dimensão do espaço de ações do ambiente, o que significa que a MLP vai produzir um valor para cada ação possível no ambiente.\n",
        "# num_cells=[64, 64]: Define a arquitetura da MLP, com duas camadas ocultas, cada uma contendo 64 neurônios.\n",
        "\n",
        "# Essa linha cria um módulo que pega as observações do ambiente (observation) e produz valores de ação (action_value) usando a MLP definida anteriormente.\n",
        "value_net = Mod(value_mlp, in_keys=[\"observation\"], out_keys=[\"action_value\"])\n",
        "# Mod: Refere-se ao TensorDictModule, que é um módulo que opera sobre TensorDicts.\n",
        "# value_mlp: A MLP criada na linha anterior.\n",
        "# in_keys=[\"observation\"]: Define as chaves de entrada para o módulo. Aqui, o módulo espera uma chave chamada observation no TensorDict de entrada.\n",
        "# out_keys=[\"action_value\"]: Define as chaves de saída para o módulo. O módulo irá produzir uma chave chamada action_value no TensorDict de saída."
      ],
      "metadata": {
        "id": "OJZlKlTOFNBt",
        "colab": {
          "base_uri": "https://localhost:8080/"
        },
        "outputId": "bf42ecdc-a701-4c68-d204-3bf09c84339c"
      },
      "execution_count": null,
      "outputs": [
        {
          "output_type": "stream",
          "name": "stderr",
          "text": [
            "/usr/local/lib/python3.10/dist-packages/ipykernel/ipkernel.py:283: DeprecationWarning: `should_run_async` will not call `transform_cell` automatically in the future. Please pass the result to `transformed_cell` argument and any exception that happen during thetransform in `preprocessing_exc_tuple` in IPython 7.17 and above.\n",
            "  and should_run_async(code)\n",
            "/usr/local/lib/python3.10/dist-packages/torch/nn/modules/lazy.py:181: UserWarning: Lazy modules are a new feature under heavy development so changes to the API or functionality can happen at any moment.\n",
            "  warnings.warn('Lazy modules are a new feature under heavy development '\n"
          ]
        }
      ]
    },
    {
      "cell_type": "code",
      "source": [
        "# Cria uma política que primeiro passa a observação através da value_net para obter os valores de ação\n",
        "# e, em seguida, usa o QValueModule para calcular os valores Q para as ações.\n",
        "policy = Seq(value_net, QValueModule(spec=env.action_spec))\n",
        "# Seq: Refere-se ao TensorDictSequential, que é similar ao torch.nn.Sequential, mas opera sobre TensorDicts.\n",
        "# value_net: O módulo criado na linha anterior.\n",
        "# QValueModule(spec=env.action_spec): Um módulo específico para calcular valores Q, usado em algoritmos de Q-learning.\n",
        "# spec=env.action_spec fornece as especificações do espaço de ações do ambiente.\n",
        "\n",
        "# Cria um módulo de exploração que implementa uma estratégia epsilon-greedy com um valor inicial de epsilon de 0.5 e que diminui ao longo de 100.000 passos.\n",
        "exploration_module = EGreedyModule(env.action_spec, annealing_num_steps=100_000, eps_init=0.5)\n",
        "# exploration_module = EGreedyModule(env.action_spec, annealing_num_steps=345, eps_init=1)\n",
        "# EGreedyModule: Implementa política epsilon-greedy, que escolhe ações aleatoriamente com certa probabilidade epsilon, e a melhor ação com probabilidade 1-epsilon.\n",
        "# env.action_spec: As especificações do espaço de ações do ambiente.\n",
        "# annealing_num_steps=100_000: Define o número de passos durante os quais o valor de epsilon será reduzido gradualmente (annealing).\n",
        "# eps_init=0.5: Define o valor inicial de epsilon. No início, 50% das ações serão escolhidas aleatoriamente.\n",
        "\n",
        "# Essa linha combina a política com o módulo de exploração em uma sequência, resultando em uma política que primeiro calcula os valores de ação\n",
        "# e, em seguida, aplica a estratégia epsilon-greedy para selecionar as ações.\n",
        "policy_explore = Seq(policy, exploration_module)  # Seq: Refere-se ao TensorDictSequential.\n",
        "# policy: A política definida anteriormente.\n",
        "# exploration_module: O módulo de exploração epsilon-greedy definido na linha anterior."
      ],
      "metadata": {
        "id": "y0Jlun-dFNBu"
      },
      "execution_count": null,
      "outputs": []
    },
    {
      "cell_type": "markdown",
      "source": [
        "Passando de e- decay = 0,98 para propocional em passos:\n",
        "\n",
        "\\begin{align}\n",
        " ϵ_{\\mbox{inicial}} * ϵ_{\\mbox{decay}}^{n_p} = ϵ_{\\mbox{mínimo}}\n",
        "\\end{align}\n",
        "\n",
        "\\begin{align}\n",
        " n_p = (\\frac{\\log ϵ_{\\mbox{mínimo}} - \\log ϵ_{\\mbox{inicial}} }{\\log ϵ_{\\mbox{decay}}})\n",
        "\\end{align}\n",
        "\n",
        "\\begin{align}\n",
        " n_p ≈ 345\n",
        "\\end{align}\n",
        "\n"
      ],
      "metadata": {
        "id": "xhxLwjMAu_Op"
      }
    },
    {
      "cell_type": "markdown",
      "source": [
        "## Coletor de dados e buffer de reprodução"
      ],
      "metadata": {
        "id": "Hg9jvMkDFNBv"
      }
    },
    {
      "cell_type": "markdown",
      "source": [
        "Aí vem a parte dos dados: precisamos de um coletor de dados para obter facilmente lotes de dados e um buffer de reprodução para armazenar esses dados para treinamento."
      ],
      "metadata": {
        "id": "O8Aoji0RFNBv"
      }
    },
    {
      "cell_type": "code",
      "source": [
        "init_rand_steps = 5000    # Define o número inicial de passos aleatórios a serem realizados no ambiente antes de começar a usar a política treinada.\n",
        "frames_per_batch = 200    # Define o número de frames (ou passos de tempo) que serão coletados em cada lote (batch) de coleta de dados do ambiente.\n",
        "optim_steps = 10          # Define o número de passos de otimização que serão realizados após cada lote de coleta de dados.\n",
        "# Isso controla quantas atualizações dos pesos da rede neural serão feitas com base nos dados coletados.\n",
        "\n",
        "# SyncDataCollector: Um coletor de dados síncrono que coleta experiências do ambiente usando a política fornecida.\n",
        "collector = SyncDataCollector(\n",
        "    env,                                  # env: O ambiente de RL, criado anteriormente com TransformedEnv.\n",
        "    policy,                               # policy: A política usada para coletar experiências do ambiente.\n",
        "    # policy_explore,\n",
        "    frames_per_batch=frames_per_batch,    # frames_per_batch=frames_per_batch: Especifica que 200 frames serão coletados em cada lote.\n",
        "    total_frames=-1,                      # total_frames=-1: Especifica que o coletor deve continuar indefinidamente (ou até que seja explicitamente parado).\n",
        "    init_random_frames=init_rand_steps,   # init_random_frames=init_rand_steps: 5000 passos aleatórios realizados inicialmente p/ preencher o rb.\n",
        ")\n",
        "\n",
        "rb = ReplayBuffer(storage=LazyTensorStorage(100_000)) # Buffer de replay usado p/ armazenar experiências anteriores p/ amostragem durante o treinamento.\n",
        "# LazyTensorStorage(100_000): Um armazenamento eficiente de tensores que pode armazenar até 100.000 transições."
      ],
      "metadata": {
        "id": "VsxnUXE-FNBv"
      },
      "execution_count": null,
      "outputs": []
    },
    {
      "cell_type": "markdown",
      "source": [
        "## Módulo de perda e otimizador - Ok"
      ],
      "metadata": {
        "id": "SEJGPMjUFNBw"
      }
    },
    {
      "cell_type": "markdown",
      "source": [
        "Construímos nossa perda conforme indicado no tutorial dedicado , com seu otimizador e atualizador de parâmetros de destino:"
      ],
      "metadata": {
        "id": "f-lOCPumFNBw"
      }
    },
    {
      "cell_type": "code",
      "source": [
        "#  Implementa a função de perda para o algoritmo DQN (Deep Q-Network).\n",
        "loss = DQNLoss(value_network=policy, action_space=env.action_spec, delay_value=True)\n",
        "# value_network=policy: A rede de valor utilizada para calcular os valores Q. Aqui, policy é a política criada anteriormente, que inclui o QValueModule.\n",
        "# action_space=env.action_spec: Especifica o espaço de ações do ambiente, utilizado para calcular os valores Q para todas as ações possíveis.\n",
        "# delay_value=True: Indica que a rede alvo (target network) deve ser usada para calcular os valores Q futuros, o que é uma técnica comum para estabilizar o treinamento em DQN.\n",
        "\n",
        "# Um otimizador amplamente utilizado que combina as vantagens dos métodos AdaGrad e RMSProp. É particularmente eficiente para grandes problemas de aprendizado de máquina com muitos parâmetros.\n",
        "optim = Adam(loss.parameters(), lr=0.02)\n",
        "# loss.parameters(): Passa os parâmetros da função de perda (que incluem os parâmetros da rede de valor) para o otimizador.\n",
        "# lr=0.02: Define a taxa de aprendizado (learning rate) como 0.02. Esta taxa controla o tamanho dos passos de atualização dos pesos da rede neural durante o treinamento.\n",
        "\n",
        "# Implementa a atualização suave dos parâmetros da rede, uma técnica comum em algoritmos de RL para atualizar gradualmente uma rede alvo (target network) com os parâmetros da rede de valor (online network).\n",
        "updater = SoftUpdate(loss, eps=0.99)\n",
        "# loss: A função de perda que contém os parâmetros da rede de valor e da rede alvo.\n",
        "# eps=0.99: Define o fator de atualização suave (soft update factor).\n",
        "# eps=0.99 indica que 99% dos parâmetros da rede alvo são mantidos e apenas 1% é atualizado a partir da rede de valor em cada passo."
      ],
      "metadata": {
        "id": "p8T_VIE3FNBw"
      },
      "execution_count": null,
      "outputs": []
    },
    {
      "cell_type": "markdown",
      "source": [
        "## Registrador"
      ],
      "metadata": {
        "id": "XuyiQ_eqFNBx"
      }
    },
    {
      "cell_type": "markdown",
      "source": [
        "Usaremos um registrador CSV para registrar nossos resultados e salvar vídeos renderizados."
      ],
      "metadata": {
        "id": "IgdUYKRtFNBx"
      }
    },
    {
      "cell_type": "code",
      "source": [
        "path = \"./training_loop\" # Define o diretório onde os logs e outros dados do treinamento serão salvos. Neste caso, é um diretório local chamado training_loop.\n",
        "\n",
        "# CSVLogger: Um logger que registra dados em formato CSV, útil para monitorar o progresso do treinamento e analisar resultados.\n",
        "logger = CSVLogger(exp_name=\"dqn\", log_dir=path, video_format=\"mp4\")\n",
        "# exp_name=\"dqn\": Nome da experiência, usado como um identificador para os logs. Aqui, é definido como \"dqn\" (Deep Q-Network).\n",
        "# log_dir=path: Diretório onde os logs serão salvos. Neste caso, é o diretório definido anteriormente, ./training_loop.\n",
        "# video_format=\"mp4\": Especifica o formato de vídeo para gravação. Aqui, está configurado para MP4.\n",
        "\n",
        "# Um objeto que grava vídeos das execuções do ambiente durante o treinamento, útil para visualizar o comportamento do agente.\n",
        "video_recorder = VideoRecorder(logger, tag=\"video\")\n",
        "# logger: O logger criado na linha anterior, que será usado para salvar os vídeos.\n",
        "# tag=\"video\": Uma tag para identificar os vídeos nos logs. Aqui, está definido como \"video\".\n",
        "\n",
        "# Um wrapper que aplica transformações ao ambiente, como normalização de observações ou recompensas, e também permite a adição de funcionalidades como gravação de vídeos.\n",
        "record_env = TransformedEnv(GymEnv(\"CartPole-v1\", from_pixels=True, pixels_only=False), video_recorder)\n",
        "# GymEnv(\"CartPole-v1\", from_pixels=True, pixels_only=False): Cria um ambiente GymEnv para o ambiente \"CartPole-v1\" do OpenAI Gym.\n",
        "# from_pixels=True: Indica que o ambiente será renderizado a partir de pixels, permitindo a gravação visual do ambiente.\n",
        "# pixels_only=False: Indica que tanto as observações em forma de pixels quanto outras observações (como a posição e a velocidade do carrinho) serão retornadas pelo ambiente.\n",
        "# video_recorder: O gravador de vídeos criado na linha anterior, que será usado para gravar as execuções do ambiente."
      ],
      "metadata": {
        "colab": {
          "base_uri": "https://localhost:8080/"
        },
        "outputId": "ce6e29c7-d4af-47f7-f996-b753e0b200db",
        "id": "pHH2cZCQFNBy"
      },
      "execution_count": null,
      "outputs": [
        {
          "output_type": "stream",
          "name": "stderr",
          "text": [
            "/usr/local/lib/python3.10/dist-packages/torchrl/envs/common.py:2989: DeprecationWarning: Your wrapper was not given a device. Currently, this value will default to 'cpu'. From v0.5 it will default to `None`. With a device of None, no device casting is performed and the resulting tensordicts are deviceless. Please set your device accordingly.\n",
            "  warnings.warn(\n"
          ]
        }
      ]
    },
    {
      "cell_type": "markdown",
      "source": [
        "## Funções Auxiliares"
      ],
      "metadata": {
        "id": "ZeGeXQHsdIry"
      }
    },
    {
      "cell_type": "code",
      "source": [
        "def plotar(dados, xlabel = 'Episódio', ylabel = 'Recompensa', title = 'Desempenho do Agente'):\n",
        "    plt.plot(dados)\n",
        "    plt.xlabel(xlabel)\n",
        "    plt.ylabel(ylabel)\n",
        "    plt.title(title)\n",
        "    plt.show()"
      ],
      "metadata": {
        "colab": {
          "base_uri": "https://localhost:8080/"
        },
        "id": "dTaYlTqqdMmF",
        "outputId": "a6485af3-a7e3-4fde-d071-9f4ec8694a59"
      },
      "execution_count": null,
      "outputs": [
        {
          "output_type": "stream",
          "name": "stderr",
          "text": [
            "/usr/local/lib/python3.10/dist-packages/ipykernel/ipkernel.py:283: DeprecationWarning: `should_run_async` will not call `transform_cell` automatically in the future. Please pass the result to `transformed_cell` argument and any exception that happen during thetransform in `preprocessing_exc_tuple` in IPython 7.17 and above.\n",
            "  and should_run_async(code)\n"
          ]
        }
      ]
    },
    {
      "cell_type": "markdown",
      "source": [
        "## Ciclo de treinamento"
      ],
      "metadata": {
        "id": "dScew76xFNBz"
      }
    },
    {
      "cell_type": "markdown",
      "source": [
        "Em vez de fixar um número específico de iterações a serem executadas, continuaremos treinando a rede até que ela atinja um determinado desempenho (definido arbitrariamente como 200 etapas no ambiente – com CartPole, sucesso é definido como ter trajetórias mais longas)."
      ],
      "metadata": {
        "id": "LKeIkT_EFNBz"
      }
    },
    {
      "cell_type": "code",
      "source": [
        "### Linhas de Inicialização\n",
        "total_count = 0     # Inicializa um contador para o número total de passos coletados.\n",
        "total_episodes = 0  # Inicializa um contador para o número total de episódios completados.\n",
        "X1 = None\n",
        "score_list_1 = []\n",
        "t0 = time.time()    # Armazena o tempo de início do treinamento para calcular a duração total no final.\n",
        "\n",
        "### Loop principal do treinamento.\n",
        "for i, data in enumerate(collector):\n",
        "\n",
        "    for X0 in data[\"next\",\"step_count\"]:\n",
        "      if X1 is not None:\n",
        "          if X0<X1:\n",
        "              score_list_1.append(X1.item())\n",
        "      X1 = X0\n",
        "\n",
        "    rb.extend(data)                                 # Grava dados no buffer de repetição\n",
        "    max_length = rb[:][\"next\", \"step_count\"].max()  # Calcula o comprimento máx. dos episódios armazenados no buffer de replay, acessando o campo \"step_count\".\n",
        "\n",
        "    ### Condição para Iniciar a Otimização\n",
        "    if len(rb) > init_rand_steps:         # Verifica se o tamanho do buffer de replay é maior que init_rand_steps (5000).\n",
        "        ### Loop de Otimização\n",
        "        for _ in range(optim_steps):      # Realiza várias etapas de otimização para cada lote de dados coletados para maior eficiência.\n",
        "            sample = rb.sample(200)       # Amostra 200 transições do buffer de replay.\n",
        "            loss_vals = loss(sample)      # Calcula os valores de perda usando a amostra\n",
        "            loss_vals[\"loss\"].backward()  # Calcula os gradientes da perda.\n",
        "            optim.step()                  # Atualiza os parâmetros da rede usando o otimizador.\n",
        "            optim.zero_grad()             # Zera os gradientes acumulados para a próxima iteração.\n",
        "\n",
        "            ### Atualização do Fator de Exploração\n",
        "            exploration_module.step(data.numel()) # Atualiza o fator de exploração baseado no número de elementos em data.\n",
        "\n",
        "            ### Atualização dos Parâmetros da Rede-alvo\n",
        "            updater.step() # Realiza a atualização suave dos parâmetros da rede-alvo.\n",
        "\n",
        "    ### Registra informações sobre o número máximo de passos e o tamanho do buffer de replay.\n",
        "    total_count += data.numel()                   # Atualiza o contador total de passos coletados.\n",
        "    total_episodes += data[\"next\", \"done\"].sum()  # Atualiza o contador total de episódios completados.\n",
        "\n",
        "    ### Monitoramento e Registro\n",
        "    # if i % 100:\n",
        "    if (total_episodes % 100)==0:\n",
        "        # torchrl_logger.info(f\"Record: {max_length}, Tamanho do Buffer {len(rb)}\")\n",
        "        torchrl_logger.info(f\"Episódios: {total_episodes}, Record: {max_length}, Tamanho do Buffer {len(rb)}\")\n",
        "\n",
        "    ### Condição de Parada\n",
        "    # if max_length == 500:\n",
        "    if total_episodes >= 10000:\n",
        "        break\n",
        "\n",
        "### Cálculo e Registro do Tempo Total de Treinamento\n",
        "t1 = time.time() # Armazena o tempo de término do treinamento.\n",
        "torchrl_logger.info(f\"Resolvido depois de {total_count} passos, {total_episodes} episódios em {t1-t0}s.\")\n",
        "plt.plot(score_list_1)\n",
        "plt.show()"
      ],
      "metadata": {
        "colab": {
          "base_uri": "https://localhost:8080/",
          "height": 1000
        },
        "outputId": "a2d24292-a7d1-47fe-aed5-b182915bef0a",
        "id": "iF8r84mAFNBz"
      },
      "execution_count": null,
      "outputs": [
        {
          "output_type": "stream",
          "name": "stderr",
          "text": [
            "2024-05-27 23:03:47,953 [torchrl][INFO] Episódios: 300, Record: 500, Tamanho do Buffer 15400\n",
            "2024-05-27 23:03:48,334 [torchrl][INFO] Episódios: 300, Record: 500, Tamanho do Buffer 15600\n",
            "2024-05-27 23:03:48,743 [torchrl][INFO] Episódios: 300, Record: 500, Tamanho do Buffer 15800\n",
            "2024-05-27 23:04:17,924 [torchrl][INFO] Episódios: 400, Record: 500, Tamanho do Buffer 30200\n",
            "2024-05-27 23:04:18,276 [torchrl][INFO] Episódios: 400, Record: 500, Tamanho do Buffer 30400\n",
            "2024-05-27 23:04:18,639 [torchrl][INFO] Episódios: 400, Record: 500, Tamanho do Buffer 30600\n",
            "2024-05-27 23:04:29,663 [torchrl][INFO] Episódios: 500, Record: 500, Tamanho do Buffer 36000\n",
            "2024-05-27 23:05:20,983 [torchrl][INFO] Episódios: 800, Record: 500, Tamanho do Buffer 61200\n",
            "2024-05-27 23:06:01,621 [torchrl][INFO] Episódios: 1000, Record: 500, Tamanho do Buffer 80600\n",
            "2024-05-27 23:07:37,440 [torchrl][INFO] Episódios: 1400, Record: 500, Tamanho do Buffer 100000\n",
            "2024-05-27 23:09:07,610 [torchrl][INFO] Episódios: 1900, Record: 500, Tamanho do Buffer 100000\n",
            "2024-05-27 23:09:53,588 [torchrl][INFO] Episódios: 2300, Record: 500, Tamanho do Buffer 100000\n",
            "2024-05-27 23:11:02,434 [torchrl][INFO] Episódios: 2900, Record: 500, Tamanho do Buffer 100000\n",
            "2024-05-27 23:11:12,221 [torchrl][INFO] Episódios: 3000, Record: 500, Tamanho do Buffer 100000\n",
            "2024-05-27 23:12:26,561 [torchrl][INFO] Episódios: 3900, Record: 500, Tamanho do Buffer 100000\n",
            "2024-05-27 23:13:14,401 [torchrl][INFO] Episódios: 4300, Record: 500, Tamanho do Buffer 100000\n",
            "2024-05-27 23:13:29,930 [torchrl][INFO] Episódios: 4400, Record: 500, Tamanho do Buffer 100000\n",
            "2024-05-27 23:14:22,603 [torchrl][INFO] Episódios: 4800, Record: 500, Tamanho do Buffer 100000\n",
            "2024-05-27 23:16:04,238 [torchrl][INFO] Episódios: 5700, Record: 500, Tamanho do Buffer 100000\n",
            "2024-05-27 23:16:09,742 [torchrl][INFO] Episódios: 5800, Record: 500, Tamanho do Buffer 100000\n",
            "2024-05-27 23:17:53,686 [torchrl][INFO] Episódios: 6600, Record: 500, Tamanho do Buffer 100000\n",
            "2024-05-27 23:18:34,258 [torchrl][INFO] Episódios: 6800, Record: 500, Tamanho do Buffer 100000\n",
            "2024-05-27 23:19:49,450 [torchrl][INFO] Episódios: 7300, Record: 500, Tamanho do Buffer 100000\n",
            "2024-05-27 23:19:49,822 [torchrl][INFO] Episódios: 7300, Record: 500, Tamanho do Buffer 100000\n",
            "2024-05-27 23:20:06,906 [torchrl][INFO] Episódios: 7400, Record: 500, Tamanho do Buffer 100000\n",
            "2024-05-27 23:20:25,174 [torchrl][INFO] Episódios: 7500, Record: 500, Tamanho do Buffer 100000\n",
            "2024-05-27 23:21:45,078 [torchrl][INFO] Episódios: 8100, Record: 500, Tamanho do Buffer 100000\n",
            "2024-05-27 23:22:41,426 [torchrl][INFO] Episódios: 8500, Record: 500, Tamanho do Buffer 100000\n",
            "2024-05-27 23:23:04,428 [torchrl][INFO] Episódios: 8700, Record: 500, Tamanho do Buffer 100000\n",
            "2024-05-27 23:23:16,942 [torchrl][INFO] Episódios: 8800, Record: 500, Tamanho do Buffer 100000\n",
            "2024-05-27 23:24:32,161 [torchrl][INFO] Episódios: 9300, Record: 500, Tamanho do Buffer 100000\n",
            "2024-05-27 23:25:07,309 [torchrl][INFO] Episódios: 9600, Record: 435, Tamanho do Buffer 100000\n",
            "2024-05-27 23:25:49,479 [torchrl][INFO] Resolvido depois de 665000 passos, 10004 episódios em 1347.5876893997192s.\n"
          ]
        },
        {
          "output_type": "display_data",
          "data": {
            "text/plain": [
              "<Figure size 640x480 with 1 Axes>"
            ],
            "image/png": "[encoded data removed]"
          },
          "metadata": {}
        }
      ]
    },
    {
      "cell_type": "markdown",
      "source": [
        "2024-05-23 13:40:35,303 [torchrl][INFO] solved after 109000 steps, 1001 episodes and in 188.57629585266113s. (3m)\n",
        "\n",
        "2024-05-23 20:29:44,710 [torchrl][INFO] Resolvido depois de 600000 passos, 5002 episódios em 755.278256893158s. (12m35s)\n",
        "\n",
        "2024-05-25 14:57:05,719 [torchrl][INFO] Resolvido depois de 457800 passos, 6002 episódios em 996.2224431037903s. (16m)\n",
        "\n",
        "2024-05-23 16:06:03,731 [torchrl][INFO] solved after 3094200 steps, 10001 episodes and in 5190.080612421036s. (1h26m)\n",
        "\n",
        "2024-05-25 21:59:55,043 [torchrl][INFO] Resolvido depois de 743600 passos, 10001 episódios em 1305.8049473762512s. (21m)"
      ],
      "metadata": {
        "id": "Okl4MmI6r0F0"
      }
    },
    {
      "cell_type": "markdown",
      "source": [
        "![image.png](data:image/png;base64,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)"
      ],
      "metadata": {
        "id": "IPP8P2d9LfJh"
      }
    },
    {
      "cell_type": "markdown",
      "source": [
        "![image.png](data:image/png;base64,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)"
      ],
      "metadata": {
        "id": "YAafDPUaQzBB"
      }
    },
    {
      "cell_type": "markdown",
      "source": [
        "## Avaliação"
      ],
      "metadata": {
        "id": "HZydgF6KbUpE"
      }
    },
    {
      "cell_type": "code",
      "source": [
        "eval_score = []\n",
        "mean_100_eval_score = []\n",
        "\n",
        "for i in range(1001):\n",
        "    eval_score.append(env.rollout(max_steps=500, policy=policy)[\"next\",\"step_count\"][-1].item())\n",
        "    if (i%100)==0:\n",
        "      if i!=0:\n",
        "        mean_100_eval_score.append(np.mean(eval_score[-100]))\n",
        "\n",
        "plt.plot(eval_score)\n",
        "plt.show()"
      ],
      "metadata": {
        "colab": {
          "base_uri": "https://localhost:8080/",
          "height": 430
        },
        "id": "pNDmFSe3bbJc",
        "outputId": "e5b98ff4-1a76-4f2d-96cd-e3c028306259"
      },
      "execution_count": null,
      "outputs": [
        {
          "output_type": "display_data",
          "data": {
            "text/plain": [
              "<Figure size 640x480 with 1 Axes>"
            ],
            "image/png": "[encoded data removed]"
          },
          "metadata": {}
        }
      ]
    },
    {
      "cell_type": "markdown",
      "source": [
        "100 - 36 s\n",
        "\n",
        "1000 - 5m"
      ],
      "metadata": {
        "id": "hQrmU-Opbfhw"
      }
    },
    {
      "cell_type": "code",
      "source": [
        "eval_score_mean = np.mean(mean_100_eval_score)\n",
        "eval_score_mean"
      ],
      "metadata": {
        "colab": {
          "base_uri": "https://localhost:8080/"
        },
        "id": "Qr6jroKfbv4d",
        "outputId": "97cd8cdf-c789-4399-8674-e38ee2823c64"
      },
      "execution_count": null,
      "outputs": [
        {
          "output_type": "execute_result",
          "data": {
            "text/plain": [
              "72.9"
            ]
          },
          "metadata": {},
          "execution_count": 39
        }
      ]
    },
    {
      "cell_type": "code",
      "source": [
        "# c = b/.500\n",
        "# plt.plot(c)\n",
        "# plt.show()\n",
        "Sucessos = [0]\n",
        "for i in mean_100_eval_score:\n",
        "  # if (i%1000)==0:\n",
        "  #   print(i)\n",
        "  bb = (i/500)*100\n",
        "  Sucessos.append(bb)\n",
        "plt.plot(Sucessos)\n",
        "plt.ylim(0,100)\n",
        "plt.show()"
      ],
      "metadata": {
        "colab": {
          "base_uri": "https://localhost:8080/",
          "height": 435
        },
        "id": "ZuWcw-2Xby9h",
        "outputId": "7a3562a6-be10-4ea2-acc1-0bc57caecf62"
      },
      "execution_count": null,
      "outputs": [
        {
          "output_type": "display_data",
          "data": {
            "text/plain": [
              "<Figure size 640x480 with 1 Axes>"
            ],
            "image/png": "[encoded data removed]"
          },
          "metadata": {}
        }
      ]
    },
    {
      "cell_type": "code",
      "source": [
        "Desempenho_Medio = np.mean(Sucessos[-10])\n",
        "Desempenho_Medio"
      ],
      "metadata": {
        "colab": {
          "base_uri": "https://localhost:8080/"
        },
        "id": "keUTWW_0b2b-",
        "outputId": "41626cf2-7371-446b-a98a-e0a0bd740d50"
      },
      "execution_count": null,
      "outputs": [
        {
          "output_type": "execute_result",
          "data": {
            "text/plain": [
              "14.799999999999999"
            ]
          },
          "metadata": {},
          "execution_count": 37
        }
      ]
    },
    {
      "cell_type": "markdown",
      "source": [
        "## Salvar Resultados"
      ],
      "metadata": {
        "id": "dyIyWNcop2Pa"
      }
    },
    {
      "cell_type": "code",
      "source": [
        "def salvar_array(score_list_1,\n",
        "                 Sucessos,\n",
        "                 Desempenho_Medio,\n",
        "                 eval_score,\n",
        "                 versao=\"V1\",\n",
        "                 epoch=1,\n",
        "                 caminho_arquivo = '/content/drive/My Drive/CBA 2024/Resultados/'):\n",
        "\n",
        "    recomp_ep = np.array(score_list_1)#.reshape(-1, 1)\n",
        "    recomp_ep_eval = np.array(eval_score)#.reshape(-1, 1)\n",
        "    sucess_rates = np.array(Sucessos)#.reshape(-1, 1)\n",
        "    recomp_med_eval_ep = np.array(Desempenho_Medio).reshape(1, )\n",
        "\n",
        "\n",
        "    array_coluna1 = recomp_ep\n",
        "    array_coluna2 = recomp_ep_eval\n",
        "    array_coluna3 = sucess_rates\n",
        "    array_coluna4 = recomp_med_eval_ep\n",
        "\n",
        "\n",
        "    # Preenchendo os arrays com tamanhos diferentes para que tenham o mesmo tamanho\n",
        "    tamanho_maximo = max(len(array_coluna1), len(array_coluna2), len(array_coluna3), len(array_coluna4))\n",
        "    array_coluna1 = np.pad(array_coluna1, (0, tamanho_maximo - len(array_coluna1)), mode='constant', constant_values=-9999)\n",
        "    array_coluna2 = np.pad(array_coluna2, (0, tamanho_maximo - len(array_coluna2)), mode='constant', constant_values=-9999)\n",
        "    array_coluna3 = np.pad(array_coluna3, (0, tamanho_maximo - len(array_coluna3)), mode='constant', constant_values=-9999)\n",
        "    array_coluna4 = np.pad(array_coluna4, (0, tamanho_maximo - len(array_coluna4)), mode='constant', constant_values=-9999)\n",
        "\n",
        "    # Criando o DataFrame com os arrays de colunas\n",
        "    df = pd.DataFrame({'Rewards_ep': array_coluna1,\n",
        "                   'Rewards_ep_eval': array_coluna2,\n",
        "                   'Sucess_Rates': array_coluna3,\n",
        "                       'Mean_Sucess_Rates': array_coluna4})\n",
        "\n",
        "    # Substituindo os valores de preenchimento por None\n",
        "    df = df.replace(-9999, None)\n",
        "    # Salvando o DataFrame em uma planilha Excel\n",
        "    # caminho_arquivo = 'Result_of_Epoch_'+ str(epoch) +'.xlsx'\n",
        "    # caminho_arquivo = '/content/drive/My Drive/CBA 2024/Resultados/'\n",
        "    nome_arquivo = '/Result_of_Epoch_'+ str(epoch) + '_' + str(versao) +'.xlsx'\n",
        "    caminho_completo = caminho_arquivo + nome_arquivo\n",
        "    df.to_excel(caminho_completo, index=False)\n",
        "\n",
        "    print(\"DataFrame salvo em\", caminho_completo)"
      ],
      "metadata": {
        "id": "rTjqXk2kqCSb"
      },
      "execution_count": null,
      "outputs": []
    },
    {
      "cell_type": "code",
      "source": [
        "def carrega_array(versao,\n",
        "                  epoch=1,\n",
        "                  caminho_arquivo = '/content/drive/My Drive/CBA 2024/Resultados/'):\n",
        "    # Substitua o caminho do arquivo pelo caminho real no seu Google Drive\n",
        "    # caminho_do_arquivo = '/content/drive/My Drive/CBA 2024/Resultados//Result_of_Epoch_'+ str(epoch) + '_' + str(versao) +'.xlsx'\n",
        "    nome_arquivo = '/Result_of_Epoch_'+ str(epoch) + '_' + str(versao) +'.xlsx'\n",
        "    caminho_completo = caminho_arquivo + nome_arquivo\n",
        "\n",
        "    # Carregue a planilha usando o pandas\n",
        "    # df = pd.read_excel(caminho_do_arquivo)\n",
        "    df = pd.ExcelFile(caminho_completo)\n",
        "    # acoes = df.parse('Ações (A)')\n",
        "    # resultado = df.parse()\n",
        "    resultado = df.parse('Sheet1')\n",
        "    # empresa = np.array(acoes.Empresas)\n",
        "\n",
        "    # Exiba o DataFrame para verificar se a leitura foi bem-sucedida\n",
        "    # acoes.head()\n",
        "    # resultado.head()\n",
        "\n",
        "    # # Plotagem\n",
        "    # # from matplotlib import pyplot as plt\n",
        "    # plt.figure()\n",
        "    # # plt.subplot(1, 2, 1)  # Subplot 1\n",
        "    # resultado['Rewards_ep'].plot(kind='line', figsize=(8, 4), title='Rewards_ep_train')\n",
        "    # plt.gca().spines[['top', 'right']].set_visible(False)\n",
        "\n",
        "    # plt.figure()\n",
        "    # # plt.subplot(1, 2, 1)  # Subplot 1\n",
        "    # resultado['Rewards_ep_eval'].plot(kind='line', figsize=(8, 4), title='Rewards_ep_eval')\n",
        "    # plt.gca().spines[['top', 'right']].set_visible(False)\n",
        "\n",
        "\n",
        "    # # from matplotlib import pyplot as plt\n",
        "    # plt.figure()\n",
        "    # # plt.subplot(1, 2, 2)  # Subplot 2\n",
        "    # resultado['Sucess_Rates'].plot(kind='line', figsize=(8, 4), title='Sucess_Rates')\n",
        "    # plt.gca().spines[['top', 'right']].set_visible(False)\n",
        "\n",
        "    return resultado"
      ],
      "metadata": {
        "id": "7nkCcrz7qW9m"
      },
      "execution_count": null,
      "outputs": []
    },
    {
      "cell_type": "markdown",
      "source": [
        "## Salvando e carregando"
      ],
      "metadata": {
        "id": "BiBT8kCXcYwF"
      }
    },
    {
      "cell_type": "code",
      "source": [
        "salvar_array(score_list_1, Sucessos, Desempenho_Medio, eval_score, \"V1\", 11)"
      ],
      "metadata": {
        "colab": {
          "base_uri": "https://localhost:8080/"
        },
        "id": "64CQEuJbcclr",
        "outputId": "60e7a212-bce0-4947-fd89-d66c06bce52e"
      },
      "execution_count": null,
      "outputs": [
        {
          "output_type": "stream",
          "name": "stdout",
          "text": [
            "DataFrame salvo em /content/drive/My Drive/CBA 2024/Resultados//Result_of_Epoch_10_V1.xlsx\n"
          ]
        }
      ]
    },
    {
      "cell_type": "code",
      "source": [
        "# resultado_1_V1 = carrega_array(\"V1\", 1)"
      ],
      "metadata": {
        "id": "qkmvsw9Mcp1v"
      },
      "execution_count": null,
      "outputs": []
    },
    {
      "cell_type": "code",
      "source": [
        "resultado = []\n",
        "for i in range(1, 11):\n",
        "  resultado.append(carrega_array(\"V1\", i))"
      ],
      "metadata": {
        "id": "xD5Yul3anulV"
      },
      "execution_count": null,
      "outputs": []
    },
    {
      "cell_type": "markdown",
      "source": [
        "## Resultado Médio"
      ],
      "metadata": {
        "id": "Xk2F3wTRczfC"
      }
    },
    {
      "cell_type": "code",
      "source": [
        "soma_resultado = 0\n",
        "for i in resultado:\n",
        "  soma_resultado += i\n",
        "resultado_medio_V1 = soma_resultado/10"
      ],
      "metadata": {
        "colab": {
          "base_uri": "https://localhost:8080/"
        },
        "id": "hmiwlQPeoRu5",
        "outputId": "70ba880c-b386-45e6-af1a-6314bc339cb5"
      },
      "execution_count": null,
      "outputs": [
        {
          "output_type": "stream",
          "name": "stderr",
          "text": [
            "/usr/local/lib/python3.10/dist-packages/ipykernel/ipkernel.py:283: DeprecationWarning: `should_run_async` will not call `transform_cell` automatically in the future. Please pass the result to `transformed_cell` argument and any exception that happen during thetransform in `preprocessing_exc_tuple` in IPython 7.17 and above.\n",
            "  and should_run_async(code)\n"
          ]
        }
      ]
    },
    {
      "cell_type": "code",
      "source": [
        "# resultado_medio_V1 = (resultado_1_V1 +\n",
        "#                    resultado_2_V1 +\n",
        "#                    resultado_3_V1 +\n",
        "#                    resultado_4_V1 +\n",
        "#                    resultado_5_V1 +\n",
        "#                    resultado_6_V1 +\n",
        "#                    resultado_7_V1 +\n",
        "#                    resultado_8_V1 +\n",
        "#                    resultado_9_V1 +\n",
        "#                    resultado_10_V1) / 10 # Melhoria: Criar uma lista com os resultados quando for carregar, fica mais fácil para tirar a média\n",
        "plotar(resultado_medio_V1['Rewards_ep'], xlabel = 'Episódios', ylabel = 'Recompensas', title = 'Desempenho Médio por Episódio no Treinamento')"
      ],
      "metadata": {
        "colab": {
          "base_uri": "https://localhost:8080/",
          "height": 473
        },
        "id": "Nw-UMtzoc_Zw",
        "outputId": "f13d4276-5f49-4741-d088-403f148a05cd"
      },
      "execution_count": null,
      "outputs": [
        {
          "output_type": "display_data",
          "data": {
            "text/plain": [
              "<Figure size 640x480 with 1 Axes>"
            ],
            "image/png": "[encoded data removed]"
          },
          "metadata": {}
        }
      ]
    },
    {
      "cell_type": "code",
      "source": [
        "plotar(resultado_medio_V1['Rewards_ep_eval'], xlabel = 'Episódios', ylabel = 'Recompensas', title = 'Desempenho Médio por Episódio na Avaliação')"
      ],
      "metadata": {
        "colab": {
          "base_uri": "https://localhost:8080/",
          "height": 473
        },
        "id": "UfFT6wD7dC3R",
        "outputId": "34d1ac75-4701-48be-ebe9-7040eb33ce2d"
      },
      "execution_count": null,
      "outputs": [
        {
          "output_type": "display_data",
          "data": {
            "text/plain": [
              "<Figure size 640x480 with 1 Axes>"
            ],
            "image/png": "[encoded data removed]"
          },
          "metadata": {}
        }
      ]
    },
    {
      "cell_type": "code",
      "source": [
        "plotar(resultado_medio_V1['Sucess_Rates'], xlabel = 'Testes', ylabel = 'Taxa de Sucesso (%)', title = 'Taxa de Sucesso Médio na Avaliação')"
      ],
      "metadata": {
        "colab": {
          "base_uri": "https://localhost:8080/",
          "height": 472
        },
        "id": "RNFIj_5kdFx_",
        "outputId": "c57985b4-2b1f-4ba4-e165-bc652aa2612b"
      },
      "execution_count": null,
      "outputs": [
        {
          "output_type": "display_data",
          "data": {
            "text/plain": [
              "<Figure size 640x480 with 1 Axes>"
            ],
            "image/png": "[encoded data removed]"
          },
          "metadata": {}
        }
      ]
    },
    {
      "cell_type": "markdown",
      "source": [
        "## Renderização"
      ],
      "metadata": {
        "id": "-od6kh8vFNB0"
      }
    },
    {
      "cell_type": "markdown",
      "source": [
        "Por fim, executamos o ambiente em tantas etapas quanto possível e salvamos o vídeo localmente (observe que não estamos explorando)."
      ],
      "metadata": {
        "id": "iH09FFkCFNB1"
      }
    },
    {
      "cell_type": "code",
      "source": [
        "# # Método que realiza uma execução no ambiente, coletando observações, ações, recompensas e outras informações.\n",
        "# record_env.rollout(max_steps=1000, policy=policy)\n",
        "# # max_steps=1000: Define o número máximo de passos a serem executados durante o rollout.\n",
        "# # policy=policy: A política que o agente deve seguir durante a execução.\n",
        "\n",
        "# # Método que salva os vídeos gravados durante as execuções no ambiente para o disco, utilizando o logger configurado anteriormente.\n",
        "# video_recorder.dump()"
      ],
      "metadata": {
        "id": "yBTUpQcTFNB2"
      },
      "execution_count": null,
      "outputs": []
    },
    {
      "cell_type": "code",
      "source": [
        "# logger # CSVLogger(exp_name=dqn, experiment=CSVExperiment(log_dir=./training_loop/dqn))"
      ],
      "metadata": {
        "id": "IG1Mjo14FNB2"
      },
      "execution_count": null,
      "outputs": []
    }
  ]
}